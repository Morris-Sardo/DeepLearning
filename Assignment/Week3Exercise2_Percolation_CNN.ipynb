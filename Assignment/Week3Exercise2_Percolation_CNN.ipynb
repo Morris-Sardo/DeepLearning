{
 "cells": [
  {
   "cell_type": "markdown",
   "metadata": {},
   "source": [
    "# Comparing architectures"
   ]
  },
  {
   "cell_type": "markdown",
   "metadata": {},
   "source": [
    "The aim of this practical is to use a new synthetic dataset: percolations through a rectangle, explained below. \n",
    "\n",
    "The advantage of using this dataset is that the inputs are small, so that the neural nets can be small but deep, and it is possible for you to compare many different net designs quickly, training only with a cpu. \n",
    "\n",
    "But the concept of percolation is 'deep': there is no simple logical description of when there is a percolating path across a rectangle. Logistic regression fails completely.  There are many paths from one side of the square to the other, and the neural network needs to be able to recognise all of them. The function required to do this is highly non-linear, and there are dependencies between more than 8 values in a 8x8 square. \n",
    "\n",
    "Ironically, there is a simple iterative Python function that easily computes whether a matrix percolates, using depth first search. This is very quick, uses little computation, and it is 100% accurate.  \n",
    "\n",
    "\n",
    "Percolation is not an easy property for neural nets to recognise. Nobody has yet managed to design a neural net that gets 100% accuracy !! Even after 30,000 training examples...   I challenge you to try ! "
   ]
  },
  {
   "cell_type": "markdown",
   "metadata": {},
   "source": [
    "# Percolation data"
   ]
  },
  {
   "cell_type": "markdown",
   "metadata": {},
   "source": [
    "To define some image data, we will consider small images, initially of size 8x8 in black and white (or 0 and 1). \n",
    "\n",
    "The first concept that we will try to teach a NN is whether there is a continuous path of \"white\" pixels between the two sides of the image.\n",
    "\n",
    "The function `percolate` returns True is there is a continuous path between the left and right sides of a binary image. (Aspects of python that are used are sets, a while loop, and break. )  "
   ]
  },
  {
   "cell_type": "code",
   "execution_count": 35,
   "metadata": {},
   "outputs": [],
   "source": [
    "import numpy as np\n",
    "\n",
    "import matplotlib.pyplot as plt\n",
    "\n",
    "%matplotlib inline"
   ]
  },
  {
   "cell_type": "code",
   "execution_count": 36,
   "metadata": {},
   "outputs": [],
   "source": [
    "from random import randint"
   ]
  },
  {
   "cell_type": "code",
   "execution_count": 37,
   "metadata": {},
   "outputs": [],
   "source": [
    "# this function does a depth-first search across a matrix of 0s and 1s, \n",
    "# looking for a path of 1s between the first and last columns of the matrix\n",
    "# such a path is called a 'percolation path'\n",
    "\n",
    "def percolate( mat ):\n",
    "    \"\"\"\n",
    "    Returns True if there is a percolation path of 1s from col 0 col -1 of a matrix of 0s and 1s\n",
    "    \"\"\"\n",
    "    nrows = mat.shape[0]\n",
    "    ncols = mat.shape[1]\n",
    "    frontier = set()\n",
    "    for i in range(0,nrows):\n",
    "        if mat[i,0]:\n",
    "            frontier.add( (i,0) )\n",
    "    explored = set()\n",
    "    flag = False # this will be returned if the frontier becomes empty without finding a\n",
    "                 # filled pixel in the right-most column\n",
    "    while frontier: # frontier evaluates to True in this context if it is non-empty\n",
    "        r,c = frontier.pop()\n",
    "        explored.add( (r,c) )\n",
    "        if r > 0: # North\n",
    "            if mat[r-1,c]:\n",
    "                coords = (r-1,c)\n",
    "                if coords not in explored: \n",
    "                    if coords not in frontier: # this order of testing is necessary since each element of explored has been in frontier\n",
    "                        frontier.add( coords )\n",
    "        if c < ncols-1: # East\n",
    "            if mat[r,c+1]:\n",
    "                if c+1 == mat.shape[1]-1 : # Hurray, we have percolated to the last column\n",
    "                    flag = True\n",
    "                    break\n",
    "                coords = (r,c+1)\n",
    "                if coords not in explored: \n",
    "                    if coords not in frontier: # this order of testing is necessary since each element of explored has been in frontier\n",
    "                        frontier.add( coords )\n",
    "        if r < nrows-1: # South\n",
    "            if mat[r+1,c]:\n",
    "                coords = (r+1,c)\n",
    "                if coords not in explored: \n",
    "                    if coords not in frontier: # this order of testing is necessary since each element of explored has been in frontier\n",
    "                        frontier.add( coords )\n",
    "        if c > 0: # West\n",
    "            if mat[r,c-1]:\n",
    "                coords = (r,c-1)\n",
    "                if coords not in explored: \n",
    "                    if coords not in frontier: # this order of testing is necessary since each element of explored has been in frontier\n",
    "                        frontier.add( coords )\n",
    "    return flag\n",
    "        "
   ]
  },
  {
   "cell_type": "markdown",
   "metadata": {},
   "source": [
    "Now test the percolate function. We will generate random images with a probability 0.6 probability of 1 in each pixel. "
   ]
  },
  {
   "cell_type": "code",
   "execution_count": null,
   "metadata": {},
   "outputs": [],
   "source": [
    "tmp = np.random.random([8,8]) > 0.4\n",
    "\n",
    "plt.imshow(tmp), percolate(tmp)\n",
    "\n",
    "# the first result is an image; the second result is True if there is a continuous path of yellow squares from the left to\n",
    "# the right side of the image. The path is continuous if the yellow squares are joined at one side: two yellow squares \n",
    "# at a corner do not count as joined in a path\n",
    "\n",
    "# you can evaluate this cell many times, and each time look at the resulting plot and answer, to check that you \n",
    "# understand the notion of percolation, and also that the `percolate` function is getting it right ! "
   ]
  },
  {
   "cell_type": "code",
   "execution_count": 39,
   "metadata": {
    "scrolled": true
   },
   "outputs": [
    {
     "data": {
      "text/plain": [
       "1.8446744073709552e+19"
      ]
     },
     "execution_count": 39,
     "metadata": {},
     "output_type": "execute_result"
    }
   ],
   "source": [
    "# How many 8x8 binary patterns are there? \n",
    "\n",
    "2.0**64"
   ]
  },
  {
   "cell_type": "markdown",
   "metadata": {},
   "source": [
    "More than 18 billion, so our NN will need to generalise, because we will give it training sets of far fewer than 18 billion examples. "
   ]
  },
  {
   "cell_type": "markdown",
   "metadata": {},
   "source": [
    "# Construct datasets \n",
    "\n",
    "The joy of synthetic data is that we can construct as much of it as we want..."
   ]
  },
  {
   "cell_type": "code",
   "execution_count": 40,
   "metadata": {},
   "outputs": [],
   "source": [
    "import torch\n",
    "import torch.nn as nn\n",
    "import torch.nn.functional as F  # this includes tensor functions that we can use in backwards pass\n",
    "import torchvision\n",
    "import torchvision.datasets as datasets\n",
    "from torchvision import transforms\n",
    "import torch.optim as optim"
   ]
  },
  {
   "cell_type": "code",
   "execution_count": 41,
   "metadata": {},
   "outputs": [],
   "source": [
    "def make_percolation_dataset(side=8,threshold=0.42,n_examples=10):\n",
    "    \"\"\"\n",
    "    This function generates an array of random images, in the form needed for Keras, and \n",
    "    then labels them as percolati# ng or not, using the percolate function. Roughly 50% of the\n",
    "    images will have class 1 (percolating), so the dataset is likely to be reasonably balanced. \n",
    "    \"\"\"\n",
    "    X_data = (np.random.random([n_examples,side,side,1]) > threshold).astype(float) \n",
    "    Y_data = np.zeros([n_examples,1])\n",
    "    for i in range(0,n_examples):\n",
    "        if percolate(X_data[i,:,:,0]):\n",
    "            Y_data[i,0] = 1\n",
    "    return [(torch.tensor(x.astype(np.float32)).reshape(1,8,8), torch.tensor(float(y)).reshape(1) )  for x,y in zip( X_data, Y_data)]\n",
    "\n",
    "# the types of the numbers in the tensors need to be float32: the most natural place to do this data conversion\n",
    "# is in generating the datasets. "
   ]
  },
  {
   "cell_type": "code",
   "execution_count": 42,
   "metadata": {},
   "outputs": [
    {
     "name": "stderr",
     "output_type": "stream",
     "text": [
      "C:\\Users\\papap\\AppData\\Local\\Temp\\ipykernel_13688\\2932291848.py:12: DeprecationWarning: Conversion of an array with ndim > 0 to a scalar is deprecated, and will error in future. Ensure you extract a single element from your array before performing this operation. (Deprecated NumPy 1.25.)\n",
      "  return [(torch.tensor(x.astype(np.float32)).reshape(1,8,8), torch.tensor(float(y)).reshape(1) )  for x,y in zip( X_data, Y_data)]\n"
     ]
    }
   ],
   "source": [
    "training_set = make_percolation_dataset( n_examples = 1000 )\n",
    "test_set = make_percolation_dataset( n_examples = 1000 )"
   ]
  },
  {
   "cell_type": "markdown",
   "metadata": {},
   "source": [
    "When we make a dataset, we should always check how many there are of each class:  "
   ]
  },
  {
   "cell_type": "code",
   "execution_count": 43,
   "metadata": {},
   "outputs": [
    {
     "data": {
      "text/plain": [
       "0.461"
      ]
     },
     "execution_count": 43,
     "metadata": {},
     "output_type": "execute_result"
    }
   ],
   "source": [
    "# this calculates the fraction of positive examples in the training set\n",
    "sum( [ x[1].item() for x in training_set ] ) / len( training_set)"
   ]
  },
  {
   "cell_type": "markdown",
   "metadata": {},
   "source": [
    "The fraction of positive examples should ideally be close to 0.5  -- the default probability that a pixel is equal to 1 was chosen to ensure this. "
   ]
  },
  {
   "cell_type": "code",
   "execution_count": null,
   "metadata": {},
   "outputs": [],
   "source": [
    "# check that a random element of the training set is correctly labelled\n",
    "x,y = training_set[376]\n",
    "plt.imshow(x.numpy().squeeze() ), y  # check a random element of the training set to see it is correct\n",
    "# we need to squeeze the "
   ]
  },
  {
   "cell_type": "markdown",
   "metadata": {},
   "source": [
    "If there is a continuous yellow path from the left side to the right side of the image, then the image \"percolates\" and the y value should be 1, otherwise the y value should be 0. "
   ]
  },
  {
   "cell_type": "markdown",
   "metadata": {},
   "source": [
    "# Constructing and training models"
   ]
  },
  {
   "cell_type": "markdown",
   "metadata": {},
   "source": [
    "### A naive fully connected  Dense model for detecting percolation"
   ]
  },
  {
   "cell_type": "markdown",
   "metadata": {},
   "source": [
    "(For tutorial purposes) the first thing to try is a naive model which pays no attention to the image structure. I don't expect this type of model to work well - but you may find a way to surprise me. \n",
    "\n",
    "In the model defined below, we flatten the image to a single row of values, and then we put in a single layer of neurons, each one of which is connected to all of the inputs. In other words, each neuron in this layer has 64 inputs, and then there is a final neuron which gives the output. \n",
    "\n",
    "You will (I hope) find that this is a terrible architecture for this problem. You will find that if there are too few neurons, then the model cannot even fit the training data.  If there are too many neurons in the Dense layer, then the model will fit the training data, but fail almost completely on the validation data: that is, the model will overfit badly. \n",
    "\n",
    "What would be the only way to get this poorly designed model to work? *Use a lot of training data!* . You can try constructing a much larger training set, and then see if you can get this model to classify correctly.  I doubt it - but you might succeed. \n",
    "\n",
    "Does adding more dense layers help?  Does adding regularisation - either `l1`, `l2`, or dropout - help? "
   ]
  },
  {
   "cell_type": "code",
   "execution_count": 45,
   "metadata": {},
   "outputs": [],
   "source": [
    "# our simplest neural net - it is just going to be a linear layer and then sigmoid \n",
    "# (equivalent to softmax when there are only two classes)\n",
    "# This is simply logistic regression. We expect it to do badly on validation data, but it \n",
    "# may overfit  training data\n",
    "class NN1( nn.Module ):\n",
    "    \n",
    "    def __init__(self): \n",
    "        super(NN1, self).__init__()\n",
    "        self.layers = nn.Sequential( \n",
    "            nn.Flatten(), \n",
    "            nn.Linear(64,1),\n",
    "            nn.Sigmoid())  # a linear layer (a matrix, plus biases) with 784 inputs and 10 outputs\n",
    "             # if we are going to make probabilistic categorical predictions, it is more flexible to allow unnormalised \n",
    "             # outputs, because we can use  different functions for the predictions and and in calculating the loss, as \n",
    "             # we shall soon see\n",
    "    \n",
    "    \n",
    "    def forward( self, x ): # computes the forward pass ... this one is particularly simple\n",
    "        x = self.layers( x )\n",
    "        return x"
   ]
  },
  {
   "cell_type": "code",
   "execution_count": 46,
   "metadata": {
    "scrolled": true
   },
   "outputs": [],
   "source": [
    "net = NN1() \n",
    "# the first time I coded this, I thought nn would be a good name for the network,\n",
    "# but unfortunately it masks the PyTorch nn module .... so I am using net instead"
   ]
  },
  {
   "cell_type": "code",
   "execution_count": 47,
   "metadata": {},
   "outputs": [
    {
     "data": {
      "text/plain": [
       "Sequential(\n",
       "  (0): Flatten(start_dim=1, end_dim=-1)\n",
       "  (1): Linear(in_features=64, out_features=1, bias=True)\n",
       "  (2): Sigmoid()\n",
       ")"
      ]
     },
     "execution_count": 47,
     "metadata": {},
     "output_type": "execute_result"
    }
   ],
   "source": [
    "net.layers"
   ]
  },
  {
   "cell_type": "code",
   "execution_count": null,
   "metadata": {},
   "outputs": [],
   "source": [
    "# the state_dict is a useful attribute of a Model, \n",
    "# which contains convenient names as keys for all the tensors\n",
    "net.state_dict()"
   ]
  },
  {
   "cell_type": "markdown",
   "metadata": {},
   "source": [
    "Now we will go step by step through all the stages of constructing a NN training loop, before putting it all together."
   ]
  },
  {
   "cell_type": "code",
   "execution_count": 49,
   "metadata": {},
   "outputs": [],
   "source": [
    "# DataLoader is a useful utility class provided by pytorch for extracting minibatches from \n",
    "# a large dataset. \n",
    "\n",
    "trainloader = torch.utils.data.DataLoader( training_set, batch_size=4, shuffle=True)\n",
    "testloader = torch.utils.data.DataLoader( test_set, batch_size=4, shuffle=True)\n",
    "\n",
    "# if you want to change the batch size, you need to define a new dataloader: \n",
    "# the dataloader is a lightweight class that just provides iteration over the dataset"
   ]
  },
  {
   "cell_type": "code",
   "execution_count": 50,
   "metadata": {},
   "outputs": [],
   "source": [
    "# we construct a (temporary) iterator from trainloader, and we get the first minibatch\n",
    "tmpiter = iter(trainloader)\n",
    "\n",
    "images, labels = next(tmpiter) # the minibatch is a list of [ images, labels ]\n",
    "\n",
    "# let's check what form the images and labels come in"
   ]
  },
  {
   "cell_type": "code",
   "execution_count": null,
   "metadata": {},
   "outputs": [],
   "source": [
    "labels"
   ]
  },
  {
   "cell_type": "code",
   "execution_count": 52,
   "metadata": {},
   "outputs": [
    {
     "data": {
      "text/plain": [
       "torch.Size([4, 1, 8, 8])"
      ]
     },
     "execution_count": 52,
     "metadata": {},
     "output_type": "execute_result"
    }
   ],
   "source": [
    "images.shape # always check the shapes of your tensors..."
   ]
  },
  {
   "cell_type": "code",
   "execution_count": null,
   "metadata": {},
   "outputs": [],
   "source": [
    "net.forward( images ) # does our nn work? What does it produce? "
   ]
  },
  {
   "cell_type": "markdown",
   "metadata": {},
   "source": [
    "### Which loss function? \n",
    "\n",
    "We will use log-loss, because we are predicting classes (0 and 1, non-percolating and percolating).  \n",
    "\n",
    "We could use two outputs, produced by softmax, and cross-entropy loss, as we did for MNIST. \n",
    "\n",
    "But then we have highly redundant output weights: this may (I am not sure) \n",
    "\n",
    "We can equivalently use one sigmoid neuron as output: the output of this neuron is the predicted probability of 1. \n",
    "\n",
    "The loss function is provided by PyTorch: BCELoss.  Look at its documentation on the PyTorch site. "
   ]
  },
  {
   "cell_type": "code",
   "execution_count": 54,
   "metadata": {},
   "outputs": [],
   "source": [
    "# BCELoss is binary cross entropy loss: \n",
    "# this takes a single probability (as output by a sigmoid neuron for example)\n",
    "loss_function = nn.BCELoss() \n",
    "\n",
    "# note that the result of loss function is a one element tensor: it needs to be \n",
    "# tensor because we start the backward pass from the loss. "
   ]
  },
  {
   "cell_type": "code",
   "execution_count": 55,
   "metadata": {},
   "outputs": [
    {
     "data": {
      "text/plain": [
       "tensor(0.7629, grad_fn=<BinaryCrossEntropyBackward0>)"
      ]
     },
     "execution_count": 55,
     "metadata": {},
     "output_type": "execute_result"
    }
   ],
   "source": [
    "loss_function( net.forward( images ), labels )"
   ]
  },
  {
   "cell_type": "markdown",
   "metadata": {},
   "source": [
    "-Log( 0.5 ) = 0.69, so we expect the average loss to be 0.7ish, as the network is not trained yet. "
   ]
  },
  {
   "cell_type": "markdown",
   "metadata": {},
   "source": [
    "### Calculating Accuracy\n",
    "\n",
    "How do we calculate accuracy, which is the percentage of correct predictions? \n",
    "\n",
    "We cound a sigmoid output that is > 0.5 as predicting a 1, and if it is < 0.5, as a prediction of 0. "
   ]
  },
  {
   "cell_type": "code",
   "execution_count": null,
   "metadata": {},
   "outputs": [],
   "source": [
    "result = net.forward(images)\n",
    "result"
   ]
  },
  {
   "cell_type": "code",
   "execution_count": null,
   "metadata": {},
   "outputs": [],
   "source": [
    "result > 0.5"
   ]
  },
  {
   "cell_type": "code",
   "execution_count": null,
   "metadata": {},
   "outputs": [],
   "source": [
    "labels > 0.5 "
   ]
  },
  {
   "cell_type": "code",
   "execution_count": 59,
   "metadata": {},
   "outputs": [
    {
     "data": {
      "text/plain": [
       "2"
      ]
     },
     "execution_count": 59,
     "metadata": {},
     "output_type": "execute_result"
    }
   ],
   "source": [
    "# This expression gives the sum of the number of correct predictions in the batch\n",
    "# Note that we access the value of a zero-dimensional tensor with .item()\n",
    "\n",
    "sum( (result > 0.5) == (labels > 0.5 ) ).item()"
   ]
  },
  {
   "cell_type": "code",
   "execution_count": 60,
   "metadata": {},
   "outputs": [],
   "source": [
    "# this function calculates the loss and error rate on the validation set\n",
    "# assuming that the output of the neural net nn is a single prediction probability, from a single sigmoid neuron. \n",
    "\n",
    "def accuracy_and_loss( net, loss_function, dataloader ):\n",
    "    total_correct = 0 \n",
    "    total_loss = 0.0 \n",
    "    total_examples = 0 \n",
    "    n_batches = 0 \n",
    "    with torch.no_grad():  # we do not neet to compute the gradients when making predictions on the validation set\n",
    "        for data in dataloader: \n",
    "            images, labels = data\n",
    "            outputs = net(images)\n",
    "            batch_loss = loss_function(outputs, labels) # this is averaged over the batch\n",
    "            n_batches += 1\n",
    "            total_loss += batch_loss.item()\n",
    "            total_correct += sum( (outputs > 0.5 ) == ( labels > 0.5 ) ).item() # number correct in the minibatch\n",
    "            total_examples += labels.size(0) # the number of labels, which is just the size of the minibatch \n",
    "             \n",
    "    \n",
    "    accuracy = total_correct / total_examples\n",
    "    mean_loss = total_loss / n_batches\n",
    "\n",
    "    error_rate= 1 - accuracy\n",
    "\n",
    "    \n",
    "    \n",
    "    return ( accuracy, mean_loss, error_rate)\n",
    "    #print( \"Accuracy on test set: %d %%\" %(100 * correct/total_examples))\n"
   ]
  },
  {
   "cell_type": "code",
   "execution_count": 61,
   "metadata": {},
   "outputs": [
    {
     "data": {
      "text/plain": [
       "(0.48, 0.708239634513855, 0.52)"
      ]
     },
     "execution_count": 61,
     "metadata": {},
     "output_type": "execute_result"
    }
   ],
   "source": [
    "# Testing accuracy_and_loss\n",
    "\n",
    "accuracy_and_loss( net, loss_function, testloader)"
   ]
  },
  {
   "cell_type": "markdown",
   "metadata": {},
   "source": [
    "Accuracy should be 0.5ish, loss should be 0.7ish"
   ]
  },
  {
   "cell_type": "markdown",
   "metadata": {},
   "source": [
    "## Putting it all together: training a network"
   ]
  },
  {
   "cell_type": "code",
   "execution_count": null,
   "metadata": {},
   "outputs": [],
   "source": [
    "# This cell is our pattern for nn initialisation and training \n",
    "# In the next section we convert it into a function...\n",
    "\n",
    "trainloader = torch.utils.data.DataLoader( training_set, batch_size=32, shuffle=True)\n",
    "testloader = torch.utils.data.DataLoader( test_set, batch_size=32, shuffle=True)\n",
    "\n",
    "net = NN1()\n",
    "optimizer1 = optim.RMSprop( net.parameters(), lr=0.001 )\n",
    "\n",
    "for epoch in range(200): # number of times to loop over the dataset\n",
    "    total_loss = 0 \n",
    "    total_correct = 0 \n",
    "    total_examples = 0 \n",
    "    n_mini_batches = 0\n",
    "    \n",
    "    for i, mini_batch in enumerate( trainloader, 0 ):\n",
    "        images, labels = mini_batch\n",
    "        \n",
    "        # zero the parameter gradients\n",
    "        # all the parameters that are being updated are in the optimizer, \n",
    "        # so if we zero the gradients of all the tensors in the optimizer, \n",
    "        # that is the safest way to zero all the gradients\n",
    "        optimizer1.zero_grad()\n",
    "        \n",
    "        outputs = net(images) # this is the forward pass\n",
    "        \n",
    "        loss = loss_function ( outputs, labels )\n",
    "        \n",
    "        loss.backward() # does the backward pass and computes all gradients\n",
    "        \n",
    "        optimizer1.step() # does one optimisation step\n",
    "        \n",
    "        n_mini_batches += 1 # keep track of number of minibatches, and collect the loss for each minibatch\n",
    "        total_loss += loss.item() # remember that the loss is a zero-order tensor\n",
    "        # so that to extract its value, we use .item(), as we cannot index as there are no dimensions\n",
    "        \n",
    "        # keep track of number of examples, and collect number correct in each minibatch\n",
    "        total_correct += sum( ( outputs > 0.5 ) == ( labels > 0.5 ) ).item()\n",
    "        total_examples += len( labels )\n",
    "        \n",
    "    # calculate statistics for each epoch and print them. \n",
    "    # You can alter this code to accumulate these statistics into lists/vectors and plot them\n",
    "    epoch_training_accuracy = total_correct / total_examples\n",
    "    epoch_training_loss = total_loss / n_mini_batches\n",
    "    \n",
    "    val_accuracy, val_loss, val_error_rate = accuracy_and_loss( net, loss_function, testloader )\n",
    "    \n",
    "    print('Epoch %d loss: %.3f acc: %.3f val_loss: %.3f val_acc: %.3f val_error_rate: %.3f'\n",
    "          %(epoch+1, epoch_training_loss, epoch_training_accuracy, val_loss, val_accuracy,  val_error_rate  ))\n",
    "            \n",
    "\n"
   ]
  },
  {
   "cell_type": "markdown",
   "metadata": {},
   "source": [
    "As we might expect, logistic regression does not work well in identifying percolation. The concept is too complicated. We need a more complex network. \n",
    "\n",
    "From now on it is up to you to design a range of network architectures, and see how well they do on this apparently simple problem. "
   ]
  },
  {
   "cell_type": "markdown",
   "metadata": {},
   "source": [
    "You can try numbers of hidden units ranging from 10 to 1000; you can try multiple layers (but with less than 100 neurons per layer - connecting a layer with 1000 neurons to another with 1000 neurons needs a million weights, which is too many for the CPU to handle in a reasonable time.)"
   ]
  },
  {
   "cell_type": "markdown",
   "metadata": {},
   "source": [
    "When you define a larger model, start off with a small number of epochs - 2,say! you can then figure out how long a longer training will take. "
   ]
  },
  {
   "cell_type": "markdown",
   "metadata": {},
   "source": [
    "See below for how to examine the structure of the history, and to plot curves of loss and accuracy during training for both the training and validation data. "
   ]
  },
  {
   "cell_type": "code",
   "execution_count": 63,
   "metadata": {},
   "outputs": [],
   "source": [
    "# a nn with one hidden layer\n",
    "class NN_one_hidden( nn.Module ):\n",
    "    \n",
    "    def __init__(self): \n",
    "        super(NN_one_hidden, self).__init__()\n",
    "        self.layers = nn.Sequential( \n",
    "            nn.Flatten(), \n",
    "            nn.Linear(64,100), # try 100 hidden neurons\n",
    "            nn.ReLU(),      # note that we need the brackets after nn.ReLU() and nn.Sigmoid(), because these \n",
    "                            # are classes that need to be instantiated\n",
    "            nn.Linear(100,1),\n",
    "            nn.Sigmoid())  # we are predicting only two classes, so we can use one sigmoid neuron as output\n",
    "    \n",
    "    def forward( self, x ): # computes the forward pass ... this one is particularly simple\n",
    "        x = self.layers( x )\n",
    "        return x"
   ]
  },
  {
   "cell_type": "code",
   "execution_count": 64,
   "metadata": {},
   "outputs": [
    {
     "data": {
      "text/plain": [
       "NN_one_hidden(\n",
       "  (layers): Sequential(\n",
       "    (0): Flatten(start_dim=1, end_dim=-1)\n",
       "    (1): Linear(in_features=64, out_features=100, bias=True)\n",
       "    (2): ReLU()\n",
       "    (3): Linear(in_features=100, out_features=1, bias=True)\n",
       "    (4): Sigmoid()\n",
       "  )\n",
       ")"
      ]
     },
     "execution_count": 64,
     "metadata": {},
     "output_type": "execute_result"
    }
   ],
   "source": [
    "cc = NN_one_hidden()\n",
    "cc"
   ]
  },
  {
   "cell_type": "code",
   "execution_count": 65,
   "metadata": {},
   "outputs": [],
   "source": [
    "class NN_two_hidden( nn.Module ):\n",
    "    \n",
    "    def __init__(self): \n",
    "        super(NN_two_hidden, self).__init__()\n",
    "        self.layers = nn.Sequential( \n",
    "            nn.Flatten(), \n",
    "            nn.Linear(64,100), # try 100 hidden neurons\n",
    "            nn.ReLU(),      # note that we need the brackets after nn.ReLU() and nn.Sigmoid(), because these \n",
    "                            # are classes that need to be instantiated\n",
    "            nn.Linear(100,100),\n",
    "            nn.ReLU(),\n",
    "            nn.Linear(100, 1),\n",
    "            nn.Sigmoid())  # we are predicting only two classes, so we can use one sigmoid neuron as output\n",
    "    \n",
    "    def forward( self, x ): # computes the forward pass ... this one is particularly simple\n",
    "        x = self.layers( x )\n",
    "        return x"
   ]
  },
  {
   "cell_type": "markdown",
   "metadata": {},
   "source": [
    "You will be defining many NN architectures (hopefully) so here is an encapsulation of the NN training cycle in a function. \n",
    "\n",
    "Experienced Python programmers may do it better than this..."
   ]
  },
  {
   "cell_type": "code",
   "execution_count": 70,
   "metadata": {},
   "outputs": [],
   "source": [
    "# this function takes a neural-net class as argument, \n",
    "# together with the number of epochs, datasets, and batch-size\n",
    "# I have written it like this to make sure you remember to initialise a new NN \n",
    "# (However you can redefine it to take a pre-initialised NN, so that you can repeatedly \n",
    "# train a NN with the same weights, as often as you want. )\n",
    "\n",
    "def define_and_train( NN_class, n_epochs, training_set, test_set, batch_size=32, weight_decay=0.0 ):\n",
    "    \n",
    "    trainloader = torch.utils.data.DataLoader( training_set, batch_size=batch_size, shuffle=True)\n",
    "    testloader = torch.utils.data.DataLoader( test_set, batch_size=batch_size, shuffle=True)\n",
    "\n",
    "    thenet = NN_class()\n",
    "    optimizer1 = optim.Adam( thenet.parameters(), weight_decay=weight_decay )\n",
    "    \n",
    "    train_acc = []\n",
    "    val_acc = []\n",
    "    train_loss = []\n",
    "    val_loss = []\n",
    "    \n",
    "    for epoch in range(n_epochs): # number of times to loop over the dataset\n",
    "        \n",
    "        total_loss = 0 \n",
    "        total_correct = 0 \n",
    "        total_examples = 0 \n",
    "        n_mini_batches = 0\n",
    "    \n",
    "        for i, mini_batch in enumerate( trainloader, 0 ):\n",
    "            images, labels = mini_batch\n",
    "\n",
    "            # zero the parameter gradients\n",
    "            # all the parameters that are being updated are in the optimizer, \n",
    "            # so if we zero the gradients of all the tensors in the optimizer, \n",
    "            # that is the safest way to zero all the gradients\n",
    "            optimizer1.zero_grad()\n",
    "\n",
    "            outputs = thenet(images) # this is the forward pass\n",
    "\n",
    "            loss = loss_function ( outputs, labels )\n",
    "\n",
    "            loss.backward() # does the backward pass and computes all gradients\n",
    "\n",
    "            optimizer1.step() # does one optimisation step\n",
    "\n",
    "            n_mini_batches += 1 # keep track of number of minibatches, and collect the loss for each minibatch\n",
    "            total_loss += loss.item() # remember that the loss is a zero-order tensor\n",
    "            # so that to extract its value, we use .item(), as we cannot index as there are no dimensions\n",
    "\n",
    "            # keep track of number of examples, and collect number correct in each minibatch\n",
    "            total_correct += sum( ( outputs > 0.5 ) == ( labels > 0.5 ) ).item()\n",
    "            total_examples += len( labels )\n",
    "\n",
    "        # calculate statistics for each epoch and print them. \n",
    "        # You can alter this code to accumulate these statistics into lists/vectors and plot them\n",
    "        epoch_training_accuracy = total_correct / total_examples\n",
    "        epoch_training_loss = total_loss / n_mini_batches\n",
    "\n",
    "        epoch_val_accuracy, epoch_val_loss, val_error_rate = accuracy_and_loss( thenet, loss_function, testloader )\n",
    "\n",
    "        print('Epoch %d loss: %.3f acc: %.3f val_loss: %.3f val_acc: %.3f'\n",
    "              %(epoch+1, epoch_training_loss, epoch_training_accuracy, epoch_val_loss, epoch_val_accuracy   ))\n",
    "        \n",
    "        train_loss.append( epoch_training_loss )\n",
    "        train_acc.append( epoch_training_accuracy )\n",
    "        val_loss.append( epoch_val_loss )\n",
    "        val_acc.append( epoch_val_accuracy )\n",
    "    \n",
    "    history = { 'train_loss': train_loss, \n",
    "                'train_acc': train_acc, \n",
    "                'val_loss': val_loss,\n",
    "                'val_acc': val_acc }\n",
    "    return ( history, thenet ) \n"
   ]
  },
  {
   "cell_type": "code",
   "execution_count": 71,
   "metadata": {},
   "outputs": [
    {
     "name": "stderr",
     "output_type": "stream",
     "text": [
      "C:\\Users\\papap\\AppData\\Local\\Temp\\ipykernel_13688\\2932291848.py:12: DeprecationWarning: Conversion of an array with ndim > 0 to a scalar is deprecated, and will error in future. Ensure you extract a single element from your array before performing this operation. (Deprecated NumPy 1.25.)\n",
      "  return [(torch.tensor(x.astype(np.float32)).reshape(1,8,8), torch.tensor(float(y)).reshape(1) )  for x,y in zip( X_data, Y_data)]\n"
     ]
    }
   ],
   "source": [
    "big_training_set = make_percolation_dataset( n_examples=10000 )"
   ]
  },
  {
   "cell_type": "code",
   "execution_count": null,
   "metadata": {},
   "outputs": [],
   "source": [
    "history1, net1 = define_and_train( NN_one_hidden, 50, training_set, test_set, batch_size=32, weight_decay=0.0000 )"
   ]
  },
  {
   "cell_type": "code",
   "execution_count": null,
   "metadata": {},
   "outputs": [
    {
     "data": {
      "text/plain": [
       "<matplotlib.legend.Legend at 0x126a30ac0>"
      ]
     },
     "execution_count": 34,
     "metadata": {},
     "output_type": "execute_result"
    },
    {
     "data": {
      "image/png": "[encoded data removed]",
      "text/plain": [
       "<Figure size 432x288 with 1 Axes>"
      ]
     },
     "metadata": {
      "needs_background": "light"
     },
     "output_type": "display_data"
    }
   ],
   "source": [
    "plt.plot( history1['train_loss'], label='train_loss')\n",
    "plt.plot( history1['val_loss'], label='val_loss')\n",
    "plt.legend()"
   ]
  },
  {
   "cell_type": "code",
   "execution_count": null,
   "metadata": {},
   "outputs": [
    {
     "data": {
      "text/plain": [
       "<matplotlib.legend.Legend at 0x126a96cd0>"
      ]
     },
     "execution_count": 35,
     "metadata": {},
     "output_type": "execute_result"
    },
    {
     "data": {
      "image/png": "[encoded data removed]",
      "text/plain": [
       "<Figure size 432x288 with 1 Axes>"
      ]
     },
     "metadata": {
      "needs_background": "light"
     },
     "output_type": "display_data"
    }
   ],
   "source": [
    "plt.plot( history1['train_acc'], label='train_acc')\n",
    "plt.plot( history1['val_acc'], label='val_acc')\n",
    "plt.legend()"
   ]
  },
  {
   "cell_type": "code",
   "execution_count": null,
   "metadata": {},
   "outputs": [],
   "source": [
    "history2, net2 = define_and_train( NN_two_hidden, 50, training_set, test_set, batch_size=32, weight_decay=0.0000 )"
   ]
  },
  {
   "cell_type": "code",
   "execution_count": null,
   "metadata": {},
   "outputs": [
    {
     "data": {
      "text/plain": [
       "<matplotlib.legend.Legend at 0x126aded60>"
      ]
     },
     "execution_count": 37,
     "metadata": {},
     "output_type": "execute_result"
    },
    {
     "data": {
      "image/png": "[encoded data removed]",
      "text/plain": [
       "<Figure size 432x288 with 1 Axes>"
      ]
     },
     "metadata": {
      "needs_background": "light"
     },
     "output_type": "display_data"
    }
   ],
   "source": [
    "plt.plot( history2['train_loss'], label='train_loss')\n",
    "plt.plot( history2['val_loss'], label='val_loss')\n",
    "plt.legend()"
   ]
  },
  {
   "cell_type": "code",
   "execution_count": null,
   "metadata": {},
   "outputs": [
    {
     "data": {
      "text/plain": [
       "<matplotlib.legend.Legend at 0x126c579a0>"
      ]
     },
     "execution_count": 38,
     "metadata": {},
     "output_type": "execute_result"
    },
    {
     "data": {
      "image/png": "[encoded data removed]",
      "text/plain": [
       "<Figure size 432x288 with 1 Axes>"
      ]
     },
     "metadata": {
      "needs_background": "light"
     },
     "output_type": "display_data"
    }
   ],
   "source": [
    "plt.plot( history2['train_acc'], label='train_acc')\n",
    "plt.plot( history2['val_acc'], label='val_acc')\n",
    "plt.legend()"
   ]
  },
  {
   "cell_type": "markdown",
   "metadata": {},
   "source": [
    "### A convolutional model for detecting percolation\n",
    "\n",
    "Since percolation depends on local properties of the image, a better strategy may be to used a convolutional model, like the one defined below. \n",
    "\n",
    "After some messing about, I found that the model defined has reasonable (but not perfect) performance.  Please try to find a better one ! I was a little disappointed that I found that max-pooling layers seemed to slightly reduce performance, but you might find differently.  \n",
    "\n",
    "Perhaps some 1x1 convolutions might improve performance?  I haven't tried them. \n",
    "\n",
    "Your challenge is to try this model out, and then to do some experiments. (To do experiments, you will need to be tidy: I suggest  \n",
    "\n",
    "* For a small training set size (say 1000) examine the effect of different types and levels of regularisation. Try putting in `l1` and `l2` regularisation, and dropout (try each separately). \n",
    "    When adding `l1` or `l2` regularisation, a reasonable amount to add is in the region of \n",
    "    0.00001 to 0.001 .  Larger amounts of regularisation will just force all the weights towards zero. \n",
    "\n",
    "* How does validation error vary with training set size?  This is an important question!  Plot  log validation error versus  log training set size, in the range from 100 to 32000 (or 100000 if you have the time)  Plot a log-log graph, and see if you can identify a power law, visible as a straight(ish) line on the graph.  \n",
    "\n"
   ]
  },
  {
   "cell_type": "markdown",
   "metadata": {},
   "source": [
    "### Constructing a convolutional model in Pytorch"
   ]
  },
  {
   "cell_type": "markdown",
   "metadata": {},
   "source": [
    "We need to keep track of the sizes of the tensors as we build a convolutional net.\n",
    "\n",
    "One easy way to do this is to evaluate part of the network, using zeros as inputs, and look at the shape of the resulting tensor. "
   ]
  },
  {
   "cell_type": "code",
   "execution_count": 1,
   "metadata": {},
   "outputs": [
    {
     "ename": "NameError",
     "evalue": "name 'nn' is not defined",
     "output_type": "error",
     "traceback": [
      "\u001b[1;31m---------------------------------------------------------------------------\u001b[0m",
      "\u001b[1;31mNameError\u001b[0m                                 Traceback (most recent call last)",
      "Cell \u001b[1;32mIn[1], line 1\u001b[0m\n\u001b[1;32m----> 1\u001b[0m \u001b[43mnn\u001b[49m\u001b[38;5;241m.\u001b[39mSequential( \n\u001b[0;32m      2\u001b[0m             nn\u001b[38;5;241m.\u001b[39mConv2d(\u001b[38;5;241m1\u001b[39m,\u001b[38;5;241m12\u001b[39m,\u001b[38;5;241m3\u001b[39m,padding\u001b[38;5;241m=\u001b[39m\u001b[38;5;241m1\u001b[39m),\n\u001b[0;32m      3\u001b[0m             nn\u001b[38;5;241m.\u001b[39mReLU(), \n\u001b[0;32m      4\u001b[0m             nn\u001b[38;5;241m.\u001b[39mConv2d(\u001b[38;5;241m12\u001b[39m,\u001b[38;5;241m12\u001b[39m,\u001b[38;5;241m3\u001b[39m,padding\u001b[38;5;241m=\u001b[39m\u001b[38;5;241m1\u001b[39m),\n\u001b[0;32m      5\u001b[0m             nn\u001b[38;5;241m.\u001b[39mReLU(),\n\u001b[0;32m      6\u001b[0m             nn\u001b[38;5;241m.\u001b[39mConv2d(\u001b[38;5;241m12\u001b[39m,\u001b[38;5;241m2\u001b[39m,\u001b[38;5;241m3\u001b[39m,padding\u001b[38;5;241m=\u001b[39m\u001b[38;5;241m1\u001b[39m), \u001b[38;5;66;03m# idea: hopefully these will be connected to left edge, connected to right edge\u001b[39;00m\n\u001b[0;32m      7\u001b[0m             nn\u001b[38;5;241m.\u001b[39mReLU() )( torch\u001b[38;5;241m.\u001b[39mzeros(\u001b[38;5;241m1\u001b[39m,\u001b[38;5;241m1\u001b[39m,\u001b[38;5;241m8\u001b[39m,\u001b[38;5;241m8\u001b[39m) )\u001b[38;5;241m.\u001b[39mshape\n",
      "\u001b[1;31mNameError\u001b[0m: name 'nn' is not defined"
     ]
    }
   ],
   "source": [
    "nn.Sequential( \n",
    "            nn.Conv2d(1,12,3,padding=1),\n",
    "            nn.ReLU(), \n",
    "            nn.Conv2d(12,12,3,padding=1),\n",
    "            nn.ReLU(),\n",
    "            nn.Conv2d(12,2,3,padding=1), # idea: hopefully these will be connected to left edge, connected to right edge\n",
    "            nn.ReLU() )( torch.zeros(1,1,8,8) ).shape"
   ]
  },
  {
   "cell_type": "code",
   "execution_count": null,
   "metadata": {},
   "outputs": [
    {
     "data": {
      "text/plain": [
       "torch.Size([1, 12, 8, 8])"
      ]
     },
     "execution_count": 40,
     "metadata": {},
     "output_type": "execute_result"
    }
   ],
   "source": [
    "nn.Sequential( nn.Conv2d(1,12,3,padding=1), nn.ReLU() )( torch.zeros(1,1,8,8)).shape"
   ]
  },
  {
   "cell_type": "code",
   "execution_count": null,
   "metadata": {},
   "outputs": [],
   "source": [
    "class NN_convolutional1( nn.Module ):\n",
    "    \n",
    "    def __init__(self): \n",
    "        super(NN_convolutional1, self).__init__()\n",
    "        self.layers = nn.Sequential( \n",
    "            nn.Conv2d(1,12,3,padding=1),\n",
    "            nn.ReLU(), \n",
    "            nn.Conv2d(12,12,3,padding=1),\n",
    "            nn.ReLU(),\n",
    "            nn.Conv2d(12,2,3,padding=1), # idea: hopefully these will be connected to left edge, connected to right edge\n",
    "            nn.ReLU(),\n",
    "            nn.Flatten(),\n",
    "            nn.Linear(128,12), # the 128 here is the number of elements in the tensor computed so far\n",
    "            nn.ReLU(), \n",
    "            nn.Linear(12,1),\n",
    "            nn.Sigmoid())  # we are predicting only two classes, so we can use one sigmoid neuron as output\n",
    "    \n",
    "    def forward( self, x ): # computes the forward pass ... this one is particularly simple\n",
    "        x = self.layers( x )\n",
    "        return x"
   ]
  },
  {
   "cell_type": "code",
   "execution_count": null,
   "metadata": {},
   "outputs": [],
   "source": [
    "print( NN_convolutional1() )"
   ]
  },
  {
   "cell_type": "code",
   "execution_count": null,
   "metadata": {},
   "outputs": [],
   "source": [
    "history3, net = define_and_train( NN_convolutional1, 50, training_set, test_set, batch_size=32, weight_decay=0.0000 )"
   ]
  },
  {
   "cell_type": "code",
   "execution_count": null,
   "metadata": {},
   "outputs": [
    {
     "data": {
      "text/plain": [
       "<matplotlib.legend.Legend at 0x126d4feb0>"
      ]
     },
     "execution_count": 44,
     "metadata": {},
     "output_type": "execute_result"
    },
    {
     "data": {
      "image/png": "[encoded data removed]",
      "text/plain": [
       "<Figure size 432x288 with 1 Axes>"
      ]
     },
     "metadata": {
      "needs_background": "light"
     },
     "output_type": "display_data"
    }
   ],
   "source": [
    "plt.plot( history3['train_loss'], label='train_loss')\n",
    "plt.plot( history3['val_loss'], label='val_loss')\n",
    "plt.legend()"
   ]
  },
  {
   "cell_type": "code",
   "execution_count": null,
   "metadata": {},
   "outputs": [
    {
     "data": {
      "text/plain": [
       "<matplotlib.legend.Legend at 0x12730afd0>"
      ]
     },
     "execution_count": 45,
     "metadata": {},
     "output_type": "execute_result"
    },
    {
     "data": {
      "image/png": "[encoded data removed]",
      "text/plain": [
       "<Figure size 432x288 with 1 Axes>"
      ]
     },
     "metadata": {
      "needs_background": "light"
     },
     "output_type": "display_data"
    }
   ],
   "source": [
    "plt.plot( history3['train_acc'], label='train_acc')\n",
    "plt.plot( history3['val_acc'], label='val_acc')\n",
    "plt.legend()"
   ]
  },
  {
   "cell_type": "markdown",
   "metadata": {},
   "source": [
    "# The Golden Rules of Model Search\n",
    "\n",
    "Step 1: what error rate do you expect a good model to have?  (It may be zero, or there may be some residual error rate - perhaps even humans do not perform perfectly.) Call this error rate the *ideal error rate*\n",
    "\n",
    "Step 2: define and fit a model and examine the training and validation errors. \n",
    "\n",
    "Step 3a: If the model does not fit the training set well, then the model does not have enough capacity (flexibility).  Add more complexity in some way  - more neurons, more layers. It is of course best to do this in an insightful way !  Go to step 2. \n",
    "\n",
    "Step 3b: If the model *does* fit the training set well, but there is higher error on the validation set, then the model is overfitted. Do either (or both)  of: \n",
    "\n",
    "    * Use more training data\n",
    "    \n",
    "    * Add more regularisation to the model (in an insightful way). \n",
    "    \n",
    "Go to step 2. \n",
    "\n",
    "\n",
    "These golden rules are not very specific, but they are a lot better than simply making random changes to the model and hoping that it gets better. \n",
    "\n"
   ]
  },
  {
   "cell_type": "markdown",
   "metadata": {},
   "source": [
    "### Power law for convolutional model "
   ]
  },
  {
   "cell_type": "code",
   "execution_count": null,
   "metadata": {},
   "outputs": [
    {
     "data": {
      "text/plain": [
       "[<matplotlib.lines.Line2D at 0x1274468b0>]"
      ]
     },
     "execution_count": 46,
     "metadata": {},
     "output_type": "execute_result"
    },
    {
     "data": {
      "image/png": "[encoded data removed]",
      "text/plain": [
       "<Figure size 432x288 with 1 Axes>"
      ]
     },
     "metadata": {
      "needs_background": "light"
     },
     "output_type": "display_data"
    }
   ],
   "source": [
    "# actually plot the training set size vs validation error\n",
    "# these are actual error-rates with a previous (more complex) convolutional model\n",
    "plt.loglog([1000,2000,4000,8000,16000], [0.0636,0.0330,0.0130,0.006,0.0046])"
   ]
  },
  {
   "cell_type": "markdown",
   "metadata": {},
   "source": [
    "# Inspection of errors"
   ]
  },
  {
   "cell_type": "markdown",
   "metadata": {},
   "source": [
    " Exercise: find the errors on the training and validation sets, and inspect them.\n",
    " \n",
    " Can you say anything useful about what your net is doing wrong? \n",
    "\n",
    " I found that the false-negatives -- the percolating examples that the net thought did not percolate -- tended to have long percolating paths, as one might expect. \n",
    " \n",
    " But I could not see any regularities in the false-positive -- the non-percolating examples that the net thought would percolate -- at all. "
   ]
  },
  {
   "cell_type": "markdown",
   "metadata": {},
   "source": [
    "# Test examples for percolation\n"
   ]
  },
  {
   "cell_type": "markdown",
   "metadata": {},
   "source": [
    "This is a test-set of some specially constructed examples that are designed to be 'corner cases' on which to test your network. "
   ]
  },
  {
   "cell_type": "code",
   "execution_count": null,
   "metadata": {},
   "outputs": [],
   "source": [
    "test_all_zeros = np.zeros([8,8])\n",
    "plt.imshow(test_all_zeros)\n",
    "plt.colorbar()"
   ]
  },
  {
   "cell_type": "code",
   "execution_count": null,
   "metadata": {},
   "outputs": [],
   "source": [
    "test_all_ones = np.ones([8,8])\n",
    "plt.imshow(test_all_ones)\n",
    "plt.colorbar()"
   ]
  },
  {
   "cell_type": "code",
   "execution_count": null,
   "metadata": {},
   "outputs": [],
   "source": [
    "test_eye = np.eye(8) # this should be an easy example\n",
    "plt.imshow(test_eye)\n",
    "plt.colorbar()"
   ]
  },
  {
   "cell_type": "code",
   "execution_count": null,
   "metadata": {},
   "outputs": [],
   "source": [
    "test_inverse_eye = 1 - np.eye(8)\n",
    "plt.imshow( test_inverse_eye )"
   ]
  },
  {
   "cell_type": "code",
   "execution_count": null,
   "metadata": {},
   "outputs": [],
   "source": [
    "test_inverse_eye_connected = 1 - np.eye(8)\n",
    "test_inverse_eye_connected[4,4] = 1\n",
    "plt.imshow( test_inverse_eye_connected )"
   ]
  },
  {
   "cell_type": "code",
   "execution_count": null,
   "metadata": {},
   "outputs": [],
   "source": [
    "test_inverse_eye_connected_bottom = 1 - np.eye(8)\n",
    "test_inverse_eye_connected_bottom[7,7] = 1\n",
    "plt.imshow( test_inverse_eye_connected_bottom )"
   ]
  },
  {
   "cell_type": "code",
   "execution_count": null,
   "metadata": {},
   "outputs": [],
   "source": [
    "test_inverse_eye_connected_top = 1 - np.eye(8)\n",
    "test_inverse_eye_connected_top[0,0] = 1\n",
    "plt.imshow( test_inverse_eye_connected_top )"
   ]
  },
  {
   "cell_type": "code",
   "execution_count": null,
   "metadata": {},
   "outputs": [],
   "source": [
    "test_middle_row = np.zeros([8,8])\n",
    "test_middle_row[3,:] = 1\n",
    "plt.imshow(test_middle_row)"
   ]
  },
  {
   "cell_type": "code",
   "execution_count": null,
   "metadata": {},
   "outputs": [],
   "source": [
    "test_top_row = np.zeros([8,8])\n",
    "test_top_row[0,:] = 1\n",
    "plt.imshow(test_top_row)"
   ]
  },
  {
   "cell_type": "code",
   "execution_count": null,
   "metadata": {},
   "outputs": [],
   "source": [
    "test_bottom_row = np.zeros([8,8])\n",
    "test_bottom_row[-1,:] = 1\n",
    "plt.imshow(test_bottom_row)"
   ]
  },
  {
   "cell_type": "code",
   "execution_count": null,
   "metadata": {},
   "outputs": [],
   "source": [
    "test_vertical_column_disconnect = np.ones([8,8])\n",
    "test_vertical_column_disconnect[:,4] = 0 \n",
    "plt.imshow(test_vertical_column_disconnect)"
   ]
  },
  {
   "cell_type": "code",
   "execution_count": null,
   "metadata": {},
   "outputs": [],
   "source": [
    "test_row_with_gap = np.zeros([8,8])\n",
    "test_row_with_gap[3,:] = 1\n",
    "test_row_with_gap[3,4] = 0 \n",
    "plt.imshow(test_row_with_gap)"
   ]
  },
  {
   "cell_type": "code",
   "execution_count": null,
   "metadata": {},
   "outputs": [],
   "source": [
    "test_two_rows_nearly = np.zeros([8,8])\n",
    "test_two_rows_nearly[2,:7] = 1\n",
    "test_two_rows_nearly[4,1:] = 1\n",
    "plt.imshow(test_two_rows_nearly)"
   ]
  },
  {
   "cell_type": "code",
   "execution_count": null,
   "metadata": {},
   "outputs": [],
   "source": [
    "test_four_rows_nearly = np.zeros([8,8])\n",
    "test_four_rows_nearly[0,:7] = 1\n",
    "test_four_rows_nearly[2,1:] = 1\n",
    "test_four_rows_nearly[4,:7] = 1\n",
    "test_four_rows_nearly[6,1:] = 1\n",
    "plt.imshow(test_four_rows_nearly)"
   ]
  },
  {
   "cell_type": "code",
   "execution_count": null,
   "metadata": {},
   "outputs": [],
   "source": [
    "test_dog_leg = np.zeros([8,8])\n",
    "test_dog_leg[1,:5] = 1\n",
    "test_dog_leg[2:7,4] = 1\n",
    "test_dog_leg[6,4:] = 1\n",
    "plt.imshow(test_dog_leg)"
   ]
  },
  {
   "cell_type": "code",
   "execution_count": null,
   "metadata": {},
   "outputs": [],
   "source": [
    "test_dog_leg_back = np.zeros([8,8])\n",
    "test_dog_leg_back[1,:5] = 1\n",
    "test_dog_leg_back[2:5,4] = 1\n",
    "test_dog_leg_back[4:6,3] = 1\n",
    "test_dog_leg_back[6,3:] = 1\n",
    "plt.imshow(test_dog_leg_back)"
   ]
  },
  {
   "cell_type": "code",
   "execution_count": null,
   "metadata": {},
   "outputs": [],
   "source": [
    "test_long_path = np.zeros([8,8])\n",
    "test_long_path[1,:7] = 1\n",
    "test_long_path[2:4,6] = 1\n",
    "test_long_path[4,1:7] = 1\n",
    "test_long_path[5:7,1] = 1\n",
    "test_long_path[6,1:] = 1\n",
    "plt.imshow(test_long_path)\n"
   ]
  },
  {
   "cell_type": "code",
   "execution_count": null,
   "metadata": {},
   "outputs": [],
   "source": [
    "test_longer_path = np.zeros([8,8])\n",
    "test_longer_path[0,:7] = 1\n",
    "test_longer_path[1:3,6] = 1\n",
    "test_longer_path[2,1:7] = 1\n",
    "test_longer_path[3:8,1] = 1\n",
    "test_longer_path[7,2:4] = 1\n",
    "test_longer_path[4:7,3] = 1\n",
    "test_longer_path[4,4:6] = 1\n",
    "test_longer_path[5:8,5] = 1\n",
    "test_longer_path[7,6:8] = 1\n",
    "plt.imshow(test_longer_path)"
   ]
  },
  {
   "cell_type": "code",
   "execution_count": null,
   "metadata": {},
   "outputs": [],
   "source": [
    "test_vertical_stripes = np.zeros([8,8])\n",
    "test_vertical_stripes[:,1] = 1\n",
    "test_vertical_stripes[:,3] = 1\n",
    "test_vertical_stripes[:,5] = 1\n",
    "test_vertical_stripes[:,7] = 1\n",
    "plt.imshow(test_vertical_stripes)"
   ]
  },
  {
   "cell_type": "code",
   "execution_count": null,
   "metadata": {},
   "outputs": [],
   "source": [
    "test_vertical_stripes_connected_1 = np.zeros([8,8])\n",
    "test_vertical_stripes_connected_1[:,1] = 1\n",
    "test_vertical_stripes_connected_1[:,3] = 1\n",
    "test_vertical_stripes_connected_1[:,5] = 1\n",
    "test_vertical_stripes_connected_1[:,7] = 1\n",
    "test_vertical_stripes_connected_1[7,0] = 1\n",
    "test_vertical_stripes_connected_1[0,2] = 1\n",
    "test_vertical_stripes_connected_1[7,4] = 1\n",
    "test_vertical_stripes_connected_1[0,6] = 1\n",
    "\n",
    "plt.imshow(test_vertical_stripes_connected_1)"
   ]
  },
  {
   "cell_type": "code",
   "execution_count": null,
   "metadata": {},
   "outputs": [],
   "source": [
    "test_vertical_stripes_connected_2 = np.zeros([8,8])\n",
    "test_vertical_stripes_connected_2[:,1] = 1\n",
    "test_vertical_stripes_connected_2[:,3] = 1\n",
    "test_vertical_stripes_connected_2[:,5] = 1\n",
    "test_vertical_stripes_connected_2[:,7] = 1\n",
    "test_vertical_stripes_connected_2[6,0] = 1\n",
    "test_vertical_stripes_connected_2[1,2] = 1\n",
    "test_vertical_stripes_connected_2[6,4] = 1\n",
    "test_vertical_stripes_connected_2[1,6] = 1\n",
    "\n",
    "plt.imshow(test_vertical_stripes_connected_2)"
   ]
  },
  {
   "cell_type": "code",
   "execution_count": null,
   "metadata": {},
   "outputs": [],
   "source": [
    "test_vertical_stripes_disconnected_1 = np.zeros([8,8])\n",
    "test_vertical_stripes_disconnected_1[:,1] = 1\n",
    "test_vertical_stripes_disconnected_1[:,3] = 1\n",
    "test_vertical_stripes_disconnected_1[:,5] = 1\n",
    "test_vertical_stripes_disconnected_1[:,7] = 1\n",
    "test_vertical_stripes_disconnected_1[6,0] = 1\n",
    "test_vertical_stripes_disconnected_1[1,2] = 1\n",
    "test_vertical_stripes_disconnected_1[6,2] = 1\n",
    "test_vertical_stripes_disconnected_1[1,6] = 1\n",
    "\n",
    "plt.imshow(test_vertical_stripes_disconnected_1)"
   ]
  },
  {
   "cell_type": "code",
   "execution_count": null,
   "metadata": {},
   "outputs": [],
   "source": [
    "test_vertical_stripes_connected_3 = np.zeros([8,8])\n",
    "test_vertical_stripes_connected_3[:,1] = 1\n",
    "test_vertical_stripes_connected_3[:,3] = 1\n",
    "test_vertical_stripes_connected_3[:,5] = 1\n",
    "test_vertical_stripes_connected_3[:,7] = 1\n",
    "test_vertical_stripes_connected_3[4,:] = 1\n",
    "\n",
    "plt.imshow(test_vertical_stripes_connected_3)"
   ]
  },
  {
   "cell_type": "code",
   "execution_count": null,
   "metadata": {},
   "outputs": [],
   "source": [
    "test_examples = [test_all_ones,\n",
    "                 test_eye, \n",
    "                 test_inverse_eye,\n",
    "                 test_inverse_eye_connected,\n",
    "                 test_inverse_eye_connected_bottom,\n",
    "                 test_inverse_eye_connected_top,\n",
    "                 test_middle_row, test_top_row, \n",
    "                 test_bottom_row, \n",
    "                 test_vertical_column_disconnect,\n",
    "                 test_row_with_gap, \n",
    "                 test_two_rows_nearly, \n",
    "                 test_four_rows_nearly, \n",
    "                 test_dog_leg, \n",
    "                 test_dog_leg_back,\n",
    "                 test_long_path, \n",
    "                 test_longer_path, \n",
    "                 test_vertical_stripes,\n",
    "                 test_vertical_stripes_connected_1,\n",
    "                 test_vertical_stripes_connected_2,\n",
    "                 test_vertical_stripes_connected_3,\n",
    "                 test_vertical_stripes_disconnected_1]"
   ]
  },
  {
   "cell_type": "code",
   "execution_count": null,
   "metadata": {},
   "outputs": [],
   "source": [
    "[ percolate(x) for x in test_examples ]"
   ]
  },
  {
   "cell_type": "code",
   "execution_count": null,
   "metadata": {},
   "outputs": [],
   "source": []
  }
 ],
 "metadata": {
  "kernelspec": {
   "display_name": "Python 3",
   "language": "python",
   "name": "python3"
  },
  "language_info": {
   "codemirror_mode": {
    "name": "ipython",
    "version": 3
   },
   "file_extension": ".py",
   "mimetype": "text/x-python",
   "name": "python",
   "nbconvert_exporter": "python",
   "pygments_lexer": "ipython3",
   "version": "3.12.5"
  },
  "latex_envs": {
   "LaTeX_envs_menu_present": true,
   "autoclose": false,
   "autocomplete": true,
   "bibliofile": "biblio.bib",
   "cite_by": "apalike",
   "current_citInitial": 1,
   "eqLabelWithNumbers": true,
   "eqNumInitial": 1,
   "hotkeys": {
    "equation": "Ctrl-E",
    "itemize": "Ctrl-I"
   },
   "labels_anchors": false,
   "latex_user_defs": false,
   "report_style_numbering": false,
   "user_envs_cfg": false
  }
 },
 "nbformat": 4,
 "nbformat_minor": 4
}
