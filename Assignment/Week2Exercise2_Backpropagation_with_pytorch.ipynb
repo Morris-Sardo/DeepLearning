{
 "cells": [
  {
   "cell_type": "markdown",
   "metadata": {},
   "source": [
    "# Neural nets with Back-Propagation, this time with Pytorch"
   ]
  },
  {
   "cell_type": "markdown",
   "metadata": {},
   "source": [
    "This notebook contains a complete implementation of a neural network this time implemented with Pytorch. \n",
    "\n",
    "I advise you to work through the notebook first, and seek to understand the code.  After that, go back to the places where I suggest activities, and try to implement these. \n",
    "\n",
    "AFTER GOING THROUGH THIS NOTEBOOK you will be ready to go to the textbooks by Smola or Howard, and work through the slightly more complicated implementations there.  (We will be doing MNIST and MNIST Fashion next week...) \n",
    "\n",
    "### Aims of this session: \n",
    "\n",
    "*  To understand how to implement a simple neural network in Pytorch \n",
    "\n",
    "*  To explore the structure of the Pytorch model, and examine the weights and the initialisation\n",
    "\n",
    "*  To explore many more variations of the network using Pytorch to greatly speed things up\n"
   ]
  },
  {
   "cell_type": "code",
   "execution_count": 2,
   "metadata": {},
   "outputs": [],
   "source": [
    "import numpy as np\n",
    "import torch"
   ]
  },
  {
   "cell_type": "code",
   "execution_count": 3,
   "metadata": {},
   "outputs": [],
   "source": [
    "import matplotlib.pyplot as plt\n",
    "# the next instruction makes the plots appear within the notebook\n",
    "%matplotlib inline"
   ]
  },
  {
   "cell_type": "markdown",
   "metadata": {},
   "source": [
    "First we want some data.\n",
    "\n",
    "Our data will be points in the plane. We will generate random points within a square, like so:  "
   ]
  },
  {
   "cell_type": "code",
   "execution_count": 4,
   "metadata": {},
   "outputs": [],
   "source": [
    "X = 2 * np.random.random((100,2)) - 1\n",
    "# points in a square [-1,1] (random samples from Unif(0,1))\n",
    "# you can re-run with more or fewer than 200 training data points "
   ]
  },
  {
   "cell_type": "code",
   "execution_count": 5,
   "metadata": {},
   "outputs": [
    {
     "data": {
      "text/plain": [
       "[<matplotlib.lines.Line2D at 0x7fba53dddc40>]"
      ]
     },
     "execution_count": 5,
     "metadata": {},
     "output_type": "execute_result"
    },
    {
     "data": {
      "image/png": "[encoded data removed]",
      "text/plain": [
       "<Figure size 432x288 with 1 Axes>"
      ]
     },
     "metadata": {
      "needs_background": "light"
     },
     "output_type": "display_data"
    }
   ],
   "source": [
    "plt.plot(X[:,0],X[:,1],'.')"
   ]
  },
  {
   "cell_type": "markdown",
   "metadata": {},
   "source": [
    "* We want to do classification, that is, predict one of the possible classes for every data point\n",
    "* So, we define below some classifiers"
   ]
  },
  {
   "cell_type": "code",
   "execution_count": 6,
   "metadata": {},
   "outputs": [],
   "source": [
    "def classifier2(X):# a circle centered at 0,0 with radius 0.66\n",
    "    return (np.sum( X * X, axis=1) < 0.66 ).astype(float)"
   ]
  },
  {
   "cell_type": "code",
   "execution_count": 7,
   "metadata": {},
   "outputs": [],
   "source": [
    "def classifier3(X): # a 3x2 checkerboard pattern\n",
    "    return (( np.ceil((3/2)*(X[:,0]+1)).astype(int) + np.ceil( X[:,1]+1).astype(int) ) %2).astype(float)"
   ]
  },
  {
   "cell_type": "code",
   "execution_count": 8,
   "metadata": {},
   "outputs": [],
   "source": [
    "def classifier4(X): # a 4x4 checkerboard pattern -- you can use the same method to make up your own checkerboard patterns\n",
    "    return (np.sum( np.ceil( 2 * X).astype(int), axis=1 ) % 2).astype(float)"
   ]
  },
  {
   "cell_type": "code",
   "execution_count": 9,
   "metadata": {},
   "outputs": [],
   "source": [
    "# let's use classifier 3\n",
    "Y = classifier3( X ) "
   ]
  },
  {
   "cell_type": "code",
   "execution_count": 10,
   "metadata": {},
   "outputs": [
    {
     "data": {
      "text/plain": [
       "[<matplotlib.lines.Line2D at 0x7fba53efea60>]"
      ]
     },
     "execution_count": 10,
     "metadata": {},
     "output_type": "execute_result"
    },
    {
     "data": {
      "image/png": "[encoded data removed]",
      "text/plain": [
       "<Figure size 432x288 with 1 Axes>"
      ]
     },
     "metadata": {
      "needs_background": "light"
     },
     "output_type": "display_data"
    }
   ],
   "source": [
    "# let's visualize them\n",
    "# X[Y==0.0,] means \"get all the rows of X where Y is 0\". X[Y==0.0,0] gets the first coordinate\n",
    "plt.plot(X[Y==0.0,0],X[Y==0.0,1],'b.')\n",
    "plt.plot(X[Y==1.0,0],X[Y==1.0,1],'r.')"
   ]
  },
  {
   "cell_type": "markdown",
   "metadata": {},
   "source": [
    "We have a highly non-linear function"
   ]
  },
  {
   "cell_type": "code",
   "execution_count": 11,
   "metadata": {},
   "outputs": [
    {
     "data": {
      "text/plain": [
       "(100, 2)"
      ]
     },
     "execution_count": 11,
     "metadata": {},
     "output_type": "execute_result"
    }
   ],
   "source": [
    "X.shape "
   ]
  },
  {
   "cell_type": "code",
   "execution_count": 12,
   "metadata": {},
   "outputs": [
    {
     "data": {
      "text/plain": [
       "(100,)"
      ]
     },
     "execution_count": 12,
     "metadata": {},
     "output_type": "execute_result"
    }
   ],
   "source": [
    "Y.shape"
   ]
  },
  {
   "cell_type": "markdown",
   "metadata": {},
   "source": [
    "# Doing it with Pytorch"
   ]
  },
  {
   "cell_type": "markdown",
   "metadata": {},
   "source": [
    "Last week's program was a little painful: we had to construct the neural network and all of the gradients ourselves, and then check them. \n",
    "\n",
    "Is there an easier way? After all, many people have built neural networks before. \n"
   ]
  },
  {
   "cell_type": "code",
   "execution_count": 13,
   "metadata": {},
   "outputs": [],
   "source": [
    "import torch\n",
    "import torch.nn as nn  # various types of layers\n",
    "import torch.nn.functional as F  # activation functions, among other things"
   ]
  },
  {
   "cell_type": "markdown",
   "metadata": {},
   "source": [
    "### How to create a NN in pytorch?\n",
    "we extend (create a subclass of) pytorch's `nn.Module` class (https://pytorch.org/docs/stable/generated/torch.nn.Module.html). "
   ]
  },
  {
   "cell_type": "code",
   "execution_count": 14,
   "metadata": {},
   "outputs": [],
   "source": [
    "class Net1( nn.Module ): \n",
    "    \n",
    "    # here one typically initialises the layers\n",
    "    # self is reference to the object (class instance)\n",
    "    def __init__(self):\n",
    "        super(Net1,self).__init__() # call constructor of super calls\n",
    "        # two linear layers\n",
    "        # this layer has 24 neurons/outputs and 2 inputs\n",
    "        self.layer1 = nn.Linear(2,24) \n",
    "        # this layer has 1 neuron and 24 inputs\n",
    "        self.layer2 = nn.Linear(24,1) # these automatically define the weights and biases for the layers\n",
    "        \n",
    "    # we need to define this to tell the net how to evaluate forward pass    \n",
    "    def forward(self,x):\n",
    "        \n",
    "        # any input x has 2 components, so it has dimension (n,2) (n is batch size)\n",
    "        # layer 1 is a tensor (matrix) of weights of dimension (2,24) (+ a vector of 24 biases)\n",
    "        # self.layer1(x) is = x*layer1_weights + layer1_biases, and so has dimensions (n,24)\n",
    "        x = torch.relu(self.layer1(x))\n",
    "        # self.layer2 has dimension (24,1); its input has (n,24) and so, \n",
    "        # output dimension is (n,1)\n",
    "        # sigmoid squashes in between 0 and 1\n",
    "        x = torch.sigmoid(self.layer2(x))\n",
    "        return x "
   ]
  },
  {
   "cell_type": "code",
   "execution_count": 15,
   "metadata": {},
   "outputs": [
    {
     "name": "stdout",
     "output_type": "stream",
     "text": [
      "Net1(\n",
      "  (layer1): Linear(in_features=2, out_features=24, bias=True)\n",
      "  (layer2): Linear(in_features=24, out_features=1, bias=True)\n",
      ")\n"
     ]
    }
   ],
   "source": [
    "# create an instance of our network class\n",
    "# it is initialised with random weights, and it needs training\n",
    "net1 = Net1()\n",
    "print( net1 )"
   ]
  },
  {
   "cell_type": "code",
   "execution_count": 16,
   "metadata": {},
   "outputs": [
    {
     "data": {
      "text/plain": [
       "<generator object Module.parameters at 0x7fba53fda430>"
      ]
     },
     "execution_count": 16,
     "metadata": {},
     "output_type": "execute_result"
    }
   ],
   "source": [
    "net1.parameters() # generator object"
   ]
  },
  {
   "cell_type": "code",
   "execution_count": 17,
   "metadata": {},
   "outputs": [
    {
     "data": {
      "text/plain": [
       "[Parameter containing:\n",
       " tensor([[-0.3793,  0.2926],\n",
       "         [-0.3284, -0.0093],\n",
       "         [ 0.1173, -0.1614],\n",
       "         [-0.4231,  0.2186],\n",
       "         [ 0.4956,  0.4419],\n",
       "         [-0.2887,  0.2225],\n",
       "         [ 0.2970, -0.4802],\n",
       "         [-0.3543, -0.4258],\n",
       "         [-0.4275,  0.5580],\n",
       "         [-0.4371, -0.1381],\n",
       "         [ 0.4033, -0.2724],\n",
       "         [-0.5106, -0.6112],\n",
       "         [-0.3661,  0.6953],\n",
       "         [ 0.1034,  0.4190],\n",
       "         [-0.0546,  0.1747],\n",
       "         [-0.1094, -0.1623],\n",
       "         [ 0.6101,  0.1897],\n",
       "         [ 0.0253,  0.3687],\n",
       "         [ 0.5304, -0.0746],\n",
       "         [-0.2080, -0.6212],\n",
       "         [-0.4134,  0.3342],\n",
       "         [ 0.5264, -0.6132],\n",
       "         [ 0.3489,  0.5383],\n",
       "         [ 0.1800, -0.2232]], requires_grad=True),\n",
       " Parameter containing:\n",
       " tensor([-0.3817, -0.0121, -0.5469,  0.2035, -0.3613,  0.0195,  0.5322, -0.6504,\n",
       "          0.0957, -0.2159, -0.3339,  0.1296,  0.3600,  0.0861, -0.2678,  0.1611,\n",
       "          0.6573, -0.2974, -0.6544, -0.2875, -0.3795,  0.3235, -0.0241,  0.6475],\n",
       "        requires_grad=True),\n",
       " Parameter containing:\n",
       " tensor([[ 0.1423, -0.1423, -0.0636, -0.1175,  0.1526, -0.0054,  0.1642,  0.0588,\n",
       "          -0.0763,  0.0923,  0.0859, -0.0651,  0.1407,  0.0381,  0.1817,  0.0853,\n",
       "          -0.1736, -0.1915, -0.0088,  0.0513, -0.2006, -0.1127,  0.0096,  0.0666]],\n",
       "        requires_grad=True),\n",
       " Parameter containing:\n",
       " tensor([0.2038], requires_grad=True)]"
      ]
     },
     "execution_count": 17,
     "metadata": {},
     "output_type": "execute_result"
    }
   ],
   "source": [
    "list( net1.parameters() )"
   ]
  },
  {
   "cell_type": "markdown",
   "metadata": {},
   "source": [
    "* _We have indeed 2x24 weights, 1x24 biases, 24x1 weights and 1x1 bias._ To exclude bias, just pass `bias=False` to `nn.Linear` (https://pytorch.org/docs/stable/generated/torch.nn.Linear.html?highlight=nn%20linear#torch.nn.Linear)\n",
    "* `requires_grad` true by default"
   ]
  },
  {
   "cell_type": "markdown",
   "metadata": {},
   "source": [
    "That's it! That is our feedforward specification of our previous NN2layer model!\n",
    "All of the back-propagation will by compiled implicitly. "
   ]
  },
  {
   "cell_type": "code",
   "execution_count": 18,
   "metadata": {},
   "outputs": [
    {
     "data": {
      "text/plain": [
       "torch.float32"
      ]
     },
     "execution_count": 18,
     "metadata": {},
     "output_type": "execute_result"
    }
   ],
   "source": [
    "# translate our numpy array into a torch tensor\n",
    "X_tensor = torch.FloatTensor(X) # X is a double in numpy, we need float32\n",
    "X_tensor.dtype"
   ]
  },
  {
   "cell_type": "code",
   "execution_count": 19,
   "metadata": {},
   "outputs": [
    {
     "data": {
      "text/plain": [
       "torch.Size([100, 2])"
      ]
     },
     "execution_count": 19,
     "metadata": {},
     "output_type": "execute_result"
    }
   ],
   "source": [
    "X_tensor.shape"
   ]
  },
  {
   "cell_type": "code",
   "execution_count": 20,
   "metadata": {},
   "outputs": [
    {
     "data": {
      "text/plain": [
       "torch.float32"
      ]
     },
     "execution_count": 20,
     "metadata": {},
     "output_type": "execute_result"
    }
   ],
   "source": [
    "Y_tensor = torch.FloatTensor(Y)\n",
    "Y_tensor.dtype"
   ]
  },
  {
   "cell_type": "code",
   "execution_count": 21,
   "metadata": {},
   "outputs": [
    {
     "data": {
      "text/plain": [
       "torch.Size([100])"
      ]
     },
     "execution_count": 21,
     "metadata": {},
     "output_type": "execute_result"
    }
   ],
   "source": [
    "Y_tensor.shape"
   ]
  },
  {
   "cell_type": "code",
   "execution_count": 22,
   "metadata": {},
   "outputs": [
    {
     "data": {
      "text/plain": [
       "torch.Size([100, 1])"
      ]
     },
     "execution_count": 22,
     "metadata": {},
     "output_type": "execute_result"
    }
   ],
   "source": [
    "# let's compute the output of the neural net\n",
    "# zero any gradients before doing forward pass (if previous gradients are present)\n",
    "# by default, torch accumulates gradients in subsequent \"backward\" calls, see https://pytorch.org/tutorials/recipes/recipes/zeroing_out_gradients.html\n",
    "net1.zero_grad() \n",
    "output = net1(X_tensor)\n",
    "output.shape"
   ]
  },
  {
   "cell_type": "markdown",
   "metadata": {},
   "source": [
    "The target values (Y) need to be the same shape as the output before we compute the average loss (this is why one needs to be careful about always knowing the shape of one's tensors). Let's reshape Y to be like the output, therefore. "
   ]
  },
  {
   "cell_type": "code",
   "execution_count": 23,
   "metadata": {},
   "outputs": [
    {
     "data": {
      "text/plain": [
       "torch.Size([100, 1])"
      ]
     },
     "execution_count": 23,
     "metadata": {},
     "output_type": "execute_result"
    }
   ],
   "source": [
    "Y_like_output = Y_tensor.reshape([100,1])\n",
    "Y_like_output.shape"
   ]
  },
  {
   "cell_type": "code",
   "execution_count": 24,
   "metadata": {},
   "outputs": [],
   "source": [
    "# we also need to specify the loss function we will use \n",
    "# In this case, binary cross-entropy (suitable for 2 class classifaction using\n",
    "# the output of a sigmoid layer), aka logistic loss\n",
    "loss = nn.BCELoss() "
   ]
  },
  {
   "cell_type": "code",
   "execution_count": 25,
   "metadata": {},
   "outputs": [
    {
     "data": {
      "text/plain": [
       "tensor(0.7192, grad_fn=<BinaryCrossEntropyBackward>)"
      ]
     },
     "execution_count": 25,
     "metadata": {},
     "output_type": "execute_result"
    }
   ],
   "source": [
    "average_loss = loss( output, Y_like_output)\n",
    "average_loss "
   ]
  },
  {
   "cell_type": "code",
   "execution_count": 26,
   "metadata": {},
   "outputs": [],
   "source": [
    "average_loss.backward() # let's now compute the gradients"
   ]
  },
  {
   "cell_type": "markdown",
   "metadata": {},
   "source": [
    "Now what do we do with the gradients?  Instead of writing our own code to update the weights by gradient descent, we will use an Optimizer object, one of the ones provided by pytorch. RMSProp is a nice, stable choice.  \n",
    "\n",
    "This will take the parameters, with their attached gradients which have been calculated after `average_loss.backward()`, and then update the weights (sensibly) in the direction of the gradient. \n",
    "\n",
    "Let us first create the optimizer object."
   ]
  },
  {
   "cell_type": "code",
   "execution_count": 27,
   "metadata": {},
   "outputs": [],
   "source": [
    "# In order to train it, we construct an instance of an optimizer class \n",
    "# which contains our network's parameters (given as a generator)\n",
    "optimizer = torch.optim.RMSprop( net1.parameters() ) "
   ]
  },
  {
   "cell_type": "code",
   "execution_count": 28,
   "metadata": {},
   "outputs": [],
   "source": [
    "# now actually use the optimizer to update the weights\n",
    "optimizer.step()\n",
    "# that's it - the weights have been adjusted! We can train again... "
   ]
  },
  {
   "cell_type": "markdown",
   "metadata": {},
   "source": [
    "Parameters have changed"
   ]
  },
  {
   "cell_type": "code",
   "execution_count": 29,
   "metadata": {},
   "outputs": [
    {
     "data": {
      "text/plain": [
       "[Parameter containing:\n",
       " tensor([[-0.4793,  0.3926],\n",
       "         [-0.4284, -0.1093],\n",
       "         [ 0.1173, -0.1614],\n",
       "         [-0.5231,  0.3185],\n",
       "         [ 0.5956,  0.3421],\n",
       "         [-0.3886,  0.3224],\n",
       "         [ 0.3970, -0.3802],\n",
       "         [-0.3543, -0.4258],\n",
       "         [-0.5275,  0.6580],\n",
       "         [-0.3371, -0.0381],\n",
       "         [ 0.3033, -0.1724],\n",
       "         [-0.4106, -0.7112],\n",
       "         [-0.2661,  0.5953],\n",
       "         [ 0.2033,  0.3190],\n",
       "         [-0.0546,  0.1747],\n",
       "         [-0.2094, -0.0623],\n",
       "         [ 0.7101,  0.0897],\n",
       "         [ 0.1246,  0.2688],\n",
       "         [ 0.5304, -0.0746],\n",
       "         [-0.1081, -0.5212],\n",
       "         [-0.3134,  0.2342],\n",
       "         [ 0.4264, -0.7132],\n",
       "         [ 0.4482,  0.4384],\n",
       "         [ 0.0801, -0.1232]], requires_grad=True),\n",
       " Parameter containing:\n",
       " tensor([-0.2817,  0.0879, -0.5469,  0.3035, -0.2613,  0.1195,  0.4322, -0.6504,\n",
       "          0.1957, -0.3159, -0.4339,  0.2296,  0.2600, -0.0139, -0.2678,  0.0611,\n",
       "          0.7573, -0.3950, -0.6544, -0.3875, -0.4795,  0.4235, -0.1240,  0.5475],\n",
       "        requires_grad=True),\n",
       " Parameter containing:\n",
       " tensor([[ 0.2423, -0.2423, -0.0636, -0.2175,  0.2526, -0.1054,  0.0642,  0.0588,\n",
       "          -0.1763, -0.0077, -0.0141, -0.1651,  0.0407, -0.0619,  0.1817, -0.0147,\n",
       "          -0.2736, -0.0915, -0.0088, -0.0487, -0.1006, -0.2127, -0.0904, -0.0334]],\n",
       "        requires_grad=True),\n",
       " Parameter containing:\n",
       " tensor([0.1038], requires_grad=True)]"
      ]
     },
     "execution_count": 29,
     "metadata": {},
     "output_type": "execute_result"
    }
   ],
   "source": [
    "list(net1.parameters())"
   ]
  },
  {
   "cell_type": "markdown",
   "metadata": {},
   "source": [
    "If we evaluate our net again (forward pass), we should see a lower (better) loss"
   ]
  },
  {
   "cell_type": "code",
   "execution_count": 30,
   "metadata": {},
   "outputs": [
    {
     "data": {
      "text/plain": [
       "tensor(0.6619, grad_fn=<BinaryCrossEntropyBackward>)"
      ]
     },
     "execution_count": 30,
     "metadata": {},
     "output_type": "execute_result"
    }
   ],
   "source": [
    "net1.zero_grad() \n",
    "output = net1(X_tensor)\n",
    "average_loss = loss( output, Y_like_output)\n",
    "average_loss "
   ]
  },
  {
   "cell_type": "markdown",
   "metadata": {},
   "source": [
    "## Basic structure of deep learning program\n",
    "Well, we have just written our neural net, cell by cell. Let's gather all the code together, into two phases: __setup__ and __training__. "
   ]
  },
  {
   "cell_type": "markdown",
   "metadata": {},
   "source": [
    "### Setting up the net"
   ]
  },
  {
   "cell_type": "code",
   "execution_count": 31,
   "metadata": {},
   "outputs": [],
   "source": [
    "# this defines our network as a subclass of nn.Module \n",
    "\n",
    "class Net1( nn.Module ): \n",
    "    \n",
    "    def __init__(self):\n",
    "        super(Net1,self).__init__()\n",
    "        self.layer1 = nn.Linear(2,24)\n",
    "        self.layer2 = nn.Linear(24,1) # these automatically define the weights and biases for the layers\n",
    "        \n",
    "    def forward(self,x):\n",
    "        x = torch.relu(self.layer1(x))\n",
    "        x = torch.sigmoid(self.layer2(x))\n",
    "        return x "
   ]
  },
  {
   "cell_type": "code",
   "execution_count": 32,
   "metadata": {},
   "outputs": [
    {
     "name": "stdout",
     "output_type": "stream",
     "text": [
      "Net1(\n",
      "  (layer1): Linear(in_features=2, out_features=24, bias=True)\n",
      "  (layer2): Linear(in_features=24, out_features=1, bias=True)\n",
      ")\n"
     ]
    }
   ],
   "source": [
    "# create an instance of our network class\n",
    "# it is initialised with random weights, and it needs training\n",
    "\n",
    "net1 = Net1()\n",
    "print( net1 )"
   ]
  },
  {
   "cell_type": "code",
   "execution_count": 33,
   "metadata": {},
   "outputs": [],
   "source": [
    "# we also need to specify the loss function we will use \n",
    "# In this case, binary cross-entropy (suitable for 2 class classifaction using\n",
    "# the output of a sigmoid layer). \n",
    "\n",
    "loss_function = nn.BCELoss()"
   ]
  },
  {
   "cell_type": "code",
   "execution_count": 34,
   "metadata": {},
   "outputs": [],
   "source": [
    "# In order to train it, we construct an instance of an optimizer class \n",
    "# which contains our network's parameters (given as a generator)\n",
    "\n",
    "optimizer = torch.optim.RMSprop( net1.parameters() )"
   ]
  },
  {
   "cell_type": "markdown",
   "metadata": {},
   "source": [
    "### Training the net"
   ]
  },
  {
   "cell_type": "markdown",
   "metadata": {},
   "source": [
    " Our training data is `X_tensor` (the inputs) and `Y_like_outpu`t ( the target classifications that we want our network to achieve).\n",
    " \n",
    " We reshaped `Y_like_output` to have the same shape as the output of our network (a little trial and error there...) "
   ]
  },
  {
   "cell_type": "code",
   "execution_count": 43,
   "metadata": {},
   "outputs": [],
   "source": [
    "n_epochs = 20 ## number of training steps"
   ]
  },
  {
   "cell_type": "code",
   "execution_count": 44,
   "metadata": {},
   "outputs": [
    {
     "name": "stdout",
     "output_type": "stream",
     "text": [
      "0 0.45634129643440247\n",
      "1 0.44781696796417236\n",
      "2 0.4395277500152588\n",
      "3 0.43193477392196655\n",
      "4 0.4242614507675171\n",
      "5 0.41686156392097473\n",
      "6 0.40979576110839844\n",
      "7 0.40309062600135803\n",
      "8 0.3960898518562317\n",
      "9 0.3895988464355469\n",
      "10 0.3824796676635742\n",
      "11 0.37616780400276184\n",
      "12 0.3691922426223755\n",
      "13 0.3631833791732788\n",
      "14 0.356868177652359\n",
      "15 0.3507753014564514\n",
      "16 0.34490737318992615\n",
      "17 0.3397538363933563\n",
      "18 0.3341657221317291\n",
      "19 0.32918012142181396\n",
      "20 0.32420554757118225\n",
      "21 0.31947752833366394\n",
      "22 0.3148650825023651\n",
      "23 0.3104354739189148\n",
      "24 0.3057752847671509\n",
      "25 0.3014991879463196\n",
      "26 0.29698115587234497\n",
      "27 0.2926785349845886\n",
      "28 0.28841209411621094\n",
      "29 0.2843547761440277\n",
      "30 0.28025132417678833\n",
      "31 0.27649298310279846\n",
      "32 0.27251023054122925\n",
      "33 0.2689399719238281\n",
      "34 0.2655433714389801\n",
      "35 0.26208847761154175\n",
      "36 0.2585964500904083\n",
      "37 0.2553160786628723\n",
      "38 0.252149760723114\n",
      "39 0.24916061758995056\n",
      "40 0.24610798060894012\n",
      "41 0.2431662678718567\n",
      "42 0.2401706874370575\n",
      "43 0.2373783439397812\n",
      "44 0.2346651405096054\n",
      "45 0.23213033378124237\n",
      "46 0.22939497232437134\n",
      "47 0.22674758732318878\n",
      "48 0.22418880462646484\n",
      "49 0.22181789577007294\n",
      "50 0.21924279630184174\n",
      "51 0.21696394681930542\n",
      "52 0.21451741456985474\n",
      "53 0.21230150759220123\n",
      "54 0.2099839448928833\n",
      "55 0.2076987624168396\n",
      "56 0.20547133684158325\n",
      "57 0.2033565193414688\n",
      "58 0.20101825892925262\n",
      "59 0.19898641109466553\n",
      "60 0.19685710966587067\n",
      "61 0.1950082927942276\n",
      "62 0.19299477338790894\n",
      "63 0.19118978083133698\n",
      "64 0.1892852932214737\n",
      "65 0.18751423060894012\n",
      "66 0.18565966188907623\n",
      "67 0.1839291751384735\n",
      "68 0.18222448229789734\n",
      "69 0.18054382503032684\n",
      "70 0.17876707017421722\n",
      "71 0.17722082138061523\n",
      "72 0.17556661367416382\n",
      "73 0.17400459945201874\n",
      "74 0.17243140935897827\n",
      "75 0.17099151015281677\n",
      "76 0.16945871710777283\n",
      "77 0.16794148087501526\n",
      "78 0.16644428670406342\n",
      "79 0.16499553620815277\n",
      "80 0.16354292631149292\n",
      "81 0.16211095452308655\n",
      "82 0.1607314497232437\n",
      "83 0.15932507812976837\n",
      "84 0.1579478681087494\n",
      "85 0.1566314846277237\n",
      "86 0.15518829226493835\n",
      "87 0.154015451669693\n",
      "88 0.15273843705654144\n",
      "89 0.1516033262014389\n",
      "90 0.15035289525985718\n",
      "91 0.14915332198143005\n",
      "92 0.14797520637512207\n",
      "93 0.14675666391849518\n",
      "94 0.1456293910741806\n",
      "95 0.1445324569940567\n",
      "96 0.14337991178035736\n",
      "97 0.14232680201530457\n",
      "98 0.14121806621551514\n",
      "99 0.14009599387645721\n",
      "100 0.1390809267759323\n",
      "101 0.13790909945964813\n",
      "102 0.1368637979030609\n",
      "103 0.13580010831356049\n",
      "104 0.13490580022335052\n",
      "105 0.13391493260860443\n",
      "106 0.1330459713935852\n",
      "107 0.13215158879756927\n",
      "108 0.13124342262744904\n",
      "109 0.13026529550552368\n",
      "110 0.12931330502033234\n",
      "111 0.128390833735466\n",
      "112 0.12750521302223206\n",
      "113 0.1265385001897812\n",
      "114 0.12573707103729248\n",
      "115 0.12481357902288437\n",
      "116 0.12390846014022827\n",
      "117 0.123031385242939\n",
      "118 0.12226395308971405\n",
      "119 0.1213715448975563\n",
      "120 0.12052953988313675\n",
      "121 0.11968693882226944\n",
      "122 0.11882271617650986\n",
      "123 0.11796745657920837\n",
      "124 0.11716976761817932\n",
      "125 0.11631563305854797\n",
      "126 0.11557172983884811\n",
      "127 0.11477047950029373\n",
      "128 0.11400210112333298\n",
      "129 0.11321933567523956\n",
      "130 0.11245124787092209\n",
      "131 0.11174645274877548\n",
      "132 0.11104220151901245\n",
      "133 0.11035297065973282\n",
      "134 0.10970943421125412\n",
      "135 0.10899762809276581\n",
      "136 0.1083974540233612\n",
      "137 0.10766353458166122\n",
      "138 0.1070004478096962\n",
      "139 0.10635736584663391\n",
      "140 0.10566899180412292\n",
      "141 0.10504156351089478\n",
      "142 0.10444992035627365\n",
      "143 0.10383794456720352\n",
      "144 0.1032738909125328\n",
      "145 0.10265104472637177\n",
      "146 0.10215336084365845\n",
      "147 0.10150361061096191\n",
      "148 0.10098402202129364\n",
      "149 0.10037198662757874\n",
      "150 0.09976990520954132\n",
      "151 0.09931086748838425\n",
      "152 0.09883706271648407\n",
      "153 0.09834707528352737\n",
      "154 0.09790760278701782\n",
      "155 0.09755323082208633\n",
      "156 0.09714502096176147\n",
      "157 0.09673210233449936\n",
      "158 0.0962693989276886\n",
      "159 0.09579282999038696\n",
      "160 0.09519482403993607\n",
      "161 0.09464673697948456\n",
      "162 0.09392202645540237\n",
      "163 0.09342159330844879\n",
      "164 0.0927712544798851\n",
      "165 0.09212014079093933\n",
      "166 0.09153591096401215\n",
      "167 0.09083587676286697\n",
      "168 0.09027266502380371\n",
      "169 0.0896560400724411\n",
      "170 0.08907118439674377\n",
      "171 0.08854933083057404\n",
      "172 0.08800575882196426\n",
      "173 0.08751633763313293\n",
      "174 0.08707427978515625\n",
      "175 0.08659345656633377\n",
      "176 0.08615627139806747\n",
      "177 0.08568821102380753\n",
      "178 0.08525650203227997\n",
      "179 0.08478549122810364\n",
      "180 0.08433800935745239\n",
      "181 0.08391790091991425\n",
      "182 0.08353038877248764\n",
      "183 0.08310799300670624\n",
      "184 0.08271345496177673\n",
      "185 0.0822913721203804\n",
      "186 0.08190114051103592\n",
      "187 0.08147501200437546\n",
      "188 0.08114134520292282\n",
      "189 0.08072632551193237\n",
      "190 0.08039236813783646\n",
      "191 0.07998857647180557\n",
      "192 0.0796472579240799\n",
      "193 0.07925644516944885\n",
      "194 0.07894864678382874\n",
      "195 0.07864218205213547\n",
      "196 0.07834067195653915\n",
      "197 0.07794643193483353\n",
      "198 0.07762826234102249\n",
      "199 0.0773354321718216\n"
     ]
    }
   ],
   "source": [
    "for i in range(0,n_epochs): \n",
    "\n",
    "    net1.zero_grad() # zero all gradients in the network\n",
    "    # before doing back-propagation\n",
    "    # It is important to remember to zero the gradients, \n",
    "    # otherwise the gradients will \n",
    "    # just accumulate. \n",
    "    \n",
    "    output = net1( X_tensor ) # forward pass\n",
    "    \n",
    "    average_loss = loss_function( output, Y_like_output)\n",
    "    \n",
    "    print(i, average_loss.item()) # important to see what is happening\n",
    "    # average_loss is a zero-dimensional tensor; to convert it to a number \n",
    "    # we cannot index, but instead we do average_loss.item() \n",
    "    \n",
    "    average_loss.backward() # this computes all our gradients :) \n",
    "    \n",
    "    optimizer.step() # this updates the weights :) "
   ]
  },
  {
   "cell_type": "markdown",
   "metadata": {},
   "source": [
    "___Why a 2d input/function?___ because we can visualize what happens (impossible for realistic high-dimensional neural nets)"
   ]
  },
  {
   "cell_type": "code",
   "execution_count": 37,
   "metadata": {},
   "outputs": [],
   "source": [
    "def plot_nn_predictions( net1 ):\n",
    "    # build a grid of x-values and y-values in our domain\n",
    "    x_values = np.linspace(-1,1,200)\n",
    "    y_values = np.linspace(-1,1,200)\n",
    "    # initialize 200x200 grid to store results\n",
    "    J_grid = np.zeros([x_values.size,y_values.size])    \n",
    "    \n",
    "    # We do something interesting here.  \n",
    "    # By calling torch.no_grad(), we are telling pytorch we are not interested in computing gradients \n",
    "    # so in the forward pass, it spares us extra computation/memory required for backprop\n",
    "    with torch.no_grad(): \n",
    "        # for every point in our 200x200 grid\n",
    "        for x_index in range(0, x_values.size):\n",
    "            for y_index in range(0, y_values.size):\n",
    "                # we evaluate our net on the individual (x,y) point of the grid and update J_grid with the prediction\n",
    "                predicted_y_tensor =net1(torch.FloatTensor([x_values[x_index], y_values[y_index]]))\n",
    "                J_grid[x_index,y_index] = predicted_y_tensor.item()\n",
    "        \n",
    "    # plot the grid + legend\n",
    "    plt.imshow(J_grid.transpose(), origin='lower',extent=[-1,1,-1,1])\n",
    "    plt.colorbar()                                               "
   ]
  },
  {
   "cell_type": "code",
   "execution_count": 45,
   "metadata": {},
   "outputs": [
    {
     "data": {
      "text/plain": [
       "[<matplotlib.lines.Line2D at 0x7fba543be9a0>]"
      ]
     },
     "execution_count": 45,
     "metadata": {},
     "output_type": "execute_result"
    },
    {
     "data": {
      "image/png": "[encoded data removed]",
      "text/plain": [
       "<Figure size 432x288 with 2 Axes>"
      ]
     },
     "metadata": {
      "needs_background": "light"
     },
     "output_type": "display_data"
    }
   ],
   "source": [
    "# plot the predictions and overlay our training data\n",
    "plot_nn_predictions(net1)\n",
    "\n",
    "plt.plot(X[Y==0.0,0],X[Y==0.0,1],'b.')\n",
    "plt.plot(X[Y==1.0,0],X[Y==1.0,1],'r.')"
   ]
  },
  {
   "cell_type": "markdown",
   "metadata": {},
   "source": [
    "__Ideas for improvement__:\n",
    "the `plot_nn_predictions` function is rather slow because the  model is being used to make one prediction at a time. This incurs quite a large overhead: it is more efficient to make many predictions at once. Can you modify this function to do this? "
   ]
  },
  {
   "cell_type": "markdown",
   "metadata": {},
   "source": [
    "### How can we examine the weights and the gradients? \n",
    "\n",
    "Simple !  We can extract them from the neural network. \n",
    "\n",
    "Our network `net1` has two inputs, 24 neurons in the first layer, and 1 neuron in the output layer. \n",
    "\n",
    "The first layer is called `layer1` and the second `layer2` (go back and look at the definition of the class `Net1`)"
   ]
  },
  {
   "cell_type": "code",
   "execution_count": null,
   "metadata": {},
   "outputs": [],
   "source": [
    "net1.layer1 ## first layer "
   ]
  },
  {
   "cell_type": "code",
   "execution_count": null,
   "metadata": {},
   "outputs": [],
   "source": [
    "net1.layer1.weight # weights of first layer"
   ]
  },
  {
   "cell_type": "code",
   "execution_count": 39,
   "metadata": {},
   "outputs": [
    {
     "data": {
      "text/plain": [
       "array([[ 1.1174295 ,  0.6251254 ],\n",
       "       [-1.2184495 ,  0.86079764],\n",
       "       [-1.0487441 ,  0.7124148 ],\n",
       "       [-0.7119812 ,  0.7871565 ],\n",
       "       [ 0.86336595,  0.51461923],\n",
       "       [-0.80990946, -0.41824985],\n",
       "       [ 1.172268  ,  0.6371612 ],\n",
       "       [ 0.12411237, -0.00877335],\n",
       "       [ 0.02406028,  0.45592964],\n",
       "       [ 1.1616496 ,  0.69208705],\n",
       "       [-0.9889342 ,  0.9532409 ],\n",
       "       [ 1.1174295 , -0.8564963 ],\n",
       "       [ 0.11291336, -0.3928969 ],\n",
       "       [-1.0062408 ,  0.66701573],\n",
       "       [ 1.0353541 , -1.0660962 ],\n",
       "       [-1.0115503 , -0.62325174],\n",
       "       [-0.6398772 ,  0.8580159 ],\n",
       "       [ 0.0398466 , -0.5984993 ],\n",
       "       [ 0.44756785, -0.43366876],\n",
       "       [ 0.34126195,  0.20931087],\n",
       "       [-1.0121801 , -0.53693795],\n",
       "       [ 0.08259663, -0.34622926],\n",
       "       [ 0.02786092,  0.18932132],\n",
       "       [ 0.9655756 ,  0.5520521 ]], dtype=float32)"
      ]
     },
     "execution_count": 39,
     "metadata": {},
     "output_type": "execute_result"
    }
   ],
   "source": [
    "# a small complication here. We want to convert the weight tensor to \n",
    "# a numpy array, but it has gradients attached. If requires_gradient is True, \n",
    "# we must use .detach().numpy() instead of just .numpy()\n",
    "# (returns a new tensor detached from current graph )\n",
    "\n",
    "layer1_weights = net1.layer1.weight.detach().numpy()\n",
    "layer1_weights"
   ]
  },
  {
   "cell_type": "code",
   "execution_count": 40,
   "metadata": {},
   "outputs": [
    {
     "data": {
      "text/plain": [
       "array([[-7.8737680e-03, -5.4870485e-03],\n",
       "       [ 1.1630061e-02, -5.5172443e-03],\n",
       "       [ 1.1560832e-02, -5.4844031e-03],\n",
       "       [ 3.7877660e-03, -1.3182508e-03],\n",
       "       [-1.1990400e-03,  5.6788384e-05],\n",
       "       [ 3.1633927e-03, -1.5423258e-03],\n",
       "       [-5.0628195e-03, -3.5281628e-03],\n",
       "       [-1.3406284e-04, -4.6122260e-04],\n",
       "       [ 0.0000000e+00,  0.0000000e+00],\n",
       "       [-9.4424030e-03, -6.5801945e-03],\n",
       "       [ 5.1214695e-03, -8.5386261e-04],\n",
       "       [-5.9306421e-03,  1.7125171e-04],\n",
       "       [-1.1054508e-05, -3.8031249e-05],\n",
       "       [ 1.0980153e-02, -6.9166683e-03],\n",
       "       [-8.3224159e-03, -7.2633848e-05],\n",
       "       [ 2.4345119e-03,  1.6675000e-03],\n",
       "       [ 3.2754843e-03,  7.4857962e-04],\n",
       "       [ 0.0000000e+00,  0.0000000e+00],\n",
       "       [ 0.0000000e+00,  0.0000000e+00],\n",
       "       [ 2.9799150e-05,  1.0251955e-04],\n",
       "       [ 7.6104570e-03, -3.7105128e-03],\n",
       "       [-5.3114496e-04, -3.9850129e-04],\n",
       "       [ 3.4540892e-05,  1.1883263e-04],\n",
       "       [-9.4316471e-03, -6.5727010e-03]], dtype=float32)"
      ]
     },
     "execution_count": 40,
     "metadata": {},
     "output_type": "execute_result"
    }
   ],
   "source": [
    "# we don't need to use detach for the gradients because the gradients are a \n",
    "# pure tensor. \n",
    "\n",
    "layer1_gradients = net1.layer1.weight.grad.numpy()\n",
    "layer1_gradients"
   ]
  },
  {
   "cell_type": "markdown",
   "metadata": {},
   "source": [
    "Let's now plot some histograms of weights and gradients"
   ]
  },
  {
   "cell_type": "code",
   "execution_count": 46,
   "metadata": {},
   "outputs": [
    {
     "data": {
      "text/plain": [
       "(array([ 8.,  4.,  4.,  8.,  5., 10.,  9.]),\n",
       " array([-3.5579665 , -2.6488416 , -1.7397165 , -0.8305916 ,  0.07853334,\n",
       "         0.9876583 ,  1.8967832 ,  2.8059082 ], dtype=float32),\n",
       " <BarContainer object of 7 artists>)"
      ]
     },
     "execution_count": 46,
     "metadata": {},
     "output_type": "execute_result"
    },
    {
     "data": {
      "image/png": "[encoded data removed]",
      "text/plain": [
       "<Figure size 432x288 with 1 Axes>"
      ]
     },
     "metadata": {
      "needs_background": "light"
     },
     "output_type": "display_data"
    }
   ],
   "source": [
    "n_bins = 7\n",
    "plt.hist( layer1_weights.reshape(-1), n_bins )"
   ]
  },
  {
   "cell_type": "code",
   "execution_count": 47,
   "metadata": {},
   "outputs": [
    {
     "data": {
      "text/plain": [
       "(array([ 4.,  4.,  3.,  6., 16.,  7.,  8.]),\n",
       " array([-0.00704471, -0.0054528 , -0.0038609 , -0.00226899, -0.00067708,\n",
       "         0.00091482,  0.00250673,  0.00409864], dtype=float32),\n",
       " <BarContainer object of 7 artists>)"
      ]
     },
     "execution_count": 47,
     "metadata": {},
     "output_type": "execute_result"
    },
    {
     "data": {
      "image/png": "[encoded data removed]",
      "text/plain": [
       "<Figure size 432x288 with 1 Axes>"
      ]
     },
     "metadata": {
      "needs_background": "light"
     },
     "output_type": "display_data"
    }
   ],
   "source": [
    "n_bins = 7 \n",
    "plt.hist( layer1_gradients.reshape(-1), n_bins )"
   ]
  },
  {
   "cell_type": "markdown",
   "metadata": {},
   "source": [
    "__let's now train more and see what happens!__"
   ]
  },
  {
   "cell_type": "markdown",
   "metadata": {},
   "source": [
    "# More exercises: vary the network and explore the effects"
   ]
  },
  {
   "cell_type": "markdown",
   "metadata": {},
   "source": [
    "Your task in this lab is to explore as many variations as possible using Pytorch. \n",
    "\n",
    "Try adding more layers, with larger numbers of neurons. What happens? \n",
    "\n",
    "Try using different types of activation function. What is the effect of, say, tanh or sigmoid as opposed to relu?  \n",
    "\n",
    "Try using more data, with more complicated definitions of y (in particular, try using classifier4, or make up your own)\n",
    "\n",
    "Plot the statistics on training and validation loss and accuracy, obtained from history.history\n",
    "\n",
    "Compare the rates of learning of different network architectures. "
   ]
  },
  {
   "cell_type": "code",
   "execution_count": null,
   "metadata": {},
   "outputs": [],
   "source": []
  }
 ],
 "metadata": {
  "kernelspec": {
   "display_name": "Python 3",
   "language": "python",
   "name": "python3"
  },
  "language_info": {
   "codemirror_mode": {
    "name": "ipython",
    "version": 3
   },
   "file_extension": ".py",
   "mimetype": "text/x-python",
   "name": "python",
   "nbconvert_exporter": "python",
   "pygments_lexer": "ipython3",
   "version": "3.8.5"
  },
  "latex_envs": {
   "LaTeX_envs_menu_present": true,
   "autoclose": false,
   "autocomplete": true,
   "bibliofile": "biblio.bib",
   "cite_by": "apalike",
   "current_citInitial": 1,
   "eqLabelWithNumbers": true,
   "eqNumInitial": 1,
   "hotkeys": {
    "equation": "Ctrl-E",
    "itemize": "Ctrl-I"
   },
   "labels_anchors": false,
   "latex_user_defs": false,
   "report_style_numbering": false,
   "user_envs_cfg": false
  }
 },
 "nbformat": 4,
 "nbformat_minor": 4
}
