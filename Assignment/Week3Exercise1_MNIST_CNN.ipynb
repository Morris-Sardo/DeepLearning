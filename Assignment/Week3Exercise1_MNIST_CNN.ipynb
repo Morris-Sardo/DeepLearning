{
 "cells": [
  {
   "cell_type": "markdown",
   "metadata": {},
   "source": [
    "# The MNIST Dataset\n",
    "\n",
    "#  Aims of this practical session\n",
    "\n",
    "* To define and use different deep models using the PytorchAPI, which is more general than the Sequential API we have used so far\n",
    "\n",
    "* To examine the effect of batch normalisation and skip-forward connections on learning with deep networks. \n",
    "\n",
    "* To examine the effect of different amounts of regularisation on the same architecture, and to plot a graph of training and validation error as a function of the amount of regularisation\n",
    "\n",
    "* To explore the MNIST dataset and plot learning curves to estimate error rates as a function of training set size\n",
    "\n",
    "* To do your own exploration of applying different architectures to the MNIST data (and possibly also to the CIFAR data during the week)"
   ]
  },
  {
   "cell_type": "code",
   "execution_count": 2,
   "metadata": {},
   "outputs": [],
   "source": [
    "import numpy as np\n",
    "\n",
    "import matplotlib.pyplot as plt\n",
    "import matplotlib.cm as cm  # colormaps\n",
    "\n",
    "%matplotlib inline"
   ]
  },
  {
   "cell_type": "code",
   "execution_count": 3,
   "metadata": {},
   "outputs": [],
   "source": [
    "import torch\n",
    "import torch.nn as nn"
   ]
  },
  {
   "cell_type": "code",
   "execution_count": 4,
   "metadata": {},
   "outputs": [],
   "source": [
    "import torch.nn.functional as F  # this includes tensor functions that we can use in backwards pass"
   ]
  },
  {
   "cell_type": "code",
   "execution_count": 5,
   "metadata": {},
   "outputs": [],
   "source": [
    "import torchvision"
   ]
  },
  {
   "cell_type": "code",
   "execution_count": 6,
   "metadata": {},
   "outputs": [],
   "source": [
    "import torchvision.datasets as datasets"
   ]
  },
  {
   "cell_type": "code",
   "execution_count": 7,
   "metadata": {},
   "outputs": [],
   "source": [
    "from torchvision import transforms"
   ]
  },
  {
   "cell_type": "markdown",
   "metadata": {},
   "source": [
    "# Pytorch datasets\n",
    "\n",
    "Several well known datasets are provided with pytorch, and can be imported and easily used.\n",
    "\n",
    "The MNIST dataset is a famous and has been used as a testbed of machine learning algorithms for more than 25 years. \n",
    "\n",
    "There is an interesting dataset called fashion_MNIST which is a plug-in replacement for the MNIST dataset, but which may have very different properties (it is grey-scale images). (It is possible that you may need to download this from the web if you want to use it. ) "
   ]
  },
  {
   "cell_type": "code",
   "execution_count": 8,
   "metadata": {},
   "outputs": [],
   "source": [
    "transform_list = transforms.Compose([ transforms.ToTensor(), transforms.Normalize(mean=[0.0], std=[1.0,]) ] )"
   ]
  },
  {
   "cell_type": "code",
   "execution_count": 9,
   "metadata": {},
   "outputs": [],
   "source": [
    "mnist_trainset = datasets.MNIST(root='./data', train=True, download=True, transform=transform_list)"
   ]
  },
  {
   "cell_type": "code",
   "execution_count": null,
   "metadata": {},
   "outputs": [
    {
     "data": {
      "text/plain": [
       "<matplotlib.colorbar.Colorbar at 0x230f76472f0>"
      ]
     },
     "execution_count": 10,
     "metadata": {},
     "output_type": "execute_result"
    },
    {
     "data": {
      "image/png": "[encoded data removed]",
      "text/plain": [
       "<Figure size 640x480 with 2 Axes>"
      ]
     },
     "metadata": {},
     "output_type": "display_data"
    }
   ],
   "source": [
    "plt.imshow( mnist_trainset[0][0].view(28,28).numpy() )\n",
    "plt.colorbar()"
   ]
  },
  {
   "cell_type": "code",
   "execution_count": 11,
   "metadata": {},
   "outputs": [
    {
     "data": {
      "text/plain": [
       "tensor([[[0.0000, 0.0000, 0.0000, 0.0000, 0.0000, 0.0000, 0.0000, 0.0000,\n",
       "          0.0000, 0.0000, 0.0000, 0.0000, 0.0000, 0.0000, 0.0000, 0.0000,\n",
       "          0.0000, 0.0000, 0.0000, 0.0000, 0.0000, 0.0000, 0.0000, 0.0000,\n",
       "          0.0000, 0.0000, 0.0000, 0.0000],\n",
       "         [0.0000, 0.0000, 0.0000, 0.0000, 0.0000, 0.0000, 0.0000, 0.0000,\n",
       "          0.0000, 0.0000, 0.0000, 0.0000, 0.0000, 0.0000, 0.0000, 0.0000,\n",
       "          0.0000, 0.0000, 0.0000, 0.0000, 0.0000, 0.0000, 0.0000, 0.0000,\n",
       "          0.0000, 0.0000, 0.0000, 0.0000],\n",
       "         [0.0000, 0.0000, 0.0000, 0.0000, 0.0000, 0.0000, 0.0000, 0.0000,\n",
       "          0.0000, 0.0000, 0.0000, 0.0000, 0.0000, 0.0000, 0.0000, 0.0000,\n",
       "          0.0000, 0.0000, 0.0000, 0.0000, 0.0000, 0.0000, 0.0000, 0.0000,\n",
       "          0.0000, 0.0000, 0.0000, 0.0000],\n",
       "         [0.0000, 0.0000, 0.0000, 0.0000, 0.0000, 0.0000, 0.0000, 0.0000,\n",
       "          0.0000, 0.0000, 0.0000, 0.0000, 0.0000, 0.0000, 0.0000, 0.0000,\n",
       "          0.0000, 0.0000, 0.0000, 0.0000, 0.0000, 0.0000, 0.0000, 0.0000,\n",
       "          0.0000, 0.0000, 0.0000, 0.0000],\n",
       "         [0.0000, 0.0000, 0.0000, 0.0000, 0.0000, 0.0000, 0.0000, 0.0000,\n",
       "          0.0000, 0.0000, 0.0000, 0.0000, 0.0000, 0.0000, 0.0000, 0.0000,\n",
       "          0.0000, 0.0000, 0.0000, 0.0000, 0.0000, 0.0000, 0.0000, 0.0000,\n",
       "          0.0000, 0.0000, 0.0000, 0.0000],\n",
       "         [0.0000, 0.0000, 0.0000, 0.0000, 0.0000, 0.0000, 0.0000, 0.0000,\n",
       "          0.0000, 0.0000, 0.0000, 0.0000, 0.0118, 0.0706, 0.0706, 0.0706,\n",
       "          0.4941, 0.5333, 0.6863, 0.1020, 0.6510, 1.0000, 0.9686, 0.4980,\n",
       "          0.0000, 0.0000, 0.0000, 0.0000],\n",
       "         [0.0000, 0.0000, 0.0000, 0.0000, 0.0000, 0.0000, 0.0000, 0.0000,\n",
       "          0.1176, 0.1412, 0.3686, 0.6039, 0.6667, 0.9922, 0.9922, 0.9922,\n",
       "          0.9922, 0.9922, 0.8824, 0.6745, 0.9922, 0.9490, 0.7647, 0.2510,\n",
       "          0.0000, 0.0000, 0.0000, 0.0000],\n",
       "         [0.0000, 0.0000, 0.0000, 0.0000, 0.0000, 0.0000, 0.0000, 0.1922,\n",
       "          0.9333, 0.9922, 0.9922, 0.9922, 0.9922, 0.9922, 0.9922, 0.9922,\n",
       "          0.9922, 0.9843, 0.3647, 0.3216, 0.3216, 0.2196, 0.1529, 0.0000,\n",
       "          0.0000, 0.0000, 0.0000, 0.0000],\n",
       "         [0.0000, 0.0000, 0.0000, 0.0000, 0.0000, 0.0000, 0.0000, 0.0706,\n",
       "          0.8588, 0.9922, 0.9922, 0.9922, 0.9922, 0.9922, 0.7765, 0.7137,\n",
       "          0.9686, 0.9451, 0.0000, 0.0000, 0.0000, 0.0000, 0.0000, 0.0000,\n",
       "          0.0000, 0.0000, 0.0000, 0.0000],\n",
       "         [0.0000, 0.0000, 0.0000, 0.0000, 0.0000, 0.0000, 0.0000, 0.0000,\n",
       "          0.3137, 0.6118, 0.4196, 0.9922, 0.9922, 0.8039, 0.0431, 0.0000,\n",
       "          0.1686, 0.6039, 0.0000, 0.0000, 0.0000, 0.0000, 0.0000, 0.0000,\n",
       "          0.0000, 0.0000, 0.0000, 0.0000],\n",
       "         [0.0000, 0.0000, 0.0000, 0.0000, 0.0000, 0.0000, 0.0000, 0.0000,\n",
       "          0.0000, 0.0549, 0.0039, 0.6039, 0.9922, 0.3529, 0.0000, 0.0000,\n",
       "          0.0000, 0.0000, 0.0000, 0.0000, 0.0000, 0.0000, 0.0000, 0.0000,\n",
       "          0.0000, 0.0000, 0.0000, 0.0000],\n",
       "         [0.0000, 0.0000, 0.0000, 0.0000, 0.0000, 0.0000, 0.0000, 0.0000,\n",
       "          0.0000, 0.0000, 0.0000, 0.5451, 0.9922, 0.7451, 0.0078, 0.0000,\n",
       "          0.0000, 0.0000, 0.0000, 0.0000, 0.0000, 0.0000, 0.0000, 0.0000,\n",
       "          0.0000, 0.0000, 0.0000, 0.0000],\n",
       "         [0.0000, 0.0000, 0.0000, 0.0000, 0.0000, 0.0000, 0.0000, 0.0000,\n",
       "          0.0000, 0.0000, 0.0000, 0.0431, 0.7451, 0.9922, 0.2745, 0.0000,\n",
       "          0.0000, 0.0000, 0.0000, 0.0000, 0.0000, 0.0000, 0.0000, 0.0000,\n",
       "          0.0000, 0.0000, 0.0000, 0.0000],\n",
       "         [0.0000, 0.0000, 0.0000, 0.0000, 0.0000, 0.0000, 0.0000, 0.0000,\n",
       "          0.0000, 0.0000, 0.0000, 0.0000, 0.1373, 0.9451, 0.8824, 0.6275,\n",
       "          0.4235, 0.0039, 0.0000, 0.0000, 0.0000, 0.0000, 0.0000, 0.0000,\n",
       "          0.0000, 0.0000, 0.0000, 0.0000],\n",
       "         [0.0000, 0.0000, 0.0000, 0.0000, 0.0000, 0.0000, 0.0000, 0.0000,\n",
       "          0.0000, 0.0000, 0.0000, 0.0000, 0.0000, 0.3176, 0.9412, 0.9922,\n",
       "          0.9922, 0.4667, 0.0980, 0.0000, 0.0000, 0.0000, 0.0000, 0.0000,\n",
       "          0.0000, 0.0000, 0.0000, 0.0000],\n",
       "         [0.0000, 0.0000, 0.0000, 0.0000, 0.0000, 0.0000, 0.0000, 0.0000,\n",
       "          0.0000, 0.0000, 0.0000, 0.0000, 0.0000, 0.0000, 0.1765, 0.7294,\n",
       "          0.9922, 0.9922, 0.5882, 0.1059, 0.0000, 0.0000, 0.0000, 0.0000,\n",
       "          0.0000, 0.0000, 0.0000, 0.0000],\n",
       "         [0.0000, 0.0000, 0.0000, 0.0000, 0.0000, 0.0000, 0.0000, 0.0000,\n",
       "          0.0000, 0.0000, 0.0000, 0.0000, 0.0000, 0.0000, 0.0000, 0.0627,\n",
       "          0.3647, 0.9882, 0.9922, 0.7333, 0.0000, 0.0000, 0.0000, 0.0000,\n",
       "          0.0000, 0.0000, 0.0000, 0.0000],\n",
       "         [0.0000, 0.0000, 0.0000, 0.0000, 0.0000, 0.0000, 0.0000, 0.0000,\n",
       "          0.0000, 0.0000, 0.0000, 0.0000, 0.0000, 0.0000, 0.0000, 0.0000,\n",
       "          0.0000, 0.9765, 0.9922, 0.9765, 0.2510, 0.0000, 0.0000, 0.0000,\n",
       "          0.0000, 0.0000, 0.0000, 0.0000],\n",
       "         [0.0000, 0.0000, 0.0000, 0.0000, 0.0000, 0.0000, 0.0000, 0.0000,\n",
       "          0.0000, 0.0000, 0.0000, 0.0000, 0.0000, 0.0000, 0.1804, 0.5098,\n",
       "          0.7176, 0.9922, 0.9922, 0.8118, 0.0078, 0.0000, 0.0000, 0.0000,\n",
       "          0.0000, 0.0000, 0.0000, 0.0000],\n",
       "         [0.0000, 0.0000, 0.0000, 0.0000, 0.0000, 0.0000, 0.0000, 0.0000,\n",
       "          0.0000, 0.0000, 0.0000, 0.0000, 0.1529, 0.5804, 0.8980, 0.9922,\n",
       "          0.9922, 0.9922, 0.9804, 0.7137, 0.0000, 0.0000, 0.0000, 0.0000,\n",
       "          0.0000, 0.0000, 0.0000, 0.0000],\n",
       "         [0.0000, 0.0000, 0.0000, 0.0000, 0.0000, 0.0000, 0.0000, 0.0000,\n",
       "          0.0000, 0.0000, 0.0941, 0.4471, 0.8667, 0.9922, 0.9922, 0.9922,\n",
       "          0.9922, 0.7882, 0.3059, 0.0000, 0.0000, 0.0000, 0.0000, 0.0000,\n",
       "          0.0000, 0.0000, 0.0000, 0.0000],\n",
       "         [0.0000, 0.0000, 0.0000, 0.0000, 0.0000, 0.0000, 0.0000, 0.0000,\n",
       "          0.0902, 0.2588, 0.8353, 0.9922, 0.9922, 0.9922, 0.9922, 0.7765,\n",
       "          0.3176, 0.0078, 0.0000, 0.0000, 0.0000, 0.0000, 0.0000, 0.0000,\n",
       "          0.0000, 0.0000, 0.0000, 0.0000],\n",
       "         [0.0000, 0.0000, 0.0000, 0.0000, 0.0000, 0.0000, 0.0706, 0.6706,\n",
       "          0.8588, 0.9922, 0.9922, 0.9922, 0.9922, 0.7647, 0.3137, 0.0353,\n",
       "          0.0000, 0.0000, 0.0000, 0.0000, 0.0000, 0.0000, 0.0000, 0.0000,\n",
       "          0.0000, 0.0000, 0.0000, 0.0000],\n",
       "         [0.0000, 0.0000, 0.0000, 0.0000, 0.2157, 0.6745, 0.8863, 0.9922,\n",
       "          0.9922, 0.9922, 0.9922, 0.9569, 0.5216, 0.0431, 0.0000, 0.0000,\n",
       "          0.0000, 0.0000, 0.0000, 0.0000, 0.0000, 0.0000, 0.0000, 0.0000,\n",
       "          0.0000, 0.0000, 0.0000, 0.0000],\n",
       "         [0.0000, 0.0000, 0.0000, 0.0000, 0.5333, 0.9922, 0.9922, 0.9922,\n",
       "          0.8314, 0.5294, 0.5176, 0.0627, 0.0000, 0.0000, 0.0000, 0.0000,\n",
       "          0.0000, 0.0000, 0.0000, 0.0000, 0.0000, 0.0000, 0.0000, 0.0000,\n",
       "          0.0000, 0.0000, 0.0000, 0.0000],\n",
       "         [0.0000, 0.0000, 0.0000, 0.0000, 0.0000, 0.0000, 0.0000, 0.0000,\n",
       "          0.0000, 0.0000, 0.0000, 0.0000, 0.0000, 0.0000, 0.0000, 0.0000,\n",
       "          0.0000, 0.0000, 0.0000, 0.0000, 0.0000, 0.0000, 0.0000, 0.0000,\n",
       "          0.0000, 0.0000, 0.0000, 0.0000],\n",
       "         [0.0000, 0.0000, 0.0000, 0.0000, 0.0000, 0.0000, 0.0000, 0.0000,\n",
       "          0.0000, 0.0000, 0.0000, 0.0000, 0.0000, 0.0000, 0.0000, 0.0000,\n",
       "          0.0000, 0.0000, 0.0000, 0.0000, 0.0000, 0.0000, 0.0000, 0.0000,\n",
       "          0.0000, 0.0000, 0.0000, 0.0000],\n",
       "         [0.0000, 0.0000, 0.0000, 0.0000, 0.0000, 0.0000, 0.0000, 0.0000,\n",
       "          0.0000, 0.0000, 0.0000, 0.0000, 0.0000, 0.0000, 0.0000, 0.0000,\n",
       "          0.0000, 0.0000, 0.0000, 0.0000, 0.0000, 0.0000, 0.0000, 0.0000,\n",
       "          0.0000, 0.0000, 0.0000, 0.0000]]])"
      ]
     },
     "execution_count": 11,
     "metadata": {},
     "output_type": "execute_result"
    }
   ],
   "source": [
    "mnist_trainset[0][0]"
   ]
  },
  {
   "cell_type": "markdown",
   "metadata": {},
   "source": [
    "We have normalised the values in the image to lie between 0 and 1.  However, I am baffled! According to the Pytorch documentation, the Normalize transform with the arguments I have given to it should normalise each image to have pixel values with a mean of 0 and a standard deviation of 1.  I am baffled....can anyone resolve this?  \n",
    "\n",
    "I do not know whether a normalisation between 0 and 1, or a normalisation with mean 0 and std 1 would be better. One might try both. It is possible that the normalisation between 0 and 1 is superior because 0 has the meaning \"blank space\" and 1 has the meaning \"dark ink\" for every image. \n",
    "\n",
    "The exact form of normalisation may not be important, but it is important to do some normalisation to make the inputs of a defined size and -- most importantly -- that the inputs should be of roughly similar typical sizes. \n",
    "\n",
    "The reason for ensuring that inputs are of similar typical magnitudes is that the gradient of an input weight is proportional to the input: if we increase the typical values of one input by a factor of 10, the weight must be reduced by a factor of 10, but its gradients will increase by a factor of 10... This makes optimisation more difficult.  "
   ]
  },
  {
   "cell_type": "markdown",
   "metadata": {},
   "source": [
    "Let us use a smaller set of data to train with at first, so that you can do more experiments more quickly. Let's take the first 4000 training examples only: "
   ]
  },
  {
   "cell_type": "code",
   "execution_count": 12,
   "metadata": {},
   "outputs": [],
   "source": [
    "mnist_trainset_small =  [ mnist_trainset[i] for i in range(0,4000) ] "
   ]
  },
  {
   "cell_type": "code",
   "execution_count": 13,
   "metadata": {},
   "outputs": [],
   "source": [
    "mnist_testset = datasets.MNIST(root='./data', train=False, download=True, transform=transform_list)"
   ]
  },
  {
   "cell_type": "code",
   "execution_count": 14,
   "metadata": {},
   "outputs": [
    {
     "data": {
      "text/plain": [
       "torchvision.datasets.mnist.MNIST"
      ]
     },
     "execution_count": 14,
     "metadata": {},
     "output_type": "execute_result"
    }
   ],
   "source": [
    "type( mnist_trainset ) # unfortunately this type information is not very informative!"
   ]
  },
  {
   "cell_type": "code",
   "execution_count": 15,
   "metadata": {},
   "outputs": [
    {
     "data": {
      "text/plain": [
       "60000"
      ]
     },
     "execution_count": 15,
     "metadata": {},
     "output_type": "execute_result"
    }
   ],
   "source": [
    "len( mnist_trainset )"
   ]
  },
  {
   "cell_type": "markdown",
   "metadata": {},
   "source": [
    "Ah! so this training set consists of a list of 60,000 pairs, each of which is an image and a digit\n",
    "\n",
    "The first thing to do with any data is to look at it. "
   ]
  },
  {
   "cell_type": "code",
   "execution_count": 16,
   "metadata": {},
   "outputs": [
    {
     "data": {
      "text/plain": [
       "torch.Size([1, 28, 28])"
      ]
     },
     "execution_count": 16,
     "metadata": {},
     "output_type": "execute_result"
    }
   ],
   "source": [
    "im0 = mnist_trainset[3][0]\n",
    "\n",
    "im0.shape"
   ]
  },
  {
   "cell_type": "markdown",
   "metadata": {},
   "source": [
    "To display this as a heatmap in numpy we need to reshape from (1,28,28) to (28,28), and convert to a numpy array: "
   ]
  },
  {
   "cell_type": "code",
   "execution_count": 17,
   "metadata": {},
   "outputs": [
    {
     "data": {
      "text/plain": [
       "<matplotlib.image.AxesImage at 0x230f796daf0>"
      ]
     },
     "execution_count": 17,
     "metadata": {},
     "output_type": "execute_result"
    },
    {
     "data": {
      "image/png": "[encoded data removed]",
      "text/plain": [
       "<Figure size 640x480 with 1 Axes>"
      ]
     },
     "metadata": {},
     "output_type": "display_data"
    }
   ],
   "source": [
    "plt.imshow( im0.reshape(28,28).numpy()) # to pass it to matplotlib, we need to convert it to a 2 dimensional numpy array"
   ]
  },
  {
   "cell_type": "markdown",
   "metadata": {},
   "source": [
    "Let's look at more of the digits. "
   ]
  },
  {
   "cell_type": "code",
   "execution_count": 18,
   "metadata": {},
   "outputs": [],
   "source": [
    "# This function will plot a grid of images with their titles\n",
    "\n",
    "def plot_images(images_to_plot, titles=None, ncols=6, thefigsize=(18,18)):\n",
    "    \n",
    "    n_images = images_to_plot.shape[0]\n",
    "    \n",
    "    nrows = np.ceil(n_images/ncols).astype(int)\n",
    "    \n",
    "    fig,ax = plt.subplots(nrows, ncols, sharex=True, sharey=True, figsize=thefigsize)\n",
    "    ax = ax.flatten() # we can number the axes from 0 upwards with a single integer\n",
    "\n",
    "    for i in range(n_images):\n",
    "        ax[i].imshow( images_to_plot[i,0,:,:].reshape(28,28), cmap=cm.Greys ) \n",
    "            # cmap=cm.Greys plots in Grey scale so the image looks as if it were written\n",
    "        ax[i].axis('off')  \n",
    "        if titles is not None:\n",
    "            ax[i].set_title(titles[i])"
   ]
  },
  {
   "cell_type": "code",
   "execution_count": 19,
   "metadata": {},
   "outputs": [
    {
     "data": {
      "image/png": "[encoded data removed]",
      "text/plain": [
       "<Figure size 1800x1800 with 36 Axes>"
      ]
     },
     "metadata": {},
     "output_type": "display_data"
    }
   ],
   "source": [
    "images_to_plot = np.array( [ mnist_trainset_small[i][0].numpy() for i in range(0,36)])\n",
    "titles = [ mnist_trainset_small[i][1] for i in range(0,36) ] \n",
    "plot_images( images_to_plot, titles)"
   ]
  },
  {
   "cell_type": "markdown",
   "metadata": {},
   "source": [
    "Classifying these isn't easy: look how different the 4s are from each other, and the 5s. \n",
    "\n",
    "Take a moment to look at the images carefully: what do you think are the difficulties of classifying these with a neural net?  How large are the features that you would need to use? "
   ]
  },
  {
   "cell_type": "markdown",
   "metadata": {},
   "source": [
    "# Neural network models for MNIST classification\n",
    "\n",
    "It is best not to use the entire MNIST dataset as a training set because you will be training for the whole of the practical class. You will learn much more by training repeatedly on smaller subsets, and examining the effect of using different models and parameters. "
   ]
  },
  {
   "cell_type": "markdown",
   "metadata": {},
   "source": [
    "The easiest way to construct a (simple) neural network is to use the high-level constructor nn.Sequential, which simply chains a number of layers together. (This constructor hides some details - but not many details, and we will look at those later.) \n",
    "\n",
    "This constructs tensors containing initialised weights, and it wraps them in an object that can compute the forward (and backward) pass. "
   ]
  },
  {
   "cell_type": "code",
   "execution_count": 20,
   "metadata": {},
   "outputs": [],
   "source": [
    "model1 = nn.Sequential( \n",
    "        nn.Conv2d(1,6,3), # takes one input channel (greyscale), gives 6 output channes, each from a 3x3 convolutional neuron\n",
    "        nn.ReLU()) \n",
    "      #  nn.Conv2d(6,6,3), # takes 26 x 26 to 24 x 24\n",
    "       # nn.ReLU(), \n",
    "      #  nn.MaxPool2d(2,2) )\n",
    "    "
   ]
  },
  {
   "cell_type": "code",
   "execution_count": 21,
   "metadata": {},
   "outputs": [
    {
     "data": {
      "text/plain": [
       "torch.nn.modules.container.Sequential"
      ]
     },
     "execution_count": 21,
     "metadata": {},
     "output_type": "execute_result"
    }
   ],
   "source": [
    "type( model1 )"
   ]
  },
  {
   "cell_type": "code",
   "execution_count": 22,
   "metadata": {},
   "outputs": [
    {
     "data": {
      "text/plain": [
       "torch.Size([1, 28, 28])"
      ]
     },
     "execution_count": 22,
     "metadata": {},
     "output_type": "execute_result"
    }
   ],
   "source": [
    "mnist_trainset[0][0].shape"
   ]
  },
  {
   "cell_type": "code",
   "execution_count": 23,
   "metadata": {},
   "outputs": [
    {
     "data": {
      "text/plain": [
       "torch.Size([1, 6, 26, 26])"
      ]
     },
     "execution_count": 23,
     "metadata": {},
     "output_type": "execute_result"
    }
   ],
   "source": [
    "output = model1( mnist_trainset[0][0].view(1,1,28,28) )\n",
    "\n",
    "output.shape"
   ]
  },
  {
   "cell_type": "code",
   "execution_count": 24,
   "metadata": {},
   "outputs": [],
   "source": [
    "model1 = [] # reclaim the space"
   ]
  },
  {
   "cell_type": "markdown",
   "metadata": {},
   "source": [
    "Generally it is better practice to construct a NN by subclassing the pytorch class nn.Module, so that we have all the code necessary for initialising the neural net and doing the forward pass in one place.  \n",
    "\n",
    "(A very common and easy mistake in working with a NN is to forget to re-initialise it, and then train it repeatedly under different conditions without resetting the weights to random initialised values: this produces bad experimental results, which may take a while to identify...therefore it is MUCH SAFER to automatically provide yourself with a class for your NN so that you can automatically initialise new instances of it...) "
   ]
  },
  {
   "cell_type": "code",
   "execution_count": 25,
   "metadata": {},
   "outputs": [],
   "source": [
    "# our simplest neural net - it is just going to be a linear layer and then softmax\n",
    "class NN1( nn.Module ):\n",
    "    \n",
    "    def __init__(self): \n",
    "        super(NN1, self).__init__()\n",
    "        self.layers = nn.Sequential( \n",
    "            nn.Flatten(), \n",
    "            nn.Linear(784,10))  # a linear layer (a matrix, plus biases) with 784 inputs and 10 outputs\n",
    "             # if we are going to make probabilistic categorical predictions, it is more flexible to allow unnormalised \n",
    "             # outputs, because we can use  different functions for the predictions and and in calculating the loss, as \n",
    "             # we shall soon see\n",
    "    \n",
    "    \n",
    "    def forward( self, x ): # computes the forward pass ... this one is particularly simple\n",
    "        x = self.layers( x )\n",
    "        return x"
   ]
  },
  {
   "cell_type": "code",
   "execution_count": 26,
   "metadata": {},
   "outputs": [],
   "source": [
    "nn1 = NN1()"
   ]
  },
  {
   "cell_type": "code",
   "execution_count": 27,
   "metadata": {},
   "outputs": [
    {
     "data": {
      "text/plain": [
       "tensor([[-0.2267, -0.0156, -0.0898,  0.2405, -0.1066, -0.0295,  0.1050, -0.1825,\n",
       "         -0.0322,  0.2060]], grad_fn=<AddmmBackward0>)"
      ]
     },
     "execution_count": 27,
     "metadata": {},
     "output_type": "execute_result"
    }
   ],
   "source": [
    "tmp = nn1.forward( mnist_trainset[0][0])\n",
    "tmp"
   ]
  },
  {
   "cell_type": "markdown",
   "metadata": {},
   "source": [
    "This output consists of unbounded positive and negative values - it needs to be converted to probabilities to make a probabilistic predictions of each of the 10 classes. \n",
    "\n",
    "The standard and most commonly used method of mapping arbitrary numeric values to probabilities is softmax \n",
    "\n",
    "Let's see the predictions using softmax: \n"
   ]
  },
  {
   "cell_type": "code",
   "execution_count": 28,
   "metadata": {},
   "outputs": [
    {
     "data": {
      "text/plain": [
       "tensor([[0.0799, 0.0987, 0.0916, 0.1275, 0.0901, 0.0973, 0.1113, 0.0835, 0.0970,\n",
       "         0.1231]], grad_fn=<SoftmaxBackward0>)"
      ]
     },
     "execution_count": 28,
     "metadata": {},
     "output_type": "execute_result"
    }
   ],
   "source": [
    "tmp_probs = F.softmax( tmp, dim=1)\n",
    "tmp_probs "
   ]
  },
  {
   "cell_type": "markdown",
   "metadata": {},
   "source": [
    "As we might hope, these predictions are random values of approximately 0.1 : this is what we should expect, because the network has been initialised with random weights, and it has not yet learned to make good predictions. \n",
    "\n",
    "Now, the true class of the 0th item in the trainset is 5. \n",
    "\n",
    "Let us find the log-loss for this prediction: "
   ]
  },
  {
   "cell_type": "code",
   "execution_count": 29,
   "metadata": {},
   "outputs": [
    {
     "data": {
      "text/plain": [
       "array([[0.07988907, 0.09866995, 0.09160732, 0.1274591 , 0.09008279,\n",
       "        0.09730634, 0.11130918, 0.08349719, 0.09703842, 0.12314063]],\n",
       "      dtype=float32)"
      ]
     },
     "execution_count": 29,
     "metadata": {},
     "output_type": "execute_result"
    }
   ],
   "source": [
    "# to examine the values of tensors with gradients attached, we must first detach the gradient, and then \n",
    "# convert to numpy, thus: \n",
    "tmp_probs_n = tmp_probs.detach().numpy()\n",
    "tmp_probs_n"
   ]
  },
  {
   "cell_type": "code",
   "execution_count": 30,
   "metadata": {},
   "outputs": [
    {
     "data": {
      "text/plain": [
       "np.float32(0.09730634)"
      ]
     },
     "execution_count": 30,
     "metadata": {},
     "output_type": "execute_result"
    }
   ],
   "source": [
    "tmp_probs_n[0,5]"
   ]
  },
  {
   "cell_type": "code",
   "execution_count": 31,
   "metadata": {},
   "outputs": [
    {
     "data": {
      "text/plain": [
       "np.float32(2.3298912)"
      ]
     },
     "execution_count": 31,
     "metadata": {},
     "output_type": "execute_result"
    }
   ],
   "source": [
    "-np.log( tmp_probs_n[0,5] ) "
   ]
  },
  {
   "cell_type": "markdown",
   "metadata": {},
   "source": [
    "At last: this is the log-loss, which is the negative log of the predicted probability of the true class (in this case 5) \n",
    "\n",
    "A typical predicted probability will be near to 0.1, with a loss that is near to -np.log(0.1) which is -2.30"
   ]
  },
  {
   "cell_type": "markdown",
   "metadata": {},
   "source": [
    "Our next task is to construct the loss function, which will produce a single loss for a batch of examples. This is the final leaf of the computational graph, from which we back-propagate to find the gradients. \n",
    "\n",
    "There is a single torch function that will take unnormalised outputs, and combine softmax and log-loss efficiently: "
   ]
  },
  {
   "cell_type": "code",
   "execution_count": 32,
   "metadata": {},
   "outputs": [],
   "source": [
    "loss_function = nn.CrossEntropyLoss() \n",
    "# I am unsure why the loss function has to be created like this; the documentation does not enlighten me"
   ]
  },
  {
   "cell_type": "code",
   "execution_count": 33,
   "metadata": {},
   "outputs": [
    {
     "data": {
      "text/plain": [
       "tensor(2.3299, grad_fn=<NllLossBackward0>)"
      ]
     },
     "execution_count": 33,
     "metadata": {},
     "output_type": "execute_result"
    }
   ],
   "source": [
    "loss_function( tmp, torch.LongTensor([5]))"
   ]
  },
  {
   "cell_type": "markdown",
   "metadata": {},
   "source": [
    "Excellent - this loss should be the same as the one we computed directly \n",
    "\n",
    "We now need to check that we can compute the losses correctly for a batch of training examples"
   ]
  },
  {
   "cell_type": "code",
   "execution_count": 34,
   "metadata": {},
   "outputs": [],
   "source": [
    "# DataLoader is a useful utility class provided by pytorch for extracting minibatches from \n",
    "# a large dataset. \n",
    "\n",
    "trainloader = torch.utils.data.DataLoader( mnist_trainset_small, batch_size=4, shuffle=True)\n",
    "testloader = torch.utils.data.DataLoader( mnist_testset, batch_size=4, shuffle=True)\n",
    "\n",
    "# if you want to change the batch size, you need to define a new dataloader: \n",
    "# the dataloader is a lightweight class that just provides iteration over the dataset"
   ]
  },
  {
   "cell_type": "code",
   "execution_count": 35,
   "metadata": {},
   "outputs": [],
   "source": [
    "# we construct a (temporary) iterator from trainloader, and we get the first minibatch\n",
    "tmpiter = iter(trainloader)\n",
    "\n",
    "images, labels = next(tmpiter) # the minibatch is a list of [ images, labels ]\n",
    "\n",
    "# let's check what form the images and labels come in"
   ]
  },
  {
   "cell_type": "code",
   "execution_count": 36,
   "metadata": {},
   "outputs": [
    {
     "data": {
      "text/plain": [
       "torch.Size([4, 1, 28, 28])"
      ]
     },
     "execution_count": 36,
     "metadata": {},
     "output_type": "execute_result"
    }
   ],
   "source": [
    "images.shape # the first index is the data item, then it is 1x28x28 images"
   ]
  },
  {
   "cell_type": "code",
   "execution_count": 37,
   "metadata": {},
   "outputs": [
    {
     "data": {
      "text/plain": [
       "tensor([4, 4, 7, 8])"
      ]
     },
     "execution_count": 37,
     "metadata": {},
     "output_type": "execute_result"
    }
   ],
   "source": [
    "labels"
   ]
  },
  {
   "cell_type": "code",
   "execution_count": 38,
   "metadata": {},
   "outputs": [
    {
     "data": {
      "text/plain": [
       "tensor([[-0.2604,  0.0717, -0.1414,  0.1379,  0.0207, -0.1526, -0.0909, -0.3984,\n",
       "          0.1679,  0.1832],\n",
       "        [-0.0031, -0.1898, -0.1131,  0.3183, -0.2436, -0.0592,  0.1608, -0.0407,\n",
       "         -0.0828, -0.1854],\n",
       "        [-0.1284,  0.1751, -0.3148,  0.1932, -0.0901, -0.1944,  0.0531, -0.1670,\n",
       "         -0.0488, -0.0064],\n",
       "        [-0.1650,  0.1006, -0.0121,  0.1463, -0.0470,  0.0634, -0.0440, -0.0255,\n",
       "          0.0809,  0.1451]], grad_fn=<AddmmBackward0>)"
      ]
     },
     "execution_count": 38,
     "metadata": {},
     "output_type": "execute_result"
    }
   ],
   "source": [
    "tmp = nn1.forward( images )\n",
    "tmp  # note that these are 4 sets of probabilistic predictions, but unnormalised by softmax. "
   ]
  },
  {
   "cell_type": "code",
   "execution_count": 39,
   "metadata": {},
   "outputs": [
    {
     "data": {
      "text/plain": [
       "tensor(2.3619, grad_fn=<NllLossBackward0>)"
      ]
     },
     "execution_count": 39,
     "metadata": {},
     "output_type": "execute_result"
    }
   ],
   "source": [
    "# Finally we compute the loss: the loss function computes all the individual losses, and averages them\n",
    "loss_function(tmp, labels )"
   ]
  },
  {
   "cell_type": "markdown",
   "metadata": {},
   "source": [
    "By calling the .backward() method on the output of the loss_function, we can back-propagate and compute the gradients of the loss wrt all the weights. \n",
    "\n",
    "To optimise the weights, it is convenient to use another class, that takes the neural net parameters, and updates them using the gradients. Many optimisation methods - such as RMSProp and ADAM - require additional data structures (moving averages of gradients and squared gradients). \n",
    "\n",
    "The .parameters() method gives the parameters of the network. "
   ]
  },
  {
   "cell_type": "code",
   "execution_count": 40,
   "metadata": {},
   "outputs": [
    {
     "data": {
      "text/plain": [
       "<generator object Module.parameters at 0x0000023080028040>"
      ]
     },
     "execution_count": 40,
     "metadata": {},
     "output_type": "execute_result"
    }
   ],
   "source": [
    "nn1.parameters()"
   ]
  },
  {
   "cell_type": "code",
   "execution_count": 41,
   "metadata": {},
   "outputs": [],
   "source": [
    "params = [ p for p in nn1.parameters() ] "
   ]
  },
  {
   "cell_type": "code",
   "execution_count": 42,
   "metadata": {},
   "outputs": [
    {
     "data": {
      "text/plain": [
       "[Parameter containing:\n",
       " tensor([[ 0.0269, -0.0308,  0.0221,  ...,  0.0248, -0.0123,  0.0014],\n",
       "         [-0.0310, -0.0023,  0.0035,  ...,  0.0032, -0.0219,  0.0105],\n",
       "         [-0.0335,  0.0228, -0.0341,  ..., -0.0217, -0.0066, -0.0311],\n",
       "         ...,\n",
       "         [-0.0087,  0.0156,  0.0036,  ...,  0.0250,  0.0301,  0.0051],\n",
       "         [ 0.0204,  0.0154, -0.0017,  ..., -0.0299, -0.0198,  0.0314],\n",
       "         [-0.0056,  0.0147,  0.0031,  ...,  0.0348, -0.0106, -0.0136]],\n",
       "        requires_grad=True),\n",
       " Parameter containing:\n",
       " tensor([ 0.0003,  0.0103, -0.0021,  0.0174, -0.0121, -0.0086,  0.0144,  0.0275,\n",
       "         -0.0088,  0.0042], requires_grad=True)]"
      ]
     },
     "execution_count": 42,
     "metadata": {},
     "output_type": "execute_result"
    }
   ],
   "source": [
    "params"
   ]
  },
  {
   "cell_type": "code",
   "execution_count": 43,
   "metadata": {},
   "outputs": [
    {
     "data": {
      "text/plain": [
       "[torch.Size([10, 784]), torch.Size([10])]"
      ]
     },
     "execution_count": 43,
     "metadata": {},
     "output_type": "execute_result"
    }
   ],
   "source": [
    "[ p.shape for p in params ]"
   ]
  },
  {
   "cell_type": "code",
   "execution_count": 44,
   "metadata": {},
   "outputs": [],
   "source": [
    "import torch.optim as optim \n",
    "\n",
    "optimizer1 = optim.RMSprop(nn1.parameters(), lr=0.01)"
   ]
  },
  {
   "cell_type": "markdown",
   "metadata": {},
   "source": [
    "Now we are ready to construct a learning loop."
   ]
  },
  {
   "cell_type": "code",
   "execution_count": null,
   "metadata": {},
   "outputs": [
    {
     "name": "stdout",
     "output_type": "stream",
     "text": [
      "Epoch 1 loss: 1.904\n",
      "Epoch 2 loss: 1.552\n",
      "Epoch 3 loss: 1.335\n",
      "Epoch 4 loss: 1.172\n",
      "Epoch 5 loss: 1.044\n",
      "Epoch 6 loss: 0.942\n",
      "Epoch 7 loss: 0.859\n",
      "Epoch 8 loss: 0.792\n",
      "Epoch 9 loss: 0.737\n",
      "Epoch 10 loss: 0.690\n",
      "Epoch 11 loss: 0.650\n",
      "Epoch 12 loss: 0.617\n",
      "Epoch 13 loss: 0.588\n",
      "Epoch 14 loss: 0.563\n",
      "Epoch 15 loss: 0.540\n",
      "Epoch 16 loss: 0.521\n",
      "Epoch 17 loss: 0.503\n",
      "Epoch 18 loss: 0.488\n",
      "Epoch 19 loss: 0.474\n",
      "Epoch 20 loss: 0.461\n",
      "Epoch 21 loss: 0.449\n",
      "Epoch 22 loss: 0.439\n",
      "Epoch 23 loss: 0.429\n",
      "Epoch 24 loss: 0.420\n",
      "Epoch 25 loss: 0.411\n",
      "Epoch 26 loss: 0.404\n",
      "Epoch 27 loss: 0.396\n",
      "Epoch 28 loss: 0.390\n",
      "Epoch 29 loss: 0.383\n",
      "Epoch 30 loss: 0.377\n",
      "Epoch 31 loss: 0.372\n",
      "Epoch 32 loss: 0.366\n",
      "Epoch 33 loss: 0.361\n",
      "Epoch 34 loss: 0.357\n",
      "Epoch 35 loss: 0.352\n",
      "Epoch 36 loss: 0.348\n",
      "Epoch 37 loss: 0.344\n",
      "Epoch 38 loss: 0.340\n",
      "Epoch 39 loss: 0.336\n",
      "Epoch 40 loss: 0.332\n",
      "Epoch 41 loss: 0.329\n",
      "Epoch 42 loss: 0.325\n",
      "Epoch 43 loss: 0.322\n",
      "Epoch 44 loss: 0.319\n",
      "Epoch 45 loss: 0.316\n",
      "Epoch 46 loss: 0.313\n",
      "Epoch 47 loss: 0.310\n",
      "Epoch 48 loss: 0.308\n",
      "Epoch 49 loss: 0.305\n",
      "Epoch 50 loss: 0.303\n",
      "Epoch 51 loss: 0.300\n",
      "Epoch 52 loss: 0.298\n",
      "Epoch 53 loss: 0.295\n",
      "Epoch 54 loss: 0.293\n",
      "Epoch 55 loss: 0.291\n",
      "Epoch 56 loss: 0.289\n",
      "Epoch 57 loss: 0.287\n",
      "Epoch 58 loss: 0.285\n",
      "Epoch 59 loss: 0.283\n",
      "Epoch 60 loss: 0.281\n",
      "Epoch 61 loss: 0.279\n",
      "Epoch 62 loss: 0.277\n",
      "Epoch 63 loss: 0.276\n",
      "Epoch 64 loss: 0.274\n",
      "Epoch 65 loss: 0.272\n",
      "Epoch 66 loss: 0.271\n",
      "Epoch 67 loss: 0.269\n",
      "Epoch 68 loss: 0.267\n",
      "Epoch 69 loss: 0.266\n",
      "Epoch 70 loss: 0.264\n",
      "Epoch 71 loss: 0.263\n",
      "Epoch 72 loss: 0.261\n",
      "Epoch 73 loss: 0.260\n",
      "Epoch 74 loss: 0.258\n",
      "Epoch 75 loss: 0.257\n",
      "Epoch 76 loss: 0.256\n",
      "Epoch 77 loss: 0.254\n",
      "Epoch 78 loss: 0.253\n",
      "Epoch 79 loss: 0.252\n",
      "Epoch 80 loss: 0.250\n",
      "Epoch 81 loss: 0.249\n",
      "Epoch 82 loss: 0.248\n",
      "Epoch 83 loss: 0.247\n",
      "Epoch 84 loss: 0.246\n",
      "Epoch 85 loss: 0.244\n",
      "Epoch 86 loss: 0.243\n",
      "Epoch 87 loss: 0.242\n",
      "Epoch 88 loss: 0.241\n",
      "Epoch 89 loss: 0.240\n",
      "Epoch 90 loss: 0.239\n",
      "Epoch 91 loss: 0.238\n",
      "Epoch 92 loss: 0.237\n",
      "Epoch 93 loss: 0.236\n",
      "Epoch 94 loss: 0.234\n",
      "Epoch 95 loss: 0.233\n",
      "Epoch 96 loss: 0.232\n",
      "Epoch 97 loss: 0.231\n",
      "Epoch 98 loss: 0.231\n",
      "Epoch 99 loss: 0.230\n",
      "Epoch 100 loss: 0.229\n",
      "Epoch 101 loss: 0.228\n",
      "Epoch 102 loss: 0.227\n",
      "Epoch 103 loss: 0.226\n",
      "Epoch 104 loss: 0.225\n",
      "Epoch 105 loss: 0.224\n",
      "Epoch 106 loss: 0.223\n",
      "Epoch 107 loss: 0.222\n",
      "Epoch 108 loss: 0.221\n",
      "Epoch 109 loss: 0.220\n",
      "Epoch 110 loss: 0.220\n",
      "Epoch 111 loss: 0.219\n",
      "Epoch 112 loss: 0.218\n",
      "Epoch 113 loss: 0.217\n",
      "Epoch 114 loss: 0.216\n",
      "Epoch 115 loss: 0.216\n",
      "Epoch 116 loss: 0.215\n",
      "Epoch 117 loss: 0.214\n",
      "Epoch 118 loss: 0.213\n",
      "Epoch 119 loss: 0.212\n",
      "Epoch 120 loss: 0.212\n",
      "Epoch 121 loss: 0.211\n",
      "Epoch 122 loss: 0.210\n",
      "Epoch 123 loss: 0.209\n",
      "Epoch 124 loss: 0.209\n",
      "Epoch 125 loss: 0.208\n",
      "Epoch 126 loss: 0.207\n",
      "Epoch 127 loss: 0.206\n",
      "Epoch 128 loss: 0.206\n",
      "Epoch 129 loss: 0.205\n",
      "Epoch 130 loss: 0.204\n",
      "Epoch 131 loss: 0.204\n",
      "Epoch 132 loss: 0.203\n",
      "Epoch 133 loss: 0.202\n",
      "Epoch 134 loss: 0.202\n",
      "Epoch 135 loss: 0.201\n",
      "Epoch 136 loss: 0.200\n",
      "Epoch 137 loss: 0.200\n",
      "Epoch 138 loss: 0.199\n",
      "Epoch 139 loss: 0.198\n",
      "Epoch 140 loss: 0.198\n",
      "Epoch 141 loss: 0.197\n",
      "Epoch 142 loss: 0.197\n",
      "Epoch 143 loss: 0.196\n",
      "Epoch 144 loss: 0.195\n",
      "Epoch 145 loss: 0.195\n",
      "Epoch 146 loss: 0.194\n",
      "Epoch 147 loss: 0.193\n",
      "Epoch 148 loss: 0.193\n",
      "Epoch 149 loss: 0.192\n",
      "Epoch 150 loss: 0.192\n",
      "Epoch 151 loss: 0.191\n",
      "Epoch 152 loss: 0.191\n",
      "Epoch 153 loss: 0.190\n",
      "Epoch 154 loss: 0.189\n",
      "Epoch 155 loss: 0.189\n",
      "Epoch 156 loss: 0.188\n",
      "Epoch 157 loss: 0.188\n",
      "Epoch 158 loss: 0.187\n",
      "Epoch 159 loss: 0.187\n",
      "Epoch 160 loss: 0.186\n",
      "Epoch 161 loss: 0.186\n",
      "Epoch 162 loss: 0.185\n",
      "Epoch 163 loss: 0.184\n",
      "Epoch 164 loss: 0.184\n",
      "Epoch 165 loss: 0.183\n",
      "Epoch 166 loss: 0.183\n",
      "Epoch 167 loss: 0.182\n",
      "Epoch 168 loss: 0.182\n",
      "Epoch 169 loss: 0.181\n",
      "Epoch 170 loss: 0.181\n",
      "Epoch 171 loss: 0.180\n",
      "Epoch 172 loss: 0.180\n",
      "Epoch 173 loss: 0.179\n",
      "Epoch 174 loss: 0.179\n",
      "Epoch 175 loss: 0.178\n",
      "Epoch 176 loss: 0.178\n",
      "Epoch 177 loss: 0.177\n",
      "Epoch 178 loss: 0.177\n",
      "Epoch 179 loss: 0.176\n",
      "Epoch 180 loss: 0.176\n",
      "Epoch 181 loss: 0.175\n",
      "Epoch 182 loss: 0.175\n",
      "Epoch 183 loss: 0.175\n",
      "Epoch 184 loss: 0.174\n",
      "Epoch 185 loss: 0.174\n",
      "Epoch 186 loss: 0.173\n",
      "Epoch 187 loss: 0.173\n",
      "Epoch 188 loss: 0.172\n",
      "Epoch 189 loss: 0.172\n",
      "Epoch 190 loss: 0.171\n",
      "Epoch 191 loss: 0.171\n",
      "Epoch 192 loss: 0.171\n",
      "Epoch 193 loss: 0.170\n",
      "Epoch 194 loss: 0.170\n",
      "Epoch 195 loss: 0.169\n",
      "Epoch 196 loss: 0.169\n",
      "Epoch 197 loss: 0.168\n",
      "Epoch 198 loss: 0.168\n",
      "Epoch 199 loss: 0.168\n",
      "Epoch 200 loss: 0.167\n"
     ]
    }
   ],
   "source": [
    "# notice that we create all the ingredients of the process again within this cell, \n",
    "# so that we train a newly initialised neural net with a newly initialised optimizer\n",
    "# containing the parameters of that neural net ....\n",
    "\n",
    "\n",
    "trainloader = torch.utils.data.DataLoader( mnist_trainset_small, batch_size=32, shuffle=True)\n",
    "testloader = torch.utils.data.DataLoader( mnist_testset, batch_size=32, shuffle=True)\n",
    "\n",
    "nn1 = NN1()\n",
    "optimizer1 = optim.RMSprop( nn1.parameters(), lr=0.0001 )\n",
    "\n",
    "for epoch in range(200): # number of times to loop over the dataset\n",
    "    current_loss = 0.0 \n",
    "    n_mini_batches = 0\n",
    "    \n",
    "    for i, mini_batch in enumerate( trainloader, 0 ):\n",
    "        images, labels = mini_batch\n",
    "        \n",
    "        # zero the parameter gradients\n",
    "        # all the parameters that are being updated are in the optimizer, \n",
    "        # so if we zero the gradients of all the tensors in the optimizer, \n",
    "        # that is the safest way to zero all the gradients\n",
    "        optimizer1.zero_grad()\n",
    "        \n",
    "        outputs = nn1(images)\n",
    "        loss = loss_function ( outputs, labels )\n",
    "        loss.backward() # does the backward pass and computes all gradients\n",
    "        optimizer1.step() # does one optimisation step\n",
    "        \n",
    "        n_mini_batches += 1 \n",
    "        current_loss += loss.item() # remember that the loss is a zero-order tensor\n",
    "        # so that to extract its value, we use .item(), as we cannot index as there are no dimensions\n",
    "        \n",
    "     \n",
    "    print('Epoch %d loss: %.3f' %(epoch+1, current_loss / n_mini_batches ))\n",
    "            \n"
   ]
  },
  {
   "cell_type": "markdown",
   "metadata": {},
   "source": [
    "## Calculating Validation accuracy and loss\n",
    "\n",
    "It's a good idea to turn off gradient computations when "
   ]
  },
  {
   "cell_type": "code",
   "execution_count": 46,
   "metadata": {},
   "outputs": [
    {
     "name": "stdout",
     "output_type": "stream",
     "text": [
      "Accuracy on test set: 90 %\n"
     ]
    }
   ],
   "source": [
    "# this code calculates the error rate on the validation set\n",
    "correct = 0 \n",
    "total = 0 \n",
    "with torch.no_grad():  # we do not neet to compute the gradients when making predictions on the validation set\n",
    "    for data in testloader: \n",
    "        images, labels = data\n",
    "        outputs = nn1(images)\n",
    "        _, predicted = torch.max( outputs, dim=1)\n",
    "        total += labels.size(0) # the number of labels, which is just the size of the batch \n",
    "        correct += (predicted == labels).sum().item() # once again, note that the sum is a zero-dimensional tensor, \n",
    "                                                      # so we must access its value using .item()\n",
    "print( \"Accuracy on test set: %d %%\" %(100 * correct/total))\n"
   ]
  },
  {
   "cell_type": "markdown",
   "metadata": {},
   "source": [
    "## Things to do\n",
    "\n",
    "1. modify the learning loop to print out the validation accuracy after each epoch\n",
    "\n",
    "2. modify the learning loop to print both the validation accuracy and the loss after each epoch\n",
    "\n",
    "3. create multi-layer networks using any architecture that you want...and investigate their behaviour on this dataset\n",
    "   (You may find it faster and more interesting to train with the small training set)"
   ]
  },
  {
   "cell_type": "markdown",
   "metadata": {},
   "source": [
    "## Examining model parameters\n",
    "\n",
    "We can extract, examine, save and reload, and print the parameters of the model using the state_dict which\n",
    "is a dictionary of convenient names mapping to the model's parameter tensors:  \n",
    "\n",
    "\n",
    "Remember that we need to use .detach().numpy() to detach the value of a tensor from its gradients, and then create a numpy view of the values, before we can plot histograms of weights, etc and perform other analyses in numpy "
   ]
  },
  {
   "cell_type": "code",
   "execution_count": 47,
   "metadata": {},
   "outputs": [
    {
     "name": "stdout",
     "output_type": "stream",
     "text": [
      "Model's state dict:\n",
      "layers.1.weight \t torch.Size([10, 784])\n",
      "layers.1.bias \t torch.Size([10])\n"
     ]
    }
   ],
   "source": [
    "print( \"Model's state dict:\")\n",
    "for param_tensor in nn1.state_dict():\n",
    "    print( param_tensor, \"\\t\", nn1.state_dict()[param_tensor].size())\n"
   ]
  },
  {
   "cell_type": "markdown",
   "metadata": {},
   "source": [
    "We can do the same for the optimizer. \n",
    "\n",
    "Note that an RMSprop optimizer has non-trivial state, and the first element of the state is (annoyingly) a dict that contains a tensor."
   ]
  },
  {
   "cell_type": "code",
   "execution_count": 48,
   "metadata": {},
   "outputs": [
    {
     "name": "stdout",
     "output_type": "stream",
     "text": [
      "Optimizer's state dict: \n",
      "state \t {0: {'step': tensor(25000.), 'square_avg': tensor([[0., 0., 0.,  ..., 0., 0., 0.],\n",
      "        [0., 0., 0.,  ..., 0., 0., 0.],\n",
      "        [0., 0., 0.,  ..., 0., 0., 0.],\n",
      "        ...,\n",
      "        [0., 0., 0.,  ..., 0., 0., 0.],\n",
      "        [0., 0., 0.,  ..., 0., 0., 0.],\n",
      "        [0., 0., 0.,  ..., 0., 0., 0.]])}, 1: {'step': tensor(25000.), 'square_avg': tensor([5.2408e-05, 1.4526e-04, 2.0156e-04, 2.7815e-04, 2.2230e-04, 3.0365e-04,\n",
      "        8.5379e-05, 2.4444e-04, 3.3446e-04, 3.3512e-04])}}\n",
      "param_groups \t [{'lr': 0.0001, 'momentum': 0, 'alpha': 0.99, 'eps': 1e-08, 'centered': False, 'weight_decay': 0, 'capturable': False, 'foreach': None, 'maximize': False, 'differentiable': False, 'params': [0, 1]}]\n"
     ]
    }
   ],
   "source": [
    "print( \"Optimizer's state dict: \")\n",
    "for var_name in optimizer1.state_dict(): \n",
    "    print( var_name, \"\\t\", optimizer1.state_dict()[var_name])"
   ]
  },
  {
   "cell_type": "markdown",
   "metadata": {},
   "source": [
    "## Saving and reloading models\n",
    "\n",
    "We will often want to save a net that we have trained, and reload it. Pytorch provides convenient methods of doing this:"
   ]
  },
  {
   "cell_type": "code",
   "execution_count": 49,
   "metadata": {},
   "outputs": [
    {
     "data": {
      "text/plain": [
       "NN1(\n",
       "  (layers): Sequential(\n",
       "    (0): Flatten(start_dim=1, end_dim=-1)\n",
       "    (1): Linear(in_features=784, out_features=10, bias=True)\n",
       "  )\n",
       ")"
      ]
     },
     "execution_count": 49,
     "metadata": {},
     "output_type": "execute_result"
    }
   ],
   "source": [
    "# specify a path\n",
    "PATH = \"saved_state_dict.pt\" # pt suffice for checkpoint\n",
    "\n",
    "# Save the model\n",
    "torch.save( nn1.state_dict(), PATH)\n",
    "\n",
    "# Reload the model into a new neural network object\n",
    "nn1_reloaded = NN1()\n",
    "nn1_reloaded.load_state_dict( torch.load( PATH ))\n",
    "\n",
    "\n",
    "nn1_reloaded.eval() # sets dropout and batch normalisation layers to evaluation mode before inference \n"
   ]
  },
  {
   "cell_type": "code",
   "execution_count": 50,
   "metadata": {},
   "outputs": [
    {
     "ename": "UnpicklingError",
     "evalue": "Weights only load failed. This file can still be loaded, to do so you have two options, \u001b[1mdo those steps only if you trust the source of the checkpoint\u001b[0m. \n\t(1) In PyTorch 2.6, we changed the default value of the `weights_only` argument in `torch.load` from `False` to `True`. Re-running `torch.load` with `weights_only` set to `False` will likely succeed, but it can result in arbitrary code execution. Do it only if you got the file from a trusted source.\n\t(2) Alternatively, to load with `weights_only=True` please check the recommended steps in the following error message.\n\tWeightsUnpickler error: Unsupported global: GLOBAL __main__.NN1 was not an allowed global by default. Please use `torch.serialization.add_safe_globals([NN1])` or the `torch.serialization.safe_globals([NN1])` context manager to allowlist this global if you trust this class/function.\n\nCheck the documentation of torch.load to learn more about types accepted by default with weights_only https://pytorch.org/docs/stable/generated/torch.load.html.",
     "output_type": "error",
     "traceback": [
      "\u001b[1;31m---------------------------------------------------------------------------\u001b[0m",
      "\u001b[1;31mUnpicklingError\u001b[0m                           Traceback (most recent call last)",
      "Cell \u001b[1;32mIn[50], line 9\u001b[0m\n\u001b[0;32m      6\u001b[0m torch\u001b[38;5;241m.\u001b[39msave( nn1, PATH )\n\u001b[0;32m      8\u001b[0m \u001b[38;5;66;03m#Load\u001b[39;00m\n\u001b[1;32m----> 9\u001b[0m nn1_reloaded_whole \u001b[38;5;241m=\u001b[39m \u001b[43mtorch\u001b[49m\u001b[38;5;241;43m.\u001b[39;49m\u001b[43mload\u001b[49m\u001b[43m(\u001b[49m\u001b[43m \u001b[49m\u001b[43mPATH\u001b[49m\u001b[43m \u001b[49m\u001b[43m)\u001b[49m\n",
      "File \u001b[1;32mc:\\Python312\\Lib\\site-packages\\torch\\serialization.py:1470\u001b[0m, in \u001b[0;36mload\u001b[1;34m(f, map_location, pickle_module, weights_only, mmap, **pickle_load_args)\u001b[0m\n\u001b[0;32m   1462\u001b[0m                 \u001b[38;5;28;01mreturn\u001b[39;00m _load(\n\u001b[0;32m   1463\u001b[0m                     opened_zipfile,\n\u001b[0;32m   1464\u001b[0m                     map_location,\n\u001b[1;32m   (...)\u001b[0m\n\u001b[0;32m   1467\u001b[0m                     \u001b[38;5;241m*\u001b[39m\u001b[38;5;241m*\u001b[39mpickle_load_args,\n\u001b[0;32m   1468\u001b[0m                 )\n\u001b[0;32m   1469\u001b[0m             \u001b[38;5;28;01mexcept\u001b[39;00m pickle\u001b[38;5;241m.\u001b[39mUnpicklingError \u001b[38;5;28;01mas\u001b[39;00m e:\n\u001b[1;32m-> 1470\u001b[0m                 \u001b[38;5;28;01mraise\u001b[39;00m pickle\u001b[38;5;241m.\u001b[39mUnpicklingError(_get_wo_message(\u001b[38;5;28mstr\u001b[39m(e))) \u001b[38;5;28;01mfrom\u001b[39;00m \u001b[38;5;28;01mNone\u001b[39;00m\n\u001b[0;32m   1471\u001b[0m         \u001b[38;5;28;01mreturn\u001b[39;00m _load(\n\u001b[0;32m   1472\u001b[0m             opened_zipfile,\n\u001b[0;32m   1473\u001b[0m             map_location,\n\u001b[1;32m   (...)\u001b[0m\n\u001b[0;32m   1476\u001b[0m             \u001b[38;5;241m*\u001b[39m\u001b[38;5;241m*\u001b[39mpickle_load_args,\n\u001b[0;32m   1477\u001b[0m         )\n\u001b[0;32m   1478\u001b[0m \u001b[38;5;28;01mif\u001b[39;00m mmap:\n",
      "\u001b[1;31mUnpicklingError\u001b[0m: Weights only load failed. This file can still be loaded, to do so you have two options, \u001b[1mdo those steps only if you trust the source of the checkpoint\u001b[0m. \n\t(1) In PyTorch 2.6, we changed the default value of the `weights_only` argument in `torch.load` from `False` to `True`. Re-running `torch.load` with `weights_only` set to `False` will likely succeed, but it can result in arbitrary code execution. Do it only if you got the file from a trusted source.\n\t(2) Alternatively, to load with `weights_only=True` please check the recommended steps in the following error message.\n\tWeightsUnpickler error: Unsupported global: GLOBAL __main__.NN1 was not an allowed global by default. Please use `torch.serialization.add_safe_globals([NN1])` or the `torch.serialization.safe_globals([NN1])` context manager to allowlist this global if you trust this class/function.\n\nCheck the documentation of torch.load to learn more about types accepted by default with weights_only https://pytorch.org/docs/stable/generated/torch.load.html."
     ]
    }
   ],
   "source": [
    "# we may also save and load entire models\n",
    "\n",
    "PATH = \"entire_model.pt\"\n",
    "\n",
    "#Save \n",
    "torch.save( nn1, PATH )\n",
    "\n",
    "#Load\n",
    "nn1_reloaded_whole = torch.load( PATH )"
   ]
  },
  {
   "cell_type": "code",
   "execution_count": null,
   "metadata": {},
   "outputs": [],
   "source": []
  }
 ],
 "metadata": {
  "@webio": {
   "lastCommId": null,
   "lastKernelId": null
  },
  "kernelspec": {
   "display_name": "Python 3",
   "language": "python",
   "name": "python3"
  },
  "language_info": {
   "codemirror_mode": {
    "name": "ipython",
    "version": 3
   },
   "file_extension": ".py",
   "mimetype": "text/x-python",
   "name": "python",
   "nbconvert_exporter": "python",
   "pygments_lexer": "ipython3",
   "version": "3.12.5"
  },
  "latex_envs": {
   "LaTeX_envs_menu_present": true,
   "autoclose": false,
   "autocomplete": true,
   "bibliofile": "biblio.bib",
   "cite_by": "apalike",
   "current_citInitial": 1,
   "eqLabelWithNumbers": true,
   "eqNumInitial": 1,
   "hotkeys": {
    "equation": "Ctrl-E",
    "itemize": "Ctrl-I"
   },
   "labels_anchors": false,
   "latex_user_defs": false,
   "report_style_numbering": false,
   "user_envs_cfg": false
  }
 },
 "nbformat": 4,
 "nbformat_minor": 4
}
