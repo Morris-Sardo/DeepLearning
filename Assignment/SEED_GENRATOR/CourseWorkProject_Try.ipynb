{
  "cells": [
    {
      "cell_type": "markdown",
      "metadata": {
        "id": "h-48Olo5h7eD"
      },
      "source": [
        "# CS5950/CS4950/CS3950 Course Project\n",
        "\n",
        "This project recaps and systematises work that has been done in the exercise notebooks: if you have worked through the notebooks, little extra work is required.  The aim of the project is to give you the experience of trying to develop a neural network classifier (or regressor), involving setting up a model, optimising the amount of regularisation, investigating its performance, and devising a new model.\n",
        "\n",
        "You should do your work in this notebook, filling in the sections below. To do the work, you may re-use code from ***any of the lab-session sheets provided so far***. (In fact, you should be able to do nearly the entire project using code taken from previous lab sessions.)\n",
        "\n",
        "Please complete this workbook and submit it on Moodle together with answers for other questions, with all outputs (numbers and graphs) visible and included.\n",
        "\n",
        "Please write your student number **here** 101008860:     \n",
        "so that I have an identifier of which worksheet I am marking, to prevent any confusion! (I have to download your notebooks before marking them, so I don't want to accidentally give credit for your notebook to somebody else...)"
      ]
    },
    {
      "cell_type": "markdown",
      "metadata": {
        "id": "MhO3ukmAh7eI"
      },
      "source": [
        "## Set up dataset\n",
        "\n",
        "You may choose any of the datasets included with Pytorch, or used in the course so far (including, for example, the percolation data). (It is a free country and you may use any other data you wish.)\n",
        "\n",
        "A safe choice would be either the MNIST data or the MNIST-fashion data, which is a drop-in replacement for MNIST (same size data format, same number of classes, same number of training and test examples).\n",
        "\n",
        "A more interesting choice would be CIFAR-10\n",
        "\n",
        "In setting up the data, you should set up a training set and a test set. The test set should be large enough to give a reasonably accurate assessment of the error-rate (or loss) of your models: preferably at least 10,000 examples.\n",
        "\n",
        "For the learning curve experiment (below), you will need to construct training sets of different sizes, with the largest at least 10 times the smallest. For the MNIST data, for example, your smallest training set might be 500, with sizes 500, 1000, 2000, 4000, 8000, 16000, 32000, and perhaps 60000 if you have time. (You get no extra marks for doing very long experiments.)"
      ]
    },
    {
      "cell_type": "code",
      "execution_count": 1,
      "metadata": {
        "id": "5qRRv6gwh7eK"
      },
      "outputs": [],
      "source": [
        "import torch\n",
        "import torch.nn as nn\n",
        "import torch.optim as optim\n",
        "from torchvision import datasets, transforms\n",
        "from torch.utils.data import Subset, random_split\n",
        "import matplotlib.pyplot as plt\n",
        "import torch.nn.functional as F\n",
        "\n",
        "from torch.utils.data import random_split, DataLoader, Subset\n",
        "import torch\n",
        "from torchvision import datasets, transforms\n",
        "import numpy as np\n",
        "%matplotlib inline\n"
      ]
    },
    {
      "cell_type": "code",
      "execution_count": 2,
      "metadata": {},
      "outputs": [],
      "source": [
        "#amount dataset and ephocs\n",
        "\n",
        "epochsDimention = 50\n",
        "dataDimention = 2000\n",
        "seed =42\n"
      ]
    },
    {
      "cell_type": "code",
      "execution_count": 3,
      "metadata": {},
      "outputs": [],
      "source": [
        "########\n",
        "#THIS IS THE DATASET\n",
        "########\n",
        "\n",
        "\n",
        "import random\n",
        "\n",
        "\n",
        "def dataset(dataSize,seed):\n",
        "\n",
        "       # Set seeds for reproducibility\n",
        "    g = torch.Generator()\n",
        "    g.manual_seed(seed)\n",
        "    transform = transforms.Compose([\n",
        "    transforms.ToTensor(),\n",
        "    transforms.Normalize((0.0,), (1.0,))])\n",
        "\n",
        "        # Load full MNIST dataset\n",
        "    train_dataset = datasets.MNIST(root='./data', train=True, download=True, transform=transform)\n",
        "    mnist_trainset_small =  [ train_dataset[i] for i in range(0,dataSize) ]\n",
        "\n",
        "    mnist_testset = datasets.MNIST(root='./data', train=False, download=True, transform=transform)\n",
        "    mnist_testset_small =[mnist_testset[i] for i in range(0,1000) ]\n",
        "\n",
        "\n",
        "    train_loader = torch.utils.data.DataLoader( mnist_trainset_small, batch_size=4, shuffle=True,generator=g)\n",
        "    val_loader = torch.utils.data.DataLoader( mnist_testset_small, batch_size=4, shuffle=True,generator=g)\n",
        "\n",
        "    \n",
        "    '''\n",
        "    # Create data loaders\n",
        "    batch_size = 64\n",
        "    train_loader = DataLoader(train_indices, batch_size=batch_size, shuffle=True)\n",
        "    val_loader = DataLoader(val_indices, batch_size=batch_size, shuffle=True)\n",
        "    #test_loader = DataLoader(test_data, batch_size=batch_size, shuffle=True)\n",
        "    val_loader.data.shape()\n",
        "    '''\n",
        "\n",
        "    return train_loader, val_loader\n"
      ]
    },
    {
      "cell_type": "code",
      "execution_count": null,
      "metadata": {},
      "outputs": [],
      "source": []
    },
    {
      "cell_type": "code",
      "execution_count": 4,
      "metadata": {},
      "outputs": [
        {
          "name": "stderr",
          "output_type": "stream",
          "text": [
            "100%|██████████| 9.91M/9.91M [00:03<00:00, 2.76MB/s]\n",
            "100%|██████████| 28.9k/28.9k [00:00<00:00, 326kB/s]\n",
            "100%|██████████| 1.65M/1.65M [00:00<00:00, 1.85MB/s]\n",
            "100%|██████████| 4.54k/4.54k [00:00<00:00, 9.24MB/s]\n"
          ]
        },
        {
          "data": {
            "text/plain": [
              "(<torch.utils.data.dataloader.DataLoader at 0x1b6a8e88ef0>,\n",
              " <torch.utils.data.dataloader.DataLoader at 0x1b6a8ceb350>)"
            ]
          },
          "execution_count": 4,
          "metadata": {},
          "output_type": "execute_result"
        }
      ],
      "source": [
        "dataset(dataDimention,seed)"
      ]
    },
    {
      "cell_type": "code",
      "execution_count": null,
      "metadata": {},
      "outputs": [],
      "source": []
    },
    {
      "cell_type": "code",
      "execution_count": 5,
      "metadata": {},
      "outputs": [],
      "source": [
        "#######\n",
        "#TRHIS IS Q1 LOSS\n",
        "######\n",
        "\n",
        "\n",
        "def lossCalculation(model,train_loader,val_loader,num_epochs,loss_Funciton,optimizer): \n",
        "    #num_epochs = 100\n",
        "    train_losses, val_losses = [], []\n",
        "    train_errors, val_errors = [], []\n",
        "    for epoch in range(num_epochs):\n",
        "        # Training\n",
        "        \n",
        "        model.train()\n",
        "        train_loss = 0.0\n",
        "        correct_train = 0\n",
        "        total_train = 0\n",
        "        for images, labels in train_loader:\n",
        "            optimizer.zero_grad()\n",
        "            outputs = model(images)\n",
        "            loss = loss_Funciton(outputs, labels)\n",
        "            loss.backward()\n",
        "            optimizer.step()\n",
        "            train_loss += loss.item()\n",
        "            _, predicted = torch.max(outputs.data, 1)\n",
        "            total_train += labels.size(0)\n",
        "            correct_train += (predicted == labels).sum().item()\n",
        "        \n",
        "        train_losses.append(train_loss / len(train_loader))\n",
        "        train_errors.append(1 - correct_train / total_train)\n",
        "\n",
        "        # Validation\n",
        "        model.eval()\n",
        "        val_loss = 0.0\n",
        "        correct_val = 0\n",
        "        total_val = 0\n",
        "        with torch.no_grad():\n",
        "            for images, labels in val_loader:\n",
        "                outputs = model(images)\n",
        "                loss = loss_Funciton(outputs, labels)\n",
        "                val_loss += loss.item()\n",
        "                _, predicted = torch.max(outputs.data, 1)\n",
        "                total_val += labels.size(0)\n",
        "                correct_val += (predicted == labels).sum().item()\n",
        "        \n",
        "        val_losses.append(val_loss / len(val_loader))\n",
        "        val_errors.append(1 - correct_val / total_val)\n",
        "        #print(model)\n",
        "        print(f\"Epoch {epoch+1}/{num_epochs}, Train Loss: {train_losses[-1]:.4f}, Val Loss: {val_losses[-1]:.4f}, Train Error: #{train_errors[-1]:.4f}, Val Error: {val_errors[-1]:.4f}\")\n",
        "    return train_losses,val_losses\n"
      ]
    },
    {
      "cell_type": "code",
      "execution_count": 6,
      "metadata": {},
      "outputs": [],
      "source": [
        "######\n",
        "#THIS IS Q2 LOSS CALCULATION\n",
        "#####\n",
        "\n",
        "\n",
        "def lossCalculation2(mm,train_loader,val_loader,num_epochs):  # ADD MODEL\n",
        "\n",
        "    \n",
        "    #weight_decay_values = [0, 1e-2, 1e-3, 1e-4, 1e-5]  # Experiment with different values\n",
        "    weight_decay_values =[0, 1e-5, 1e-4, 1e-3, 1e-2, 0.1, 1] ### change the parameter\n",
        "    results = {}\n",
        "    avg_val_losses = {}  # Store average validation losses\n",
        "    val_error_rate_epoch = []   #store val_error for epoch\n",
        "    result_val_error_wd = {}    #store val_erro for eight_decay\n",
        "    #best_weight_dacay = 0\n",
        "\n",
        "    \n",
        "    #loops through differetn weight decay value\n",
        "    for wd in weight_decay_values:\n",
        "        #print(f\"Training with weight decay = {wd}\")\n",
        "\n",
        "        # Initialize model and optimizer\n",
        "        model = mm       ##GENERALIZE MODEL\n",
        "        #print(model)\n",
        "\n",
        "        #weight_decay = L2 regualrization \n",
        "        #lr = learing rate to reduce the instability\n",
        "\n",
        "        optimizer = optim.Adam(model.parameters(),lr = 0.0005, weight_decay=wd)  # L2 regularization   ##### GENERALIZE MODEL\n",
        "        #print(optimizer)\n",
        "\n",
        "        # Define loss function\n",
        "        loss_Funciton = nn.CrossEntropyLoss()\n",
        "        #print(\"ciao\",num_epochs)\n",
        "        #num_epochs = 5  # Reduce for faster experimentation\n",
        "        train_losses, val_losses = [], []\n",
        "\n",
        "        for epoch in range(num_epochs):\n",
        "            # Training\n",
        "            model.train()      #### GENERALIZE MODEL\n",
        "            train_loss = 0.0\n",
        "            for images, labels in train_loader:\n",
        "                optimizer.zero_grad()\n",
        "                outputs = model(images)   ##GENERALIZE MODEL\n",
        "                loss = loss_Funciton(outputs, labels)\n",
        "                loss.backward()\n",
        "                optimizer.step()\n",
        "                train_loss += loss.item()\n",
        "\n",
        "            train_losses.append(train_loss / len(train_loader))\n",
        "\n",
        "            # Validation\n",
        "            model.eval()           #GENERALIZE MODEL\n",
        "            val_loss = 0.0       \n",
        "            correct, total = 0.0, 0.0  #inizialize correct prediction and the number of labels.\n",
        "            with torch.no_grad():\n",
        "                for images, labels in val_loader:\n",
        "                    outputs = model(images)        #DGENERALIZE MODEL\n",
        "                    loss = loss_Funciton(outputs, labels)\n",
        "                    val_loss += loss.item()\n",
        "\n",
        "                    #compute Error Rate\n",
        "                    _,predicted = torch.max(outputs, 1)\n",
        "                    total += labels.size(0)\n",
        "                    correct += (predicted == labels).sum().item() #count the correct prediction\n",
        "\n",
        "            val_losses.append(val_loss / len(val_loader))\n",
        "            #val_error_rate_epoch.append( 1 - (correct / total))\n",
        "\n",
        "            #print(f\"Epoch {epoch+1}/{num_epochs}, Train Loss: {train_losses[-1]:.4f}, Val Loss: {val_losses[-1]:.4f}\")\n",
        "\n",
        "        # Store results for plotting\n",
        "        results[wd] = val_losses\n",
        "        \n",
        "\n",
        "        #store the error rate of each traininig size\n",
        "        #result_val_error_wd[wd] = val_error_rate_epoch \n",
        "\n",
        "        # Compute the average validation loss over the last `last_n_epochs` epochs\n",
        "        avg_val_losses[wd] = np.mean(val_losses[-1:])\n",
        "    #print('avg_val_loss', avg_val_losses)\n",
        "    best_weight_dacay = min(avg_val_losses,key=avg_val_losses.get)\n",
        "    best_value_loss = avg_val_losses[best_weight_dacay]   ###### MAKE CHANGE THIS AFFECT DECAY \n",
        "    #print(\"min from print\",min(avg_val_losses,key=avg_val_losses.get))\n",
        "\n",
        "\n",
        "    return train_losses,val_losses,results,result_val_error_wd,avg_val_losses,best_weight_dacay,best_value_loss\n",
        "\n"
      ]
    },
    {
      "cell_type": "code",
      "execution_count": 7,
      "metadata": {},
      "outputs": [],
      "source": [
        "#########\n",
        "#THIS IS Q3 ERROR RATE \n",
        "######\n",
        "\n",
        "def calculationErrorRate3(mm,train_loader,val_loader,num_epochs, wd):\n",
        "\n",
        "    \n",
        "    #weight_decay_values = [0, 1e-2, 1e-3, 1e-4, 1e-5]  # Experiment with different values\n",
        "    results = {}\n",
        "    avg_val_losses = {}  # Store average validation losses\n",
        "    val_error_rate_epoch = []   #store val_error for epoch\n",
        "    result_val_error_wd = {}    #store val_erro for eight_decay\n",
        "    \n",
        "\n",
        "\n",
        "    # Initialize model and optimizer\n",
        "    model = mm\n",
        "    #print(model)\n",
        "\n",
        "    #weight_decay = L2 regualrization \n",
        "    #lr = learing rate to reduce the instability\n",
        "\n",
        "    optimizer = optim.Adam(model.parameters(),lr = 0.0005, weight_decay=wd)  # L2 regularization\n",
        "    #print(optimizer)\n",
        "\n",
        "    # Define loss function\n",
        "    loss_Funciton = nn.CrossEntropyLoss()\n",
        "    #print(\"ciao\",num_epochs)\n",
        "    #num_epochs = 5  # Reduce for faster experimentation\n",
        "    train_losses, val_losses = [], []\n",
        "\n",
        "    for epoch in range(num_epochs):\n",
        "        # Training\n",
        "        model.train()\n",
        "        train_loss = 0.0\n",
        "        for images, labels in train_loader:\n",
        "            optimizer.zero_grad()\n",
        "            outputs = model(images)\n",
        "            loss = loss_Funciton(outputs, labels)\n",
        "            loss.backward()\n",
        "            optimizer.step()\n",
        "            train_loss += loss.item()\n",
        "\n",
        "        train_losses.append(train_loss / len(train_loader))\n",
        "\n",
        "        # Validation\n",
        "        model.eval()\n",
        "        val_loss = 0.0\n",
        "        correct, total = 0.0, 0.0  #inizialize correct prediction and the number of labels.\n",
        "        with torch.no_grad():\n",
        "            for images, labels in val_loader:\n",
        "                outputs = model(images)\n",
        "                loss = loss_Funciton(outputs, labels)\n",
        "                val_loss += loss.item()\n",
        "\n",
        "                #compute Error Rate\n",
        "                _,predicted = torch.max(outputs, 1)\n",
        "                total += labels.size(0)\n",
        "                correct += (predicted == labels).sum().item() #count the correct prediction\n",
        "\n",
        "        val_losses.append(val_loss / len(val_loader))\n",
        "        val_error_rate_epoch.append( 1 - (correct / total))\n",
        "\n",
        "        #print(f\"Epoch {epoch+1}/{num_epochs}, Train Loss: {train_losses[-1]:.4f}, Val Loss: {val_losses[-1]:.4f}\")\n",
        "\n",
        "    # Store results for plotting\n",
        "    results[wd] = val_losses\n",
        "    \n",
        "\n",
        "    #store the error rate of each traininig size\n",
        "    #average error rate of validation set of each epoch.\n",
        "    result_val_error_wd[wd] = np.mean(val_error_rate_epoch[-1:]) \n",
        "    #rint(result_val_error_wd)\n",
        "    # Compute the average validation loss over the last `last_n_epochs` epochs\n",
        "    #avg_val_losses[wd] = np.mean(val_losses[4:])\n",
        "    #print('avg_val_loss', avg_val_losses)\n",
        "\n",
        "\n",
        "    return train_losses,val_losses,results,result_val_error_wd\n",
        "\n"
      ]
    },
    {
      "cell_type": "markdown",
      "metadata": {},
      "source": [
        "\n",
        "\n",
        "\n",
        "###  1.  Assessment of initial model:    ***12 marks***\n",
        "\n",
        "Ensure that your model is complex enough to *overfit* the training data: that is the loss/error-rate on the training set should be below your target loss/error-rate, and the loss/error-rate on the validation set should be higher than this (preferably higher than your target error-rate)."
      ]
    },
    {
      "cell_type": "code",
      "execution_count": 8,
      "metadata": {},
      "outputs": [],
      "source": [
        "#########\n",
        "#THIS IS FIRST MODEL\n",
        "##########\n",
        "class MODEL1( nn.Module ):\n",
        "    \n",
        "    def __init__(self): \n",
        "        super(MODEL1, self).__init__()\n",
        "        self.layers = nn.Sequential( \n",
        "            nn.Flatten(), \n",
        "            nn.Linear(784,10)\n",
        "            ) \n",
        "    \n",
        "    \n",
        "    def forward( self, x ): \n",
        "        x = self.layers( x )\n",
        "        return x\n",
        "    \n",
        "\n",
        "model1 = MODEL1()"
      ]
    },
    {
      "cell_type": "code",
      "execution_count": 9,
      "metadata": {},
      "outputs": [],
      "source": [
        "##\n",
        "#MAKE IT INTO FUNCTION\n",
        "\n",
        "\n",
        "loss_Funciton = nn.CrossEntropyLoss()\n"
      ]
    },
    {
      "cell_type": "code",
      "execution_count": 10,
      "metadata": {},
      "outputs": [
        {
          "name": "stdout",
          "output_type": "stream",
          "text": [
            "Epoch 1/50, Train Loss: 0.9925, Val Loss: 0.7189, Train Error: #0.2275, Val Error: 0.1890\n",
            "Epoch 2/50, Train Loss: 0.4879, Val Loss: 0.5512, Train Error: #0.1180, Val Error: 0.1510\n",
            "Epoch 3/50, Train Loss: 0.3835, Val Loss: 0.4933, Train Error: #0.1000, Val Error: 0.1410\n",
            "Epoch 4/50, Train Loss: 0.3282, Val Loss: 0.4652, Train Error: #0.0795, Val Error: 0.1480\n",
            "Epoch 5/50, Train Loss: 0.2912, Val Loss: 0.4571, Train Error: #0.0725, Val Error: 0.1400\n",
            "Epoch 6/50, Train Loss: 0.2613, Val Loss: 0.4369, Train Error: #0.0615, Val Error: 0.1340\n",
            "Epoch 7/50, Train Loss: 0.2395, Val Loss: 0.4327, Train Error: #0.0595, Val Error: 0.1340\n",
            "Epoch 8/50, Train Loss: 0.2188, Val Loss: 0.4324, Train Error: #0.0505, Val Error: 0.1330\n",
            "Epoch 9/50, Train Loss: 0.2024, Val Loss: 0.4320, Train Error: #0.0475, Val Error: 0.1320\n",
            "Epoch 10/50, Train Loss: 0.1865, Val Loss: 0.4356, Train Error: #0.0450, Val Error: 0.1430\n",
            "Epoch 11/50, Train Loss: 0.1739, Val Loss: 0.4383, Train Error: #0.0410, Val Error: 0.1370\n",
            "Epoch 12/50, Train Loss: 0.1614, Val Loss: 0.4355, Train Error: #0.0330, Val Error: 0.1320\n",
            "Epoch 13/50, Train Loss: 0.1526, Val Loss: 0.4396, Train Error: #0.0325, Val Error: 0.1380\n",
            "Epoch 14/50, Train Loss: 0.1409, Val Loss: 0.4396, Train Error: #0.0320, Val Error: 0.1400\n",
            "Epoch 15/50, Train Loss: 0.1342, Val Loss: 0.4347, Train Error: #0.0315, Val Error: 0.1350\n",
            "Epoch 16/50, Train Loss: 0.1227, Val Loss: 0.4390, Train Error: #0.0280, Val Error: 0.1280\n",
            "Epoch 17/50, Train Loss: 0.1170, Val Loss: 0.4450, Train Error: #0.0255, Val Error: 0.1390\n",
            "Epoch 18/50, Train Loss: 0.1091, Val Loss: 0.4453, Train Error: #0.0245, Val Error: 0.1300\n",
            "Epoch 19/50, Train Loss: 0.1039, Val Loss: 0.4471, Train Error: #0.0200, Val Error: 0.1290\n",
            "Epoch 20/50, Train Loss: 0.0961, Val Loss: 0.4538, Train Error: #0.0190, Val Error: 0.1290\n",
            "Epoch 21/50, Train Loss: 0.0913, Val Loss: 0.4735, Train Error: #0.0175, Val Error: 0.1400\n",
            "Epoch 22/50, Train Loss: 0.0864, Val Loss: 0.4709, Train Error: #0.0170, Val Error: 0.1340\n",
            "Epoch 23/50, Train Loss: 0.0808, Val Loss: 0.4695, Train Error: #0.0105, Val Error: 0.1390\n",
            "Epoch 24/50, Train Loss: 0.0774, Val Loss: 0.4861, Train Error: #0.0140, Val Error: 0.1410\n",
            "Epoch 25/50, Train Loss: 0.0723, Val Loss: 0.4806, Train Error: #0.0095, Val Error: 0.1390\n",
            "Epoch 26/50, Train Loss: 0.0684, Val Loss: 0.4917, Train Error: #0.0085, Val Error: 0.1360\n",
            "Epoch 27/50, Train Loss: 0.0647, Val Loss: 0.5000, Train Error: #0.0085, Val Error: 0.1400\n",
            "Epoch 28/50, Train Loss: 0.0612, Val Loss: 0.4982, Train Error: #0.0085, Val Error: 0.1450\n",
            "Epoch 29/50, Train Loss: 0.0569, Val Loss: 0.5061, Train Error: #0.0060, Val Error: 0.1360\n",
            "Epoch 30/50, Train Loss: 0.0544, Val Loss: 0.5165, Train Error: #0.0045, Val Error: 0.1380\n",
            "Epoch 31/50, Train Loss: 0.0506, Val Loss: 0.5200, Train Error: #0.0060, Val Error: 0.1440\n",
            "Epoch 32/50, Train Loss: 0.0467, Val Loss: 0.5389, Train Error: #0.0035, Val Error: 0.1420\n",
            "Epoch 33/50, Train Loss: 0.0455, Val Loss: 0.5367, Train Error: #0.0045, Val Error: 0.1410\n",
            "Epoch 34/50, Train Loss: 0.0426, Val Loss: 0.5461, Train Error: #0.0030, Val Error: 0.1440\n",
            "Epoch 35/50, Train Loss: 0.0409, Val Loss: 0.5478, Train Error: #0.0035, Val Error: 0.1410\n",
            "Epoch 36/50, Train Loss: 0.0393, Val Loss: 0.5573, Train Error: #0.0020, Val Error: 0.1420\n",
            "Epoch 37/50, Train Loss: 0.0361, Val Loss: 0.5508, Train Error: #0.0010, Val Error: 0.1410\n",
            "Epoch 38/50, Train Loss: 0.0341, Val Loss: 0.5655, Train Error: #0.0010, Val Error: 0.1430\n",
            "Epoch 39/50, Train Loss: 0.0322, Val Loss: 0.5749, Train Error: #0.0020, Val Error: 0.1460\n",
            "Epoch 40/50, Train Loss: 0.0306, Val Loss: 0.5727, Train Error: #0.0005, Val Error: 0.1410\n",
            "Epoch 41/50, Train Loss: 0.0296, Val Loss: 0.5853, Train Error: #0.0010, Val Error: 0.1390\n",
            "Epoch 42/50, Train Loss: 0.0274, Val Loss: 0.5887, Train Error: #0.0005, Val Error: 0.1390\n",
            "Epoch 43/50, Train Loss: 0.0260, Val Loss: 0.5896, Train Error: #0.0005, Val Error: 0.1400\n",
            "Epoch 44/50, Train Loss: 0.0251, Val Loss: 0.6022, Train Error: #0.0005, Val Error: 0.1500\n",
            "Epoch 45/50, Train Loss: 0.0239, Val Loss: 0.6172, Train Error: #0.0005, Val Error: 0.1440\n",
            "Epoch 46/50, Train Loss: 0.0224, Val Loss: 0.6197, Train Error: #0.0005, Val Error: 0.1470\n",
            "Epoch 47/50, Train Loss: 0.0213, Val Loss: 0.6282, Train Error: #0.0000, Val Error: 0.1450\n",
            "Epoch 48/50, Train Loss: 0.0200, Val Loss: 0.6197, Train Error: #0.0000, Val Error: 0.1460\n",
            "Epoch 49/50, Train Loss: 0.0191, Val Loss: 0.6308, Train Error: #0.0000, Val Error: 0.1450\n",
            "Epoch 50/50, Train Loss: 0.0180, Val Loss: 0.6557, Train Error: #0.0000, Val Error: 0.1400\n"
          ]
        },
        {
          "data": {
            "text/plain": [
              "<matplotlib.legend.Legend at 0x1b6a90e62a0>"
            ]
          },
          "execution_count": 10,
          "metadata": {},
          "output_type": "execute_result"
        },
        {
          "data": {
            "image/png": "[encoded data removed]",
            "text/plain": [
              "<Figure size 2000x500 with 1 Axes>"
            ]
          },
          "metadata": {},
          "output_type": "display_data"
        }
      ],
      "source": [
        "########\n",
        "#THIS IS Q1 PLOT   \n",
        "######\n",
        "\n",
        "\n",
        "\n",
        "train_loader, val_loader = dataset(dataDimention,seed)\n",
        "model1 = MODEL1()\n",
        "optimizer = optim.Adam(model1.parameters())\n",
        "train_losses,val_losses = lossCalculation(model1,train_loader,val_loader,epochsDimention,loss_Funciton,optimizer)\n",
        "\n",
        "plt.figure(figsize=(20, 5))\n",
        "# Training & Validation Loss\n",
        "plt.subplot(1, 2, 1)\n",
        "plt.plot(train_losses, label='Train Loss')\n",
        "plt.plot(val_losses, label='Val Loss')\n",
        "plt.xlabel('Epochs')\n",
        "plt.ylabel('Loss')\n",
        "plt.legend()\n"
      ]
    },
    {
      "cell_type": "markdown",
      "metadata": {
        "id": "drUnzXLIh7eL"
      },
      "source": [
        "### 2.  Regularisation experiment:  ***12 marks***\n",
        "\n",
        "Now select a type of regularisation (which may be L2, or dropout) and train your initial model with different amounts of regularisation.\n",
        "\n",
        "A small amount of regularisation may improve the validation set performance of your overfitted model; too much regularisation may make performance on the validation set worse.\n",
        "\n",
        "Train your model multiple times, applying different amounts of regularisation, and plot a graoph showing the effect of different amounts of regularisation.\n",
        "\n",
        "Plot the amount of regularisation along the x axis, and the validation set performance (loss/error-rate) on the y axis.  How does regularisation affect the performance of your initial network, and what is the optimal amount?"
      ]
    },
    {
      "cell_type": "code",
      "execution_count": 11,
      "metadata": {},
      "outputs": [
        {
          "name": "stdout",
          "output_type": "stream",
          "text": [
            "the best decay from the function above 0.001\n",
            "the best VALUE LOSS 0.48117573602497576\n"
          ]
        },
        {
          "data": {
            "text/plain": [
              "<matplotlib.legend.Legend at 0x1b6a927d1f0>"
            ]
          },
          "execution_count": 11,
          "metadata": {},
          "output_type": "execute_result"
        },
        {
          "data": {
            "image/png": "[encoded data removed]",
            "text/plain": [
              "<Figure size 1000x500 with 1 Axes>"
            ]
          },
          "metadata": {},
          "output_type": "display_data"
        }
      ],
      "source": [
        "#####\n",
        "#QTHIS IS Q2 POSS.\n",
        "#####\n",
        "\n",
        "\n",
        "train_loader, val_loader = dataset(dataDimention,seed)\n",
        "modle1 = MODEL1() \n",
        "train_losses, val_lo, results, result_val_error_wd, avg_val_losses, best_weight_dacay1,best_value_loss = lossCalculation2(model1,train_loader, val_loader, epochsDimention)\n",
        "\n",
        "# Plot results\n",
        "plt.figure(figsize=(10, 5))\n",
        "\n",
        "# Extract x and y values\n",
        "weight_decay_values = avg_val_losses.keys()  # X-axis: Weight decay values\n",
        "avg_validation_lossesM1 = avg_val_losses.values()  # Y-axis: Average validation loss\n",
        "#print(\"key \",weight_decay_values)\n",
        "#print(\"value \",avg_validation_losses)\n",
        "\n",
        "#lambda regularization\n",
        "w = [0.0001000,\n",
        "0.0002154,\n",
        "0.0004642,\n",
        "0.0010000,\n",
        "0.0021544,\n",
        "0.0046416,\n",
        "0.0100000] \n",
        "\n",
        "\n",
        "# Plot the graph\n",
        "plt.plot(w, avg_validation_lossesM1, marker='o', linestyle='-', color='b', label=\"Validation Loss\")\n",
        "\n",
        "\n",
        "#ADD THE BEST \n",
        "\n",
        "print(f\"the best decay from the function above {best_weight_dacay1}\") \n",
        "#print(f\"the best weight_decay after plot graph\",best_weight_dacay) ### igot th\n",
        "######\n",
        "BEST_VALUE_LOSS = best_value_loss #CHANGE\n",
        "print(f\"the best VALUE LOSS {best_value_loss}\")    #CHANGE \n",
        "\n",
        "\n",
        "# Labels and title\n",
        "plt.xlabel(\"Weight Decay (L2 Regularization)\")\n",
        "plt.ylabel(\"Average Validation Loss\")\n",
        "plt.title(\"Effect of L2 Regularization on Validation Loss\")\n",
        "\n",
        "# Show legend and grid\n",
        "plt.legend()\n",
        "\n",
        "# Display the plot\n",
        "#plt.show()"
      ]
    },
    {
      "cell_type": "markdown",
      "metadata": {},
      "source": [
        "## Answer Q2\n",
        "\n",
        " \n",
        "The regualarization is used to prevent overfitting adding penalty to the weight. \n",
        " \n",
        "In my project I chose the L2 regularization with 7 differetn lambda parameter [0,0.00001,0.0001,0.001,0.01,0.1,1]\n",
        "\n",
        "All the results of the different test are been plotted on the graph. Unfortunatelly, as that the the results obtained between 0.00001 to 0.001 are all \n",
        "\n",
        "very close the graph does not show very well which is the best paramter. however, I printed out the result just above the graphs. Therefore for this \n",
        " \n",
        "model the best parameter is 0.00001. THIS MAKE SENSE BECAUSE THE GRAPH IN TASK 1 SHOWS THE THE OVERFITTING IN THIS MODEL IS VERY VERY LITTLE.\n",
        "\n",
        "\n",
        "\n",
        "\n",
        "\n"
      ]
    },
    {
      "cell_type": "markdown",
      "metadata": {
        "id": "JPZuBifCh7eM"
      },
      "source": [
        "### 3.  Learning curve experiment:  ***12 marks***\n",
        "\n",
        "Now train your model (with the amount of regularisation you selected) on different amounts of training data.\n",
        "\n",
        "Plot the performance (loss/error-rate) of the model on the validation set against the size of the training set.\n",
        "This is typically best done on a log-log plot.\n",
        "\n",
        "Describe the approximate relationship between the training set size and loss / error-rate.  Does the network performance appear to improve as some power of the amount of data in the training set?  If so, by what power ?\n",
        "\n",
        "For example, a very good rate of improvement is for error-rate to be proportional to $\\dfrac{1}{\\sqrt{n}}$ where $n$ is the training set size.  For your model, the rate of improvement of validation error with training set size may not be as fast as this (or it may, who knows?)  The aim of this exercise is to find out what it actually is."
      ]
    },
    {
      "cell_type": "markdown",
      "metadata": {
        "id": "kjGTSSIch7eJ"
      },
      "source": [
        "## Set up model\n",
        "\n",
        "Set up a Pytorch model (you may find it helpful to keep it simple and fast to train). Train on an intermediate-sized dataset (if you are using MNIST, say 2000 or 4000).\n",
        "\n",
        "\n",
        "Plot the loss and error rate as a function of training epochs.\n"
      ]
    },
    {
      "cell_type": "code",
      "execution_count": 24,
      "metadata": {
        "id": "mtvmRB_dh7eM"
      },
      "outputs": [
        {
          "name": "stdout",
          "output_type": "stream",
          "text": [
            "dataSize  500\n",
            "dataSize  1000\n",
            "dataSize  2000\n",
            "dataSize  4000\n",
            "dataSize  8000\n",
            "dataSize  16000\n",
            "dataSize  32000\n",
            "The most powerfull dataSize 32000\n"
          ]
        },
        {
          "data": {
            "text/plain": [
              "<matplotlib.legend.Legend at 0x1b6ad5ecc50>"
            ]
          },
          "execution_count": 24,
          "metadata": {},
          "output_type": "execute_result"
        },
        {
          "data": {
            "image/png": "[encoded data removed]",
            "text/plain": [
              "<Figure size 640x480 with 1 Axes>"
            ]
          },
          "metadata": {},
          "output_type": "display_data"
        }
      ],
      "source": [
        "#######\n",
        "#THIS IS Q3 PLOT ERROR RATE(LOG)\n",
        "#######\n",
        "# your code here\n",
        "\n",
        "array = []\n",
        "data_Size = [500,1000,2000,4000,8000,16000,32000]\n",
        "#data_Size = [500,1000]\n",
        "count = 0\n",
        "dist = []\n",
        "model1 = MODEL1()\n",
        "#print(f\"best decay in questiuon 3: {best_weight_dacay}\")\n",
        "for dt in data_Size:\n",
        "    num_epochs = epochsDimention\n",
        "    train_loader, val_loader = dataset(dt,seed)\n",
        "    print(\"dataSize \",dt)\n",
        "    train_losses,val_losses,results,result_val_error_wd = calculationErrorRate3(modle1,train_loader,val_loader,num_epochs,best_weight_dacay1)\n",
        "    tmp=list(result_val_error_wd.values())[0]  # Extracts the first (and only) value\n",
        "    array.append(tmp) # add ina array list\n",
        "\n",
        "\n",
        "\n",
        "#weight_decay_values = list(array.keys())  # X-axis: Weight decay values\n",
        "#avg_validation_losses = array.values()  # Y-axis: Average validation loss\n",
        " # Y-axis: Average validation loss\n",
        "\n",
        "#print(\"list\",array)  # Y-axis: Average validation loss\n",
        "indMin = np.where(array == np.min(array))[0]  # Get indices of min value\n",
        "n = indMin[0]\n",
        "#print(\"THE Min index\",indMin[0])\n",
        "print(\"The most powerfull dataSize\",data_Size[n])\n",
        "\n",
        "#evaluating the performance by 1/ np.sqrt(dataSize)\n",
        "for i in range(len(array)):\n",
        "    power = 1/np.sqrt(data_Size[i])\n",
        "    if(power == array[i]):\n",
        "        print(\"most powerFull\", array[i])\n",
        "    else:\n",
        "        #dist.append(np.abs(power - array[i]))\n",
        "        continue\n",
        "        #print(\"no equal: \",power)\n",
        "\n",
        "# Plot the graph\n",
        "plt.loglog(data_Size, array, marker='o', linestyle='-', color='b', label=\"Model 1\")\n",
        "\n",
        "\n",
        "# Labels and title\n",
        "plt.xlabel(\"Size of Training Set\")\n",
        "plt.ylabel(\"Average Error Rate\")\n",
        "plt.title(\"Representation of loglog\")\n",
        "\n",
        "# Show legend and grid\n",
        "plt.legend()\n",
        "\n",
        "\n"
      ]
    },
    {
      "cell_type": "markdown",
      "metadata": {},
      "source": [
        "## Answer Q3\n",
        "\n",
        "\n",
        "Describe the approximate relationship between the training set size and loss / error-rate.  Does the network performance appear to improve as some power of the amount of data in the training set?  If so, by what power ?\n",
        "\n",
        "\n",
        "For example, a very good rate of improvement is for error-rate to be proportional to $\\dfrac{1}{\\sqrt{n}}$ where $n$ is the training set size.  For your model, the rate of improvement of validation error with training set size may not be as fast as this (or it may, who knows?)  The aim of this exercise is to find out what it actually is.\n",
        "\n",
        "\n",
        "#######################################################################\n",
        "\n",
        "\n",
        "\n",
        "the approximate relationship  training set and error rate aim to evaluate different level of overfitting of a model in respect with the the dimention of training set. \n",
        "\n",
        "In base of my understarstanding  at a given model the overfitting tand to reduce(our case evaluated by the error rate of tha validation set) at the increases of trainig set(in term of size). \n",
        "\n",
        "\n",
        "In my situation the most powerfull is the one with the biggest dataset.\n",
        "Unfortunally, this can not e confirmed using the relation $\\dfrac{1}{\\sqrt{n}}$ as i did not find any model which performed good enough to reach an exact match but only a aproximation.  My approximation was calculated  $\\dfrac{1}{\\sqrt{n}}$ - average error rate.\n",
        " \n"
      ]
    },
    {
      "cell_type": "markdown",
      "metadata": {
        "id": "o52KUOn9h7eN"
      },
      "source": [
        "### 4. Second model:   *** 14 marks ***\n",
        "\n",
        "Devise what you believe to be a better neural network architecture for the problem (e.g. for MNIST you might use a fully-connected network for your initial model, and then try a convolutional net for your second model).\n",
        "\n",
        "Repeat sections 2 (regularisation experiment), and determine whether it has better validation set performance than the first model, for an intermediate size of training set (e.g. 2000 or 4000 for the MNIST data).\n",
        "\n",
        "Repeat section 3. Does your model have a different learning curve from the first? Plot the learning curves for the first and second model on the same graph, to compare them. Comment: is there a more rapid reduction of error-rate with training set size for your second model?  "
      ]
    },
    {
      "cell_type": "code",
      "execution_count": 13,
      "metadata": {},
      "outputs": [
        {
          "data": {
            "text/plain": [
              "\"'\\nclass MODLE2(nn.Module):\\n    def __init__(self):\\n        super(MODLE2, self).__init__()\\n        self.net = nn.Sequential(\\n            nn.Conv2d(1,6,3), # takes one input channel (greyscale), gives 6 output channes, each from a 3x3 convolutional neuron\\n            nn.ReLU())\\n            #nn.Conv2d(6,6,3), # takes 26 x 26 to 24 x 24\\n            #nn.ReLU(), \\n            #nn.MaxPool2d(2,2) )\\n\\n    def forward(self, x):\\n        return self.net( x )\\n\\n#model = SimpleCNN()\\n#print(model)'\\n\""
            ]
          },
          "execution_count": 13,
          "metadata": {},
          "output_type": "execute_result"
        }
      ],
      "source": [
        "########\n",
        "#THIS IS Q4 MODEL 2 \n",
        "#######\n",
        "#first choice\n",
        "''''\n",
        "class MODLE2(nn.Module):\n",
        "    def __init__(self):\n",
        "        super(MODLE2, self).__init__()\n",
        "        self.net = nn.Sequential(\n",
        "            nn.Conv2d(1,6,3), # takes one input channel (greyscale), gives 6 output channes, each from a 3x3 convolutional neuron\n",
        "            nn.ReLU())\n",
        "            #nn.Conv2d(6,6,3), # takes 26 x 26 to 24 x 24\n",
        "            #nn.ReLU(), \n",
        "            #nn.MaxPool2d(2,2) )\n",
        "\n",
        "    def forward(self, x):\n",
        "        return self.net( x )\n",
        "\n",
        "#model = SimpleCNN()\n",
        "#print(model)'\n",
        "'''"
      ]
    },
    {
      "cell_type": "code",
      "execution_count": 14,
      "metadata": {},
      "outputs": [
        {
          "data": {
            "text/plain": [
              "\"'\\nclass MODLE2(nn.Module):\\n    def __init__(self):\\n        super(MODLE2, self).__init__()\\n        self.net = nn.Sequential(\\n            nn.Conv2d(1, 6, 3),     # (1, 28, 28) → (6, 26, 26)\\n            nn.ReLU(),\\n            nn.Flatten(),           # → (batch_size, 6 * 26 * 26)\\n            nn.Linear(6 * 26 * 26, 10)\\n        )\\n\\n    def forward(self, x):\\n        return self.net(x)'\\n\""
            ]
          },
          "execution_count": 14,
          "metadata": {},
          "output_type": "execute_result"
        }
      ],
      "source": [
        "#second choice\n",
        "''''\n",
        "class MODLE2(nn.Module):\n",
        "    def __init__(self):\n",
        "        super(MODLE2, self).__init__()\n",
        "        self.net = nn.Sequential(\n",
        "            nn.Conv2d(1, 6, 3),     # (1, 28, 28) → (6, 26, 26)\n",
        "            nn.ReLU(),\n",
        "            nn.Flatten(),           # → (batch_size, 6 * 26 * 26)\n",
        "            nn.Linear(6 * 26 * 26, 10)\n",
        "        )\n",
        "\n",
        "    def forward(self, x):\n",
        "        return self.net(x)'\n",
        "'''"
      ]
    },
    {
      "cell_type": "code",
      "execution_count": 15,
      "metadata": {},
      "outputs": [],
      "source": [
        "class MODLE2(nn.Module):\n",
        "    def __init__(self):\n",
        "        super(MODLE2, self).__init__()\n",
        "        self.layers = nn.Sequential(\n",
        "        nn.Flatten(),\n",
        "        nn.Linear(784, 128),  # Hidden layer with 128 neurons\n",
        "        nn.ReLU(),\n",
        "        nn.Linear(128, 10))  \n",
        "    \n",
        "    def forward( self, x ): # computes the forward pass ... this one is particularly simple\n",
        "        x = self.layers( x )\n",
        "        return x\n"
      ]
    },
    {
      "cell_type": "code",
      "execution_count": 16,
      "metadata": {},
      "outputs": [
        {
          "name": "stdout",
          "output_type": "stream",
          "text": [
            "MODLE2(\n",
            "  (layers): Sequential(\n",
            "    (0): Flatten(start_dim=1, end_dim=-1)\n",
            "    (1): Linear(in_features=784, out_features=128, bias=True)\n",
            "    (2): ReLU()\n",
            "    (3): Linear(in_features=128, out_features=10, bias=True)\n",
            "  )\n",
            ")\n"
          ]
        }
      ],
      "source": [
        "n2 = MODLE2()\n",
        "print(n2)"
      ]
    },
    {
      "cell_type": "code",
      "execution_count": 17,
      "metadata": {},
      "outputs": [],
      "source": [
        "loss_Funciton = nn.CrossEntropyLoss()\n",
        "\n",
        "#loss_Funciton = nn.CrossEntropyLoss()\n",
        "optimizer = optim.Adam(MODLE2().parameters())\n",
        "#print(optimizer)"
      ]
    },
    {
      "cell_type": "code",
      "execution_count": 18,
      "metadata": {},
      "outputs": [],
      "source": [
        "#model2"
      ]
    },
    {
      "cell_type": "markdown",
      "metadata": {},
      "source": [
        "## import thig to do. the funciton must return also the best weigh_decay with the best validation loss.\n",
        "\n",
        "Repeat sections 2 (regularisation experiment), and determine whether it has better validation set performance than the first model, for an intermediate size of training set (e.g. 2000 or 4000 for the MNIST data)."
      ]
    },
    {
      "cell_type": "code",
      "execution_count": 19,
      "metadata": {},
      "outputs": [
        {
          "name": "stdout",
          "output_type": "stream",
          "text": [
            "the best decay from the function above 0.001\n",
            "the best weight_decay after plot graph 0.001\n",
            "the best VALUE LOSS 0.310082421164494\n"
          ]
        },
        {
          "data": {
            "text/plain": [
              "<matplotlib.legend.Legend at 0x1b6ace4c350>"
            ]
          },
          "execution_count": 19,
          "metadata": {},
          "output_type": "execute_result"
        },
        {
          "data": {
            "image/png": "[encoded data removed]",
            "text/plain": [
              "<Figure size 1000x500 with 1 Axes>"
            ]
          },
          "metadata": {},
          "output_type": "display_data"
        }
      ],
      "source": [
        "train_loader2, val_loader2 = dataset(dataDimention,seed)\n",
        "modle2 = MODLE2() \n",
        "train_losses2, val_lo2, results2, result_val_error_wd2, avg_val_losses2, best_weight_dacay2,best_value_loss2 = lossCalculation2(modle2,train_loader2, val_loader2, epochsDimention)\n",
        "\n",
        "# Plot results\n",
        "plt.figure(figsize=(10, 5))\n",
        "\n",
        "# Extract x and y values\n",
        "weight_decay_values2 = avg_val_losses2.keys()  # X-axis: Weight decay values\n",
        "avg_validation_lossesM2 = avg_val_losses2.values()  # Y-axis: Average validation loss\n",
        "#print(\"key \",weight_decay_values)\n",
        "#print(\"value \",avg_validation_losses)\n",
        "\n",
        "#lambda regularizations\n",
        "w = [0.0001000,\n",
        "0.0002154,\n",
        "0.0004642,\n",
        "0.0010000,\n",
        "0.0021544,\n",
        "0.0046416,\n",
        "0.0100000] \n",
        "\n",
        "\n",
        "# Plot the graph\n",
        "plt.plot(w, avg_validation_lossesM1, marker='o', linestyle='-', color='b', label=\"Validation Loss MODEL 1\")\n",
        "plt.plot(w, avg_validation_lossesM2, marker='o', linestyle='-', color='r', label=\"Validation Loss MODEL 2\")\n",
        "\n",
        "\n",
        "#ADD THE BEST \n",
        "\n",
        "print(f\"the best decay from the function above {best_weight_dacay1}\") ### igot th\n",
        "print(f\"the best weight_decay after plot graph\",best_weight_dacay2)\n",
        "######\n",
        "BEST_VALUE_LOSS2 = best_value_loss2\n",
        "print(f\"the best VALUE LOSS {best_value_loss2}\") # CHANGE THIS  \n",
        "\n",
        "\n",
        "# Labels and title\n",
        "plt.xlabel(\"Weight Decay (L2 Regularization)\")\n",
        "plt.ylabel(\"Average Validation Loss\")\n",
        "plt.title(\"Effect of L2 Regularization on Validation Loss\")\n",
        "\n",
        "# Show legend and grid\n",
        "plt.legend()\n",
        "\n",
        "# Display the plot\n",
        "#plt.show()"
      ]
    },
    {
      "cell_type": "code",
      "execution_count": 20,
      "metadata": {},
      "outputs": [
        {
          "data": {
            "text/plain": [
              "'\\nmodel2 = MODLE2()\\nmodel1 = MODEL1()\\nnum_epochs = epochsDimention\\ntrain_loader, val_loader = dataset(dataDimention,seed)\\n#train_losses, val_lo, results, result_val_error_wd, avg_val_losses, best_weight_dacay = lossCalculation2MyOne(train_loader, val_loader, num_epochs)\\ntrain_lossesM1, val_loM1, resultsM1, result_val_error_wdM1, avg_val_lossesM1, best_weight_dacayM1, best_value_lossM1 = lossCalculation2(model1,train_loader, val_loader, num_epochs)\\ntrain_lossesM2, val_loM2, resultsM2, result_val_error_wd, avg_val_lossesM2, best_weight_dacayM2, best_value_lossM2 = lossCalculation2(model2,train_loader, val_loader, num_epochs)\\n# Plot results\\nplt.figure(figsize=(10, 5))\\n\\n\\n# Extract x and y values\\nweight_decay_valuesM2 = avg_val_lossesM2.keys()  # X-axis: Weight decay values\\navg_validation_lossesM2 = avg_val_lossesM2.values()  # Y-axis: Average validation loss\\n\\nweight_decay_valuesM1 = avg_val_lossesM1.keys()  # X-axis: Weight decay values\\navg_validation_lossesM1 = avg_val_lossesM1.values()  # Y-axis: Average validation loss\\n\\n#print(\"key \",weight_decay_values)\\n#print(\"value \",avg_validation_losses)\\n\\n#lambda regularization\\nw = [0.0001000,\\n0.0002154,\\n0.0004642,\\n0.0010000,\\n0.0021544,\\n0.0046416,\\n0.0100000] \\n\\n\\n# Plot the graph\\nplt.plot(w, avg_validation_lossesM2, marker=\\'o\\', linestyle=\\'-\\', color=\\'r\\', label=\"Validation Loss M2\")\\nplt.plot(w, avg_validation_lossesM1, marker=\\'o\\', linestyle=\\'-\\', color=\\'b\\', label=\"Validation Loss M1\")\\n\\n\\n\\n#ADD THE BEST \\nprint(f\"the best weight_decay after plot graph M1 {best_weight_dacayM1}, the best weight_decay after plot graph M2 {best_weight_dacayM2}\")\\nprint(f\"best validatioN loss MODEL 1: {best_value_lossM1} best validation loss MODEL 2: {best_value_lossM2}\")\\n# Use a logarithmic scale for better visualization\\n#plt.xscale(\\'log\\')\\n\\n\\n\\n# Labels and title\\nplt.xlabel(\"Weight Decay (L2 Regularization)\")\\nplt.ylabel(\"Average Validation Loss\")\\nplt.title(\"Effect of L2 Regularization on Validation Loss\")\\n\\n# Show legend and grid\\nplt.legend()\\n\\n# Display the plot\\n#plt.show()\\'\\n'"
            ]
          },
          "execution_count": 20,
          "metadata": {},
          "output_type": "execute_result"
        }
      ],
      "source": [
        "#####\n",
        "#THIS IS Q4 LOSS PLOT OF MODEL 1 AND MODEL 2\n",
        "######\n",
        "\n",
        "\n",
        "###\n",
        "#THIS FUNTION HAS BEEN COVERED.\n",
        "#TIHS FUNCTION FOR SOME REASON HAS DIPENDENCY THAT AFFECT THE RESULT OF THE FIRST MODEL.\n",
        "#\n",
        "###\n",
        "'''\n",
        "model2 = MODLE2()\n",
        "model1 = MODEL1()\n",
        "num_epochs = epochsDimention\n",
        "train_loader, val_loader = dataset(dataDimention,seed)\n",
        "#train_losses, val_lo, results, result_val_error_wd, avg_val_losses, best_weight_dacay = lossCalculation2MyOne(train_loader, val_loader, num_epochs)\n",
        "train_lossesM1, val_loM1, resultsM1, result_val_error_wdM1, avg_val_lossesM1, best_weight_dacayM1, best_value_lossM1 = lossCalculation2(model1,train_loader, val_loader, num_epochs)\n",
        "train_lossesM2, val_loM2, resultsM2, result_val_error_wd, avg_val_lossesM2, best_weight_dacayM2, best_value_lossM2 = lossCalculation2(model2,train_loader, val_loader, num_epochs)\n",
        "# Plot results\n",
        "plt.figure(figsize=(10, 5))\n",
        "\n",
        "\n",
        "# Extract x and y values\n",
        "weight_decay_valuesM2 = avg_val_lossesM2.keys()  # X-axis: Weight decay values\n",
        "avg_validation_lossesM2 = avg_val_lossesM2.values()  # Y-axis: Average validation loss\n",
        "\n",
        "weight_decay_valuesM1 = avg_val_lossesM1.keys()  # X-axis: Weight decay values\n",
        "avg_validation_lossesM1 = avg_val_lossesM1.values()  # Y-axis: Average validation loss\n",
        "\n",
        "#print(\"key \",weight_decay_values)\n",
        "#print(\"value \",avg_validation_losses)\n",
        "\n",
        "#lambda regularization\n",
        "w = [0.0001000,\n",
        "0.0002154,\n",
        "0.0004642,\n",
        "0.0010000,\n",
        "0.0021544,\n",
        "0.0046416,\n",
        "0.0100000] \n",
        "\n",
        "\n",
        "# Plot the graph\n",
        "plt.plot(w, avg_validation_lossesM2, marker='o', linestyle='-', color='r', label=\"Validation Loss M2\")\n",
        "plt.plot(w, avg_validation_lossesM1, marker='o', linestyle='-', color='b', label=\"Validation Loss M1\")\n",
        "\n",
        "\n",
        "\n",
        "#ADD THE BEST \n",
        "print(f\"the best weight_decay after plot graph M1 {best_weight_dacayM1}, the best weight_decay after plot graph M2 {best_weight_dacayM2}\")\n",
        "print(f\"best validatioN loss MODEL 1: {best_value_lossM1} best validation loss MODEL 2: {best_value_lossM2}\")\n",
        "# Use a logarithmic scale for better visualization\n",
        "#plt.xscale('log')\n",
        "\n",
        "\n",
        "\n",
        "# Labels and title\n",
        "plt.xlabel(\"Weight Decay (L2 Regularization)\")\n",
        "plt.ylabel(\"Average Validation Loss\")\n",
        "plt.title(\"Effect of L2 Regularization on Validation Loss\")\n",
        "\n",
        "# Show legend and grid\n",
        "plt.legend()\n",
        "\n",
        "# Display the plot\n",
        "#plt.show()'\n",
        "'''"
      ]
    },
    {
      "cell_type": "markdown",
      "metadata": {},
      "source": [
        "\n",
        "# Answer Q4 part 1\n",
        "\n",
        "Repeat sections 2 (regularisation experiment), and determine whether it has better validation set performance than the first model, for an intermediate size of training set (e.g. 2000 or 4000 for the MNIST data).\n",
        "\n",
        "As you can see from the result on my graph the model 2 has an error rate higher than the model 1. This inidcating the the model 2 is more complex theanthe model 1. \n",
        "\n",
        "\n",
        "Therefore, ther model 1 is better then the model 2 in respect of this dataset."
      ]
    },
    {
      "cell_type": "markdown",
      "metadata": {},
      "source": [
        "\n",
        "## imprtant things to do. plost same gaph  log-log model1 with log-log-model2\n",
        "Repeat section 3. Does your model have a different learning curve from the first? Plot the learning curves for the first and second model on the same graph, to compare them. Comment: is there a more rapid reduction of error-rate with training set size for your second model? "
      ]
    },
    {
      "cell_type": "code",
      "execution_count": 21,
      "metadata": {},
      "outputs": [
        {
          "name": "stdout",
          "output_type": "stream",
          "text": [
            "MODLE2(\n",
            "  (layers): Sequential(\n",
            "    (0): Flatten(start_dim=1, end_dim=-1)\n",
            "    (1): Linear(in_features=784, out_features=128, bias=True)\n",
            "    (2): ReLU()\n",
            "    (3): Linear(in_features=128, out_features=10, bias=True)\n",
            "  )\n",
            ")\n",
            "dataSize  500\n",
            "dataSize  1000\n",
            "dataSize  2000\n",
            "dataSize  4000\n",
            "dataSize  8000\n",
            "dataSize  16000\n",
            "dataSize  32000\n",
            "The most powerfull dataSize 32000\n"
          ]
        },
        {
          "data": {
            "text/plain": [
              "<matplotlib.legend.Legend at 0x1b6a9566f30>"
            ]
          },
          "execution_count": 21,
          "metadata": {},
          "output_type": "execute_result"
        },
        {
          "data": {
            "image/png": "[encoded data removed]",
            "text/plain": [
              "<Figure size 640x480 with 1 Axes>"
            ]
          },
          "metadata": {},
          "output_type": "display_data"
        }
      ],
      "source": [
        "\n",
        "array2 = []\n",
        "data_Size = [500,1000,2000,4000,8000,16000,32000]\n",
        "#data_Size = [500,1000]\n",
        "count = 0\n",
        "dist = []\n",
        "model2 = MODLE2()\n",
        "print(model2)\n",
        "#print(f\"best decay in questiuon 3: {best_weight_dacay}\")\n",
        "for dt in data_Size:\n",
        "    num_epochs = epochsDimention\n",
        "    train_loader2, val_loader2 = dataset(dt,seed)\n",
        "    print(\"dataSize \",dt)\n",
        "    train_losses2,val_losses2,results2,result_val_error_wd2 = calculationErrorRate3(modle2,train_loader2,val_loader2,num_epochs,best_weight_dacay2)\n",
        "    tmp2=list(result_val_error_wd2.values())[0]  # Extracts the first (and only) value\n",
        "    array2.append(tmp2) # add ina array list\n",
        "\n",
        "\n",
        "\n",
        "#weight_decay_values = list(array.keys())  # X-axis: Weight decay values\n",
        "#avg_validation_losses = array.values()  # Y-axis: Average validation loss\n",
        " # Y-axis: Average validation loss\n",
        "\n",
        "#print(\"list\",array)  # Y-axis: Average validation loss\n",
        "indMin2 = np.where(array2 == np.min(array2))[0]  # Get indices of min value\n",
        "n = indMin2[0]\n",
        "#print(\"THE Min index\",indMin[0])\n",
        "print(\"The most powerfull dataSize\",data_Size[n])\n",
        "\n",
        "#evaluating the performance by 1/ np.sqrt(dataSize)\n",
        "for i in range(len(array2)):\n",
        "    power = 1/np.sqrt(data_Size[i])\n",
        "    if(power == array2[i]):\n",
        "        print(\"most powerFull\", array2[i])\n",
        "    else:\n",
        "        #dist.append(np.abs(power - array[i]))\n",
        "        continue\n",
        "        #print(\"no equal: \",power)\n",
        "\n",
        "# Plot the graph\n",
        "plt.loglog(data_Size, array, marker='o', linestyle='-', color='b', label=\"Model 1\")    \n",
        "plt.loglog(data_Size, array2, marker='o', linestyle='-', color='r', label=\"Model 2\")\n",
        "\n",
        "\n",
        "# Labels and title\n",
        "plt.xlabel(\"Size of Training Set\")\n",
        "plt.ylabel(\"Average Error Rate\")\n",
        "plt.title(\"Representation of loglog\")\n",
        "\n",
        "# Show legend and grid\n",
        "plt.legend()"
      ]
    },
    {
      "cell_type": "code",
      "execution_count": 22,
      "metadata": {},
      "outputs": [
        {
          "data": {
            "text/plain": [
              "'\\n#your code here\\narrayM1 = []\\narrayM2 = []\\ndata_Size = [500,1000,2000,4000,8000,16000,32000]\\n#data_Size = [500,1000]\\ncount = 0\\ndistM2 = []\\ndistM1 = []\\nmodel2 = MODLE2()\\nmodel1 = MODEL1()\\n\\nprint(f\"BEST DECAY MODEL 1: {best_weight_dacayM1}best decay MODEL 2: {best_weight_dacayM2}\")\\n\\nfor dt in data_Size:\\n    num_epochs = epochsDimention\\n    train_loader, val_loader = dataset(dt,seed)\\n    print(\"dataSize \",dt)\\n    train_losses1,val_losses1,results1,result_val_error_wd1 = calculationErrorRate3(model1,train_loader,val_loader,num_epochs,best_weight_dacayM1) # model 1\\n    train_losses1,val_losses1,results1,result_val_error_wd2 = calculationErrorRate3(model2,train_loader,val_loader,num_epochs,best_weight_dacayM2) # model 2\\n    \\n    \\n    tmpM1=list(result_val_error_wd1.values())[0]  # Extracts the first (and only) value\\n    arrayM1.append(tmpM1) # add ina array list\\n\\n    tmpM2=list(result_val_error_wd2.values())[0]  # Extracts the first (and only) value\\n    arrayM2.append(tmpM2) # add ina array list\\n\\n\\n#print average loss M1 and M2\\n#print(\"list M2\",arrayM2)  \\n#print(\"list M1\",arrayM1)\\n\\n#evaluating the performance by 1/ np.sqrt(dataSize)\\n#if no find substract the dis-pow and and return the minimum\\nfor i in range(len(arrayM2)):\\n    power = 1/np.sqrt(data_Size[i])\\n    if(power == arrayM2[i]):\\n        print(\"most powerFull\", arrayM2[i])\\n    else:\\n        distM2.append(np.abs(power - arrayM2[i]))\\n        #print(\"no equal: \",power)\\n\\n\\nfor i in range(len(arrayM1)):\\n    power = 1/np.sqrt(data_Size[i])\\n    if(power == arrayM1[i]):\\n        print(\"most powerFull\", arrayM1[i])\\n    else:\\n        #distM1.append(np.abs(power - arrayM1[i]))\\n        continue\\n        #print(\"no equal: \",power)\\n\\n\\n#extract min best dataseze for model 1\\nindMinModel1 = np.where(arrayM1 == np.min(arrayM1))[0]  # Get indices of min value\\nm1 = indMinModel1[0]\\n\\n#extract min best dataseze for model 1\\nindMinModel2 = np.where(arrayM2 == np.min(arrayM2))[0]  # Get indices of min value\\nm2 = indMinModel2[0]\\n#print(\"THE Min index\",indMin[0])\\nprint(f\"The most powerfull dataSize in Model 1: {data_Size[m1]} The most powerfull dataSize in Model : {data_Size[m2]}\")\\n\\n\\n# Plot the graph\\nplt.loglog(data_Size, arrayM1, marker=\\'o\\', linestyle=\\'-\\', color=\\'b\\', label=\"Model 1\")\\nplt.loglog(data_Size, arrayM2, marker=\\'o\\', linestyle=\\'-\\', color=\\'r\\', label=\"Model 2\")\\n\\n\\n# Labels and title\\nplt.xlabel(\"Size of Training Set\")\\nplt.ylabel(\"Average Error Rate\")\\nplt.title(\"Representation of loglog\")\\n\\n# Show legend and grid\\nplt.legend()\\n'"
            ]
          },
          "execution_count": 22,
          "metadata": {},
          "output_type": "execute_result"
        }
      ],
      "source": [
        "######## \n",
        "#THIS IS Q4 PLOT ERROR RATE(LOG) MODEL 1 AND MODEL 2\n",
        "########\n",
        "\n",
        "###\n",
        "#THIS FUNTION HAS BEEN COVERED.\n",
        "#TIHS FUNCTION FOR SOME REASON HAS DIPENDENCY THAT AFFECT THE RESULT OF THE FIRST MODEL.\n",
        "#\n",
        "###\n",
        "\n",
        "'''\n",
        "#your code here\n",
        "arrayM1 = []\n",
        "arrayM2 = []\n",
        "data_Size = [500,1000,2000,4000,8000,16000,32000]\n",
        "#data_Size = [500,1000]\n",
        "count = 0\n",
        "distM2 = []\n",
        "distM1 = []\n",
        "model2 = MODLE2()\n",
        "model1 = MODEL1()\n",
        "\n",
        "print(f\"BEST DECAY MODEL 1: {best_weight_dacayM1}best decay MODEL 2: {best_weight_dacayM2}\")\n",
        "\n",
        "for dt in data_Size:\n",
        "    num_epochs = epochsDimention\n",
        "    train_loader, val_loader = dataset(dt,seed)\n",
        "    print(\"dataSize \",dt)\n",
        "    train_losses1,val_losses1,results1,result_val_error_wd1 = calculationErrorRate3(model1,train_loader,val_loader,num_epochs,best_weight_dacayM1) # model 1\n",
        "    train_losses1,val_losses1,results1,result_val_error_wd2 = calculationErrorRate3(model2,train_loader,val_loader,num_epochs,best_weight_dacayM2) # model 2\n",
        "    \n",
        "    \n",
        "    tmpM1=list(result_val_error_wd1.values())[0]  # Extracts the first (and only) value\n",
        "    arrayM1.append(tmpM1) # add ina array list\n",
        "\n",
        "    tmpM2=list(result_val_error_wd2.values())[0]  # Extracts the first (and only) value\n",
        "    arrayM2.append(tmpM2) # add ina array list\n",
        "\n",
        "\n",
        "#print average loss M1 and M2\n",
        "#print(\"list M2\",arrayM2)  \n",
        "#print(\"list M1\",arrayM1)\n",
        "\n",
        "#evaluating the performance by 1/ np.sqrt(dataSize)\n",
        "#if no find substract the dis-pow and and return the minimum\n",
        "for i in range(len(arrayM2)):\n",
        "    power = 1/np.sqrt(data_Size[i])\n",
        "    if(power == arrayM2[i]):\n",
        "        print(\"most powerFull\", arrayM2[i])\n",
        "    else:\n",
        "        distM2.append(np.abs(power - arrayM2[i]))\n",
        "        #print(\"no equal: \",power)\n",
        "\n",
        "\n",
        "for i in range(len(arrayM1)):\n",
        "    power = 1/np.sqrt(data_Size[i])\n",
        "    if(power == arrayM1[i]):\n",
        "        print(\"most powerFull\", arrayM1[i])\n",
        "    else:\n",
        "        #distM1.append(np.abs(power - arrayM1[i]))\n",
        "        continue\n",
        "        #print(\"no equal: \",power)\n",
        "\n",
        "\n",
        "#extract min best dataseze for model 1\n",
        "indMinModel1 = np.where(arrayM1 == np.min(arrayM1))[0]  # Get indices of min value\n",
        "m1 = indMinModel1[0]\n",
        "\n",
        "#extract min best dataseze for model 1\n",
        "indMinModel2 = np.where(arrayM2 == np.min(arrayM2))[0]  # Get indices of min value\n",
        "m2 = indMinModel2[0]\n",
        "#print(\"THE Min index\",indMin[0])\n",
        "print(f\"The most powerfull dataSize in Model 1: {data_Size[m1]} The most powerfull dataSize in Model : {data_Size[m2]}\")\n",
        "\n",
        "\n",
        "# Plot the graph\n",
        "plt.loglog(data_Size, arrayM1, marker='o', linestyle='-', color='b', label=\"Model 1\")\n",
        "plt.loglog(data_Size, arrayM2, marker='o', linestyle='-', color='r', label=\"Model 2\")\n",
        "\n",
        "\n",
        "# Labels and title\n",
        "plt.xlabel(\"Size of Training Set\")\n",
        "plt.ylabel(\"Average Error Rate\")\n",
        "plt.title(\"Representation of loglog\")\n",
        "\n",
        "# Show legend and grid\n",
        "plt.legend()\n",
        "'''\n"
      ]
    },
    {
      "cell_type": "markdown",
      "metadata": {},
      "source": []
    },
    {
      "cell_type": "markdown",
      "metadata": {},
      "source": [
        "# Answer Q4 part 2\n",
        "\n",
        "Repeat section 3. Does your model have a different learning curve from the first? Plot the learning curves for the first and second model on the same graph, to compare them. Comment: is there a more rapid reduction of error-rate with training set size for your second model? \n",
        "\n",
        "\n",
        "After trained the model 1 and model 2 the graph shows thatr the model 1 has a rapid reduce of the error rate than the model 2. \n",
        "\n",
        "This is conrfim the model 1 respend mucch better in the of reducing overfitting than the model 2.\n"
      ]
    },
    {
      "cell_type": "markdown",
      "metadata": {},
      "source": []
    }
  ],
  "metadata": {
    "colab": {
      "provenance": []
    },
    "kernelspec": {
      "display_name": "Python 3",
      "language": "python",
      "name": "python3"
    },
    "language_info": {
      "codemirror_mode": {
        "name": "ipython",
        "version": 3
      },
      "file_extension": ".py",
      "mimetype": "text/x-python",
      "name": "python",
      "nbconvert_exporter": "python",
      "pygments_lexer": "ipython3",
      "version": "3.12.5"
    }
  },
  "nbformat": 4,
  "nbformat_minor": 0
}
